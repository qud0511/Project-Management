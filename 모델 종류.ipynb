{
 "cells": [
  {
   "cell_type": "markdown",
   "id": "2e996d83-009e-4d1f-84a2-82dffcf32d62",
   "metadata": {},
   "source": [
    "ARMA, ARIMA 모형 - 시계열 데이터\n",
    "LSTM - RNN 보안, 장기의존성 문제 해결\n",
    "GAN - 적대적 생성 모델, 딥페이크\n",
    "RL - 강화학습, 구글 딥마인드, 정해진 규칙이 없는 관계를 추론하는 것과 유사\n",
    "\n",
    "https://rubber-tree.tistory.com/m/entry/AI-%EB%A8%B8%EC%8B%A0%EB%9F%AC%EB%8B%9D-%EB%94%A5%EB%9F%AC%EB%8B%9D-%EC%9D%B4%EB%9E%80-%EA%B7%B8%EB%A6%AC%EA%B3%A0-%EB%94%A5%EB%9F%AC%EB%8B%9D-%EB%AA%A8%EB%8D%B8-%EC%A2%85%EB%A5%98"
   ]
  },
  {
   "cell_type": "code",
   "execution_count": null,
   "id": "f01b884b-7f23-4a56-bf4f-9ba6318ca580",
   "metadata": {},
   "outputs": [],
   "source": []
  }
 ],
 "metadata": {
  "kernelspec": {
   "display_name": "Python 3 (ipykernel)",
   "language": "python",
   "name": "python3"
  },
  "language_info": {
   "codemirror_mode": {
    "name": "ipython",
    "version": 3
   },
   "file_extension": ".py",
   "mimetype": "text/x-python",
   "name": "python",
   "nbconvert_exporter": "python",
   "pygments_lexer": "ipython3",
   "version": "3.9.13"
  }
 },
 "nbformat": 4,
 "nbformat_minor": 5
}

{
 "cells": [
  {
   "cell_type": "markdown",
   "id": "23831522",
   "metadata": {},
   "source": [
    "# 로컬 개발 코드\n",
    "- 로컬에서 주피터 노트북(Jupyter Notebook), 주피터 랩(JupyterLab) 또는 파이썬(Python)을 이용한다. \n",
    "- 사이킷 런(scikit-learn), 텐서플로우(tensorflow), 파이토치(pytorch)를 사용하여 딥러닝 프로그램을 개발한다.\n",
    "- 파일명: 0_local_image_classification.ipynb\n",
    "\n",
    "### 로컬 개발 워크플로우(workflow)  \n",
    "- 로컬 개발 워크플로우를 다음의 4단계로 분리한다.\n",
    "\n",
    "1. 데이터셋 준비(Data Setup)\n",
    "- 로컬 저장소에서 전처리 및 학습에 필요한 학습 데이터셋을 준비한다.\n",
    "\n",
    "2. 데이터 전처리(Data Preprocessing)\n",
    "- 데이터셋의 분석 및 정규화(Normalization)등의 전처리를 수행한다.\n",
    "- 데이터를 모델 학습에 사용할 수 있도록 가공한다.\n",
    "- 추론과정에서 필요한 경우, 데이터 전처리에 사용된 객체를 meta_data 폴더 아래에 저장한다.\n",
    "\n",
    "3. 학습 모델 훈련(Train Model)\n",
    "- 데이터를 훈련에 사용할 수 있도록 가공한 뒤에 학습 모델을 구성한다. \n",
    "- 학습 모델을 준비된 데이터셋으로 훈련시킨다.\n",
    "- 정확도(Accuracy)나 손실(Loss)등 학습 모델의 성능을 검증한다.\n",
    "- 학습 모델의 성능 검증 후, 학습 모델을 배포한다.\n",
    "- 배포할 학습 모델을 meta_data 폴더 아래에 저장한다.\n",
    "\n",
    "4. 추론(Inference)\n",
    "- 저장된 전처리 객체나 학습 모델 객체를 준비한다.\n",
    "- 추론에 필요한 테스트 데이터셋을 준비한다.\n",
    "- 배포된 학습 모델을 통해 테스트 데이터에 대한 추론을 진행한다. "
   ]
  },
  {
   "cell_type": "code",
   "execution_count": null,
   "id": "3c52bd1a-8bbe-425b-b5c2-e8e1870ebb70",
   "metadata": {},
   "outputs": [],
   "source": []
  },
  {
   "cell_type": "markdown",
   "id": "uqgsLn7tJG8w",
   "metadata": {
    "id": "uqgsLn7tJG8w"
   },
   "source": [
    "# 이미지 분류 (Image Classification)\n",
    "- 지금부터 이미지 데이터를 이용하여 분류 (classification)을 진행해보고자 한다."
   ]
  },
  {
   "cell_type": "code",
   "execution_count": null,
   "id": "5ee1752e-9174-4f05-8d33-173bad58cfa8",
   "metadata": {},
   "outputs": [],
   "source": []
  },
  {
   "cell_type": "markdown",
   "id": "4c067e6a-8187-4727-b55a-436b7d55b780",
   "metadata": {
    "id": "f259d225-d4f8-4965-9f6f-4cc6ccffd809"
   },
   "source": [
    "## 내가 그린 기린 그림은\n",
    "\n",
    "### 사용할 데이터\n",
    "\n",
    "![image](https://user-images.githubusercontent.com/84768279/153754287-1e970cc3-073b-49af-a2be-e4c3677773c3.png)\n",
    "\n",
    "- Google에서 제공하는 Open Dataset인 [quickdraw dataset](https://github.com/googlecreativelab/quickdraw-dataset) 이라는 낙서 이미지 데이터셋으로, 총 345개의 카테고리의 낙서들이 존재한다. 우리는 이 중에서 다음의 **10개**의 카테고리의 이미지 데이터들만 사용하고자 한다.\n",
    "- 해당 데이터셋은 단순한 이미지 형태의 데이터셋이 아닌 numpy 형태의 파일들로 이루어져있다.\n",
    "- 이미지 데이터셋이 어떻게 numpy 형태로 되어있는 것인지 확인하고 이해한다.\n",
    "\n",
    "### 사용할 10개의 낙서 카테고리\n",
    "- ant (개미)\n",
    "- apple (사과)\n",
    "- bus (버스)\n",
    "- butterfly (나비)\n",
    "- cup (컵)\n",
    "- envelope (봉투)\n",
    "- fish (물고기)\n",
    "- giraffe (기린)\n",
    "- lightbulb (전구)\n",
    "- pig (돼지)"
   ]
  },
  {
   "cell_type": "code",
   "execution_count": 1,
   "id": "178e030e",
   "metadata": {
    "vscode": {
     "languageId": "plaintext"
    }
   },
   "outputs": [],
   "source": [
    "# Imports\n",
    "import zipfile\n",
    "import numpy as np\n",
    "import cv2\n",
    "import pandas as pd\n",
    "%matplotlib inline\n",
    "import matplotlib.pyplot as plt\n",
    "from sklearn.model_selection import train_test_split\n",
    "from keras.utils import np_utils\n",
    "from tensorflow import keras\n",
    "from tensorflow.keras import layers"
   ]
  },
  {
   "cell_type": "markdown",
   "id": "fd1a6259-52f0-4f39-8264-0ba44e9fbd2b",
   "metadata": {},
   "source": [
    "## **1. 데이터셋 준비(Data Setup)**"
   ]
  },
  {
   "cell_type": "code",
   "execution_count": 2,
   "id": "2505e67f-d541-4d38-962b-5ee1d0ff11b9",
   "metadata": {
    "tags": []
   },
   "outputs": [],
   "source": [
    "# dataset.zip 파일 압축 풀기\n",
    "zip_source_path = './dataset.zip'\n",
    "zip_target_path = './meta_data'\n",
    "\n",
    "extract_zip_file = zipfile.ZipFile(zip_source_path)\n",
    "extract_zip_file.extractall(zip_target_path)\n",
    " \n",
    "extract_zip_file.close()"
   ]
  },
  {
   "cell_type": "code",
   "execution_count": 3,
   "id": "e3f3c77c-b61d-4061-b9a0-2ac61ed7213c",
   "metadata": {
    "id": "e3f3c77c-b61d-4061-b9a0-2ac61ed7213c"
   },
   "outputs": [],
   "source": [
    "my_path = './meta_data/dataset/'\n",
    "\n",
    "# 카테고리\n",
    "dataset=['ant','apple', 'bus', 'butterfly', 'cup', 'envelope','fish', 'giraffe', 'lightbulb','pig']\n",
    "dataset_num= len(dataset) #10\n",
    "\n",
    "# 경로에 있는 numpy를 load하고 dataset_numpy list에 추가한다. \n",
    "dataset_numpy = []\n",
    "for i in range (dataset_num):\n",
    "    ad = my_path + str(dataset[i]) +'.npy'\n",
    "    dataset_numpy.append(np.load(ad))"
   ]
  },
  {
   "cell_type": "markdown",
   "id": "de5f4b80-4561-4efe-84cd-0dbe80e5ca43",
   "metadata": {
    "id": "de5f4b80-4561-4efe-84cd-0dbe80e5ca43",
    "tags": []
   },
   "source": [
    "각 카테고리의 이미지 수와 이미지의 크기를 확인해보자. \n",
    "- 각 카테고리 => 각 numpy 파일\n",
    "- 각 numpy 파일의 shape => (이미지 수, 이미지의 크기)\n",
    "\n",
    "확인해보면, 각 파일(카테고리) 별로 이미지의 수는 다르지만, 각 이미지의 크기는 같음을 알 수 있다. 여기서 784는 numpy array의 크기를 말하는데, 28*28=784로, **28 * 28**  크기의 이미지이기 때문에 총 **784**개의 값을 각 이미지가 가지게 된다."
   ]
  },
  {
   "cell_type": "code",
   "execution_count": 4,
   "id": "4bfb0740-e9df-4da2-81dc-f9dc305facdc",
   "metadata": {
    "colab": {
     "base_uri": "https://localhost:8080/"
    },
    "id": "4bfb0740-e9df-4da2-81dc-f9dc305facdc",
    "outputId": "c299eeb0-e5b9-4700-ec03-eb1dc91bef14"
   },
   "outputs": [
    {
     "name": "stdout",
     "output_type": "stream",
     "text": [
      "( 이미지 수 , 이미지의 크기)\n",
      "(124612, 784)\n",
      "(144722, 784)\n",
      "(166208, 784)\n",
      "(117999, 784)\n",
      "(130721, 784)\n",
      "(134863, 784)\n",
      "(134150, 784)\n",
      "(127182, 784)\n",
      "(120879, 784)\n",
      "(186770, 784)\n"
     ]
    }
   ],
   "source": [
    "print(\"( 이미지 수 , 이미지의 크기)\")\n",
    "for i in range (dataset_num):\n",
    "    print(dataset_numpy[i].shape)"
   ]
  },
  {
   "cell_type": "markdown",
   "id": "d692a621-ec2a-478d-be5a-465d0d38a802",
   "metadata": {
    "id": "d692a621-ec2a-478d-be5a-465d0d38a802",
    "tags": []
   },
   "source": [
    "그런데 어떻게 numpy 파일이 이미지가 될 수 있을까?\n",
    "\n",
    "- 간단하게 말하자면, 28 * 28 크기의 이미지는 총 784개의 픽셀로 이루어져있는데, 각 픽셀의 색을 0~255의 값으로 표현할 수 있다. 그리고 그 값들을 하나의 배열로 표현한다면, numpy array가 되는 것이다. \n",
    "\n",
    "- 이해를 위해 아래를 보자. 아래는 Envelope(봉투) numpy 파일의 첫번째 값이다. 해당 array 값을 가로, 세로 각 각 28개씩 print할 경우, 0은 배경, 그 외의 값들은 선의 형태를 보임을 알 수 있다. "
   ]
  },
  {
   "cell_type": "code",
   "execution_count": 5,
   "id": "927968f7-0fba-4eee-bb3a-26a3e16689a1",
   "metadata": {
    "colab": {
     "base_uri": "https://localhost:8080/"
    },
    "id": "927968f7-0fba-4eee-bb3a-26a3e16689a1",
    "outputId": "22ff595c-cba5-4c90-c2a1-318bfec685e8",
    "tags": []
   },
   "outputs": [
    {
     "name": "stdout",
     "output_type": "stream",
     "text": [
      "[  0   0   0   0   0   0   0   0   0   0   0   0   0   0   0   0   0   0   0   0   0   0   0   0   0   0   0   0\n",
      "   0   0   0   0   0   0   0   0   0   0   0   0   0   0   0   0   0   0   0   0   0   0   0   0   0   0   0   0\n",
      "   0   0   0   0   0   0   0   0   0   0   0   0   0   0   0   0   0   0   0   0   0   0   0   0   0   0   0   0\n",
      "   0   0   0   0   0   0   0   0   0   0   0   0   0   0   0   0   0   0   0   0   0   0   0   0   0   0   0   0\n",
      "   0   0   0   0   0   0   0   0   0   0   0   0   0   0   0   0   0   0   0   0   0   0   0   0   0   0   0   0\n",
      "   0   0   0   0   0   0   0   0   0   0   0   0   0   0  11  17  26  34  34  37  51  51  51  66 112 123   1   0\n",
      "   0   0   0   0   0   0   1  29  63  97 132 166 200 235 255 255 255 255 255 255 255 255 255 255 255 255 117   0\n",
      "   0  12  78 138 180 215 248 255 255 255 247 213 179 145 110 102 102  85  85  85  74  68  68  69 215 255 101   0\n",
      "   0 122 255 249 199 164 130  96  61  27   1   0   0   0   0   0   0   0   0   0   0   0   1 164 252 255  94   0\n",
      "   0 120 255 250  59   0   0   0   0   0   0   0   0   0   0   0   0   0   0   0   0   0 115 255 116 255 113   0\n",
      "   0 116 255 213 230  25   0   0   0   0   0   0   0   0   0   0   0   0   0   0   0  30 245 165   0 255 121   0\n",
      "   0 113 255  44 239 198   6   0   0   0   0   0   0   0   0   0   0   0   0   0   0 171 242  25   3 255 119   0\n",
      "   0 110 255  11  77 253 146   0   0   0   0   0   0   0   0   0   0   0   0   0  66 255 114   0   5 255 116   0\n",
      "   0 107 255  14   0 131 255  97   0   0   0   0   0   0   0   0   0   0   0   4 210 214   5   0   8 255 114   0\n",
      "   0 104 255  18   0   2 183 245  62   0   0   0   0   0   0   0   0   0   0 112 255  68   0   0  10 255 112   0\n",
      "   0  98 255  25   0   0  17 206 246  77   0   0   0   0   0   0   0   0  23 240 173   0   0   0  12 255 109   0\n",
      "   0  68 255  58   0   0   0  12 187 252  98   0   0   0   0   0   0   0 159 246  32   0   0   0  15 255 107   0\n",
      "   0  30 255  96   0   0   0   0   9 179 254 112   0   0   0   0   0  56 254 127   0   0   0   0  17 255 104   0\n",
      "   0   1 245 134   0   0   0   0   0   4 162 255 151   6   0   0   4 203 222   9   0   0   0   0  19 255 102   0\n",
      "   0   0 209 172   0   0   0   0   0   0   1 125 254 227 110   0 148 254  77   0   0   0  41 118 196 255  96   0\n",
      "   0   0 173 236 219 224 170 170 139  99  54  14  62 182 255 194 255 129  14  67 143 220 255 253 199 121  11   0\n",
      "   0   0 105 241 250 244 204 207 240 255 255 255 228 221 239 255 243 237 255 255 243 173  97  22   0   0   0   0\n",
      "   0   0   0   0   0   0   0   0   0  29  70 113 149 153 153 179 155 141 109  67   7   0   0   0   0   0   0   0\n",
      "   0   0   0   0   0   0   0   0   0   0   0   0   0   0   0   0   0   0   0   0   0   0   0   0   0   0   0   0\n",
      "   0   0   0   0   0   0   0   0   0   0   0   0   0   0   0   0   0   0   0   0   0   0   0   0   0   0   0   0\n",
      "   0   0   0   0   0   0   0   0   0   0   0   0   0   0   0   0   0   0   0   0   0   0   0   0   0   0   0   0\n",
      "   0   0   0   0   0   0   0   0   0   0   0   0   0   0   0   0   0   0   0   0   0   0   0   0   0   0   0   0\n",
      "   0   0   0   0   0   0   0   0   0   0   0   0   0   0   0   0   0   0   0   0   0   0   0   0   0   0   0   0]\n"
     ]
    }
   ],
   "source": [
    "np.set_printoptions(linewidth=116)\n",
    "print(dataset_numpy[5][0])  # dataset_numpy[5] 가 envelope numpy 이다. 그중 0번째 array 값을 print 했다."
   ]
  },
  {
   "cell_type": "markdown",
   "id": "59bec4a9-ceee-4b83-8a19-c9e5e9e0b943",
   "metadata": {
    "id": "59bec4a9-ceee-4b83-8a19-c9e5e9e0b943",
    "tags": []
   },
   "source": [
    "### 배열을 이미지로 시각화\n",
    "\n",
    "앞에서 확인한 배열의 값을 더 잘 시각화 해보고자 한다. 각 카테고리 별로 5개의 이미지를 시각화 해보자."
   ]
  },
  {
   "cell_type": "code",
   "execution_count": 6,
   "id": "c853bab7-b29d-4dbc-af0d-5a2ad0280b01",
   "metadata": {
    "id": "c853bab7-b29d-4dbc-af0d-5a2ad0280b01"
   },
   "outputs": [],
   "source": [
    "def plot_samples(input_array, rows=1, cols=5, title=''):\n",
    "    fig, ax = plt.subplots(figsize=(cols,rows))\n",
    "    ax.axis('off')\n",
    "    plt.title(title)\n",
    "\n",
    "    for i in list(range(0, min(len(input_array),(rows*cols)) )):      \n",
    "        a = fig.add_subplot(rows,cols,i+1)\n",
    "        imgplot = plt.imshow(input_array[i].reshape((28,28)), cmap='gray_r')\n",
    "        plt.xticks([])\n",
    "        plt.yticks([])"
   ]
  },
  {
   "cell_type": "code",
   "execution_count": 7,
   "id": "b1854304-b9d9-4ad3-8d62-0e60062416f7",
   "metadata": {
    "colab": {
     "base_uri": "https://localhost:8080/",
     "height": 1000
    },
    "id": "b1854304-b9d9-4ad3-8d62-0e60062416f7",
    "outputId": "6d4eff3d-d70e-4069-c8b0-ecd407a9aef3",
    "tags": []
   },
   "outputs": [
    {
     "data": {
      "image/png": "[encoded data removed]",
      "text/plain": [
       "<Figure size 360x72 with 6 Axes>"
      ]
     },
     "metadata": {
      "needs_background": "light"
     },
     "output_type": "display_data"
    },
    {
     "data": {
      "image/png": "[encoded data removed]",
      "text/plain": [
       "<Figure size 360x72 with 6 Axes>"
      ]
     },
     "metadata": {
      "needs_background": "light"
     },
     "output_type": "display_data"
    },
    {
     "data": {
      "image/png": "[encoded data removed]",
      "text/plain": [
       "<Figure size 360x72 with 6 Axes>"
      ]
     },
     "metadata": {
      "needs_background": "light"
     },
     "output_type": "display_data"
    },
    {
     "data": {
      "image/png": "[encoded data removed]",
      "text/plain": [
       "<Figure size 360x72 with 6 Axes>"
      ]
     },
     "metadata": {
      "needs_background": "light"
     },
     "output_type": "display_data"
    },
    {
     "data": {
      "image/png": "[encoded data removed]",
      "text/plain": [
       "<Figure size 360x72 with 6 Axes>"
      ]
     },
     "metadata": {
      "needs_background": "light"
     },
     "output_type": "display_data"
    },
    {
     "data": {
      "image/png": "[encoded data removed]",
      "text/plain": [
       "<Figure size 360x72 with 6 Axes>"
      ]
     },
     "metadata": {
      "needs_background": "light"
     },
     "output_type": "display_data"
    },
    {
     "data": {
      "image/png": "[encoded data removed]",
      "text/plain": [
       "<Figure size 360x72 with 6 Axes>"
      ]
     },
     "metadata": {
      "needs_background": "light"
     },
     "output_type": "display_data"
    },
    {
     "data": {
      "image/png": "[encoded data removed]",
      "text/plain": [
       "<Figure size 360x72 with 6 Axes>"
      ]
     },
     "metadata": {
      "needs_background": "light"
     },
     "output_type": "display_data"
    },
    {
     "data": {
      "image/png": "[encoded data removed]",
      "text/plain": [
       "<Figure size 360x72 with 6 Axes>"
      ]
     },
     "metadata": {
      "needs_background": "light"
     },
     "output_type": "display_data"
    },
    {
     "data": {
      "image/png": "[encoded data removed]",
      "text/plain": [
       "<Figure size 360x72 with 6 Axes>"
      ]
     },
     "metadata": {
      "needs_background": "light"
     },
     "output_type": "display_data"
    }
   ],
   "source": [
    "for i in range (dataset_num):\n",
    "    plot_samples(dataset_numpy[i], title=dataset[i]+'\\n')"
   ]
  },
  {
   "cell_type": "markdown",
   "id": "c43e25e8-e9de-402a-942e-8a861332ea1d",
   "metadata": {
    "id": "c43e25e8-e9de-402a-942e-8a861332ea1d"
   },
   "source": [
    "## 2. 데이터 전처리 (Data Preprocessing)"
   ]
  },
  {
   "cell_type": "markdown",
   "id": "0c9133e6-5d21-467d-95a7-38b1608fed7b",
   "metadata": {
    "id": "0c9133e6-5d21-467d-95a7-38b1608fed7b"
   },
   "source": [
    "### 데이터 준비 (Preparing Data)\n",
    "\n",
    "앞서 확인하고 분석한 numpy array들을 훈련에 사용할 수 있는 형태로 바꾸고자 한다.\n",
    "\n",
    "- 데이터 정규화 (Normalization)\n",
    "  - 지금의 numpy 배열은 전부 0 ~ 255의 값을 가진다. 해당 값들을 전부 255로 나누어 0 ~ 1의 값을 가지도록 해준다.\n",
    "- 데이터 합치기 & 레이블 생성\n",
    "  - 지금 총 10개의 numpy array가 *dataset_numpy* list의 요소들로 존재한다. 이를 하나의 numpy array로 합쳐준다. (`concatenate`)\n",
    "  - numpy array는 입력 데이터(X)이다. 하지만 훈련을 위해서는 입력 데이터 뿐만 아니라 정답 데이터(Y), 즉 레이블 (label)이 존재해야한다. 레이블 array를 생성해준다. 레이블은 앞서 정의했던 *dataset* array의 값의 index로 한다.\n",
    "    - `dataset=['ant','apple', 'bus', 'butterfly', 'cup', 'envelope','fish', 'giraffe', 'lightbulb','pig']`\n",
    "- 훈련 (train) & 평가 (test) 데이터셋 생성\n",
    "  - 전체 데이터 중 일부는 훈련 (train)에 사용하고, 나머지 일부는 훈련된 모델의 성능을 평가 (test)하기 위해 사용하고자 한다. (`train_test_split`)\n",
    "- 모델 훈련에 사용할 수 있는 형태로 변경\n",
    "  - 입력 데이터 X는 numpy 배열의 차원을 바꿔준다. (`reshape`)\n",
    "  - 정답(레이블) 데이터 Y는 one-hot-encoding을 수행한다.\n",
    "    - One-hot-encoding: 0과 1로 데이터를 구별하는 인코딩이다. \n",
    "    - 본래 정답 데이터는 총 카테고리의 값이 10가지가 존재하므로 0에서 9의 숫자로 이루어져있다. 이를 one-hot-encoding으로 표현하면, 2의 label을 가지는 'bus'의 경우에 [0, 0, 1, 0, 0, 0, 0, 0, 0, 0]의 형태로 인코딩된다.\n",
    "    - Keras에서 one-hot-encoding 함수를 지원한다. (`to_categorical`)"
   ]
  },
  {
   "cell_type": "code",
   "execution_count": 8,
   "id": "b23ebefb-cd09-4362-9899-899a695f1f2a",
   "metadata": {
    "id": "b23ebefb-cd09-4362-9899-899a695f1f2a"
   },
   "outputs": [],
   "source": [
    "#각 카테고리별로 존재하는 이미지의 수가 다르다. \n",
    "#카테고리별로 같은 수의 이미지를 훈련시키기 위해 훈련시키고자 하는 이미지의 개수를 정해준다.\n",
    "idx = 1000"
   ]
  },
  {
   "cell_type": "markdown",
   "id": "9-4PTTUL4AuP",
   "metadata": {
    "id": "9-4PTTUL4AuP"
   },
   "source": [
    "#### 데이터 정규화 (Normalization) & 데이터 합치기 & 레이블 생성"
   ]
  },
  {
   "cell_type": "code",
   "execution_count": 9,
   "id": "0af53bc6-6f92-44f9-8aab-f021957c26a0",
   "metadata": {
    "id": "0af53bc6-6f92-44f9-8aab-f021957c26a0"
   },
   "outputs": [],
   "source": [
    "# X: 입력 이미지 배열 데이터\n",
    "# Y: 정답 레이블 데이터\n",
    "X = (dataset_numpy[0][:idx,:]/255.) #첫번째 카테고리의 numpy array 정규화\n",
    "Y = np.full(idx,0) #첫번째 카테고리의 정답 레이블 생성\n",
    "\n",
    "# 첫번째 카테고리와 같은 방식으로 정규화 및 정답 레이블 생성\n",
    "# 정규화된 입력 데이터와 새로 만든 정답 레이블 데이터를 각각 하나의 입력 데이터 배열, 정답 데이터 배열로 만들어준다..\n",
    "for i in range (1,dataset_num):\n",
    "    X = np.concatenate((X,dataset_numpy[i][:idx,:]/255.), axis=0).astype('float32')\n",
    "    Y = np.concatenate((Y,np.full(idx,i)), axis=0).astype('float32')"
   ]
  },
  {
   "cell_type": "markdown",
   "id": "1gSVYpED5Jqz",
   "metadata": {
    "id": "1gSVYpED5Jqz"
   },
   "source": [
    "##### 훈련 & 평가 데이터셋 생성\n",
    "\n",
    "전체 데이터셋 중 **8:2**의 비율로 훈련:평가 데이터셋을 생성한다."
   ]
  },
  {
   "cell_type": "code",
   "execution_count": 10,
   "id": "4a7dfefd-c272-44a2-a24a-2e4ebcea7694",
   "metadata": {
    "id": "4a7dfefd-c272-44a2-a24a-2e4ebcea7694"
   },
   "outputs": [],
   "source": [
    "X_train, X_test, Y_train, Y_test = train_test_split(X,Y,test_size=0.2,random_state=0)"
   ]
  },
  {
   "cell_type": "markdown",
   "id": "3p_hLjWF5oBp",
   "metadata": {
    "id": "3p_hLjWF5oBp"
   },
   "source": [
    "##### 모델 훈련에 사용할 수 있는 형태로 변경"
   ]
  },
  {
   "cell_type": "code",
   "execution_count": 11,
   "id": "6v9O-tgn0F2O",
   "metadata": {
    "id": "6v9O-tgn0F2O"
   },
   "outputs": [],
   "source": [
    "# X의 값을 [samples][pixels][width][height] 형태로 reshape한다.\n",
    "X_train_cnn = X_train.reshape(X_train.shape[0], 28, 28 , 1).astype('float32')\n",
    "X_test_cnn = X_test.reshape(X_test.shape[0], 28, 28 , 1).astype('float32')"
   ]
  },
  {
   "cell_type": "code",
   "execution_count": 12,
   "id": "iTwrfZ8-0Iyq",
   "metadata": {
    "colab": {
     "base_uri": "https://localhost:8080/"
    },
    "id": "iTwrfZ8-0Iyq",
    "outputId": "01814bbe-2358-483d-dc11-dfca538b097d"
   },
   "outputs": [
    {
     "name": "stdout",
     "output_type": "stream",
     "text": [
      "X_train: (8000, 784)\n",
      "X_train_cnn: (8000, 28, 28, 1)\n"
     ]
    }
   ],
   "source": [
    "# reshape된 결과 확인 및 원래 배열의 형태와 비교한다.\n",
    "print(\"X_train: \"+str(X_train.shape))\n",
    "print(\"X_train_cnn: \"+str(X_train_cnn.shape))"
   ]
  },
  {
   "cell_type": "code",
   "execution_count": 13,
   "id": "3c7642b9-fe49-4f55-9d26-01749c6e2643",
   "metadata": {
    "id": "3c7642b9-fe49-4f55-9d26-01749c6e2643"
   },
   "outputs": [],
   "source": [
    "# Y의 배열에 one-hot-encoding 진행\n",
    "Y_train_cnn = np_utils.to_categorical(Y_train)\n",
    "Y_test_cnn = np_utils.to_categorical(Y_test)\n",
    "num_classes = Y_test_cnn.shape[1] # class는 총 10개이다."
   ]
  },
  {
   "cell_type": "code",
   "execution_count": 14,
   "id": "UooH5HGd6ENf",
   "metadata": {
    "colab": {
     "base_uri": "https://localhost:8080/"
    },
    "id": "UooH5HGd6ENf",
    "outputId": "9edff139-71e2-433f-b3ed-90adeb3db216"
   },
   "outputs": [
    {
     "name": "stdout",
     "output_type": "stream",
     "text": [
      "Y_train: (8000,)\n",
      "Y_train_cnn: (8000, 10)\n",
      "class 개수: 10\n"
     ]
    }
   ],
   "source": [
    "# encoding된 결과 확인 및 원래 배열의 형태와 비교\n",
    "print(\"Y_train: \"+str(Y_train.shape))\n",
    "print(\"Y_train_cnn: \"+str(Y_train_cnn.shape))\n",
    "print(\"class 개수: \"+str(num_classes))"
   ]
  },
  {
   "cell_type": "markdown",
   "id": "8ee2a19f-67ae-48d6-83c8-5eacff3813ca",
   "metadata": {
    "id": "8ee2a19f-67ae-48d6-83c8-5eacff3813ca"
   },
   "source": [
    "## **3. 학습 모델 훈련 (Train Model)**\n",
    "\n",
    "이미지 분류를 위해 아주 간단한 CNN 모델을 Keras를 이용하여 구축하고자 한다."
   ]
  },
  {
   "cell_type": "code",
   "execution_count": 15,
   "id": "a0dea8a7-2624-424b-9596-1b591f5ef6f8",
   "metadata": {
    "colab": {
     "base_uri": "https://localhost:8080/"
    },
    "id": "a0dea8a7-2624-424b-9596-1b591f5ef6f8",
    "outputId": "343ae838-4256-4300-bb75-d956466f0438"
   },
   "outputs": [
    {
     "name": "stdout",
     "output_type": "stream",
     "text": [
      "Model: \"sequential\"\n",
      "_________________________________________________________________\n",
      " Layer (type)                Output Shape              Param #   \n",
      "=================================================================\n",
      " conv2d (Conv2D)             (None, 28, 28, 32)        320       \n",
      "                                                                 \n",
      " conv2d_1 (Conv2D)           (None, 28, 28, 64)        18496     \n",
      "                                                                 \n",
      " dropout (Dropout)           (None, 28, 28, 64)        0         \n",
      "                                                                 \n",
      " conv2d_2 (Conv2D)           (None, 28, 28, 64)        36928     \n",
      "                                                                 \n",
      " max_pooling2d (MaxPooling2D  (None, 14, 14, 64)       0         \n",
      " )                                                               \n",
      "                                                                 \n",
      " flatten (Flatten)           (None, 12544)             0         \n",
      "                                                                 \n",
      " dense (Dense)               (None, 32)                401440    \n",
      "                                                                 \n",
      " dropout_1 (Dropout)         (None, 32)                0         \n",
      "                                                                 \n",
      " dense_1 (Dense)             (None, 10)                330       \n",
      "                                                                 \n",
      "=================================================================\n",
      "Total params: 457,514\n",
      "Trainable params: 457,514\n",
      "Non-trainable params: 0\n",
      "_________________________________________________________________\n"
     ]
    }
   ],
   "source": [
    "#모델 구축\n",
    "model = keras.Sequential(\n",
    "    [\n",
    "        layers.Input(shape=(28,28,1)),\n",
    "        layers.Conv2D(32, kernel_size=(3, 3), padding='same', activation=\"relu\"),\n",
    "        layers.Conv2D(64, kernel_size=(3, 3), padding='same', activation=\"relu\"),\n",
    "        layers.Dropout(0.25),\n",
    "        layers.Conv2D(64, kernel_size=(3, 3), padding='same', activation=\"relu\"),\n",
    "        layers.MaxPooling2D(pool_size=(2, 2)),\n",
    "        layers.Flatten(),\n",
    "        layers.Dense(32, activation=\"relu\"),\n",
    "        layers.Dropout(0.25),\n",
    "        layers.Dense(num_classes, activation=\"softmax\")\n",
    "    ]\n",
    ")\n",
    "\n",
    "model.summary() #모델층 (layer) 정보 확인"
   ]
  },
  {
   "cell_type": "markdown",
   "id": "0d590e79-1916-4700-b50d-63322b892487",
   "metadata": {
    "id": "0d590e79-1916-4700-b50d-63322b892487"
   },
   "source": [
    "### 모델 컴파일 및 학습 (Compile and Train Model)\n",
    "\n",
    "- 모델 컴파일 (Compile Model)\n",
    "  - Keras의 compile 함수를 통해 모델의 optimizer, loss, 그리고 metrics를 선택할 수 있다.\n",
    "  - Loss: categoriacal_crossentropy\n",
    "    - 우리는 레이블로 one-hot-encoding을 사용했으므로 loss로 'categorical_crossentropy'를 사용한다.\n",
    "- 모델 학습 (Train Model)\n",
    "  - 앞서 구축한 모델을 준비해준 입력 데이터와 레이블 데이터로 학습시킨다."
   ]
  },
  {
   "cell_type": "markdown",
   "id": "_gtOo9S18ZB8",
   "metadata": {
    "id": "_gtOo9S18ZB8"
   },
   "source": [
    "##### 모델 컴파일 (Compile Model)"
   ]
  },
  {
   "cell_type": "code",
   "execution_count": 16,
   "id": "LFpchduY8dgq",
   "metadata": {
    "id": "LFpchduY8dgq"
   },
   "outputs": [],
   "source": [
    "model.compile(loss=\"categorical_crossentropy\", optimizer=\"adam\", metrics=[\"accuracy\"])"
   ]
  },
  {
   "cell_type": "markdown",
   "id": "-VAAPRXD8ew_",
   "metadata": {
    "id": "-VAAPRXD8ew_"
   },
   "source": [
    "##### 모델 학습 (Train Model)"
   ]
  },
  {
   "cell_type": "code",
   "execution_count": 17,
   "id": "d9103380-8e79-446a-a497-fab2d2b8c0e9",
   "metadata": {
    "colab": {
     "base_uri": "https://localhost:8080/"
    },
    "id": "d9103380-8e79-446a-a497-fab2d2b8c0e9",
    "outputId": "9e7a272a-3b17-4ca4-ca5d-f0f78e56ea3b",
    "scrolled": false
   },
   "outputs": [
    {
     "name": "stdout",
     "output_type": "stream",
     "text": [
      "Epoch 1/20\n",
      "128/128 [==============================] - 8s 12ms/step - loss: 1.2658 - accuracy: 0.5903 - val_loss: 0.6452 - val_accuracy: 0.8094\n",
      "Epoch 2/20\n",
      "128/128 [==============================] - 1s 10ms/step - loss: 0.7228 - accuracy: 0.7748 - val_loss: 0.4660 - val_accuracy: 0.8650\n",
      "Epoch 3/20\n",
      "128/128 [==============================] - 1s 9ms/step - loss: 0.5251 - accuracy: 0.8342 - val_loss: 0.3743 - val_accuracy: 0.8950\n",
      "Epoch 4/20\n",
      "128/128 [==============================] - 1s 10ms/step - loss: 0.4513 - accuracy: 0.8534 - val_loss: 0.3859 - val_accuracy: 0.8838\n",
      "Epoch 5/20\n",
      "128/128 [==============================] - 1s 9ms/step - loss: 0.3681 - accuracy: 0.8795 - val_loss: 0.4062 - val_accuracy: 0.8813\n",
      "Epoch 6/20\n",
      "128/128 [==============================] - 1s 11ms/step - loss: 0.3222 - accuracy: 0.8905 - val_loss: 0.3650 - val_accuracy: 0.8981\n",
      "Epoch 7/20\n",
      "128/128 [==============================] - 1s 10ms/step - loss: 0.2762 - accuracy: 0.9047 - val_loss: 0.3816 - val_accuracy: 0.8906\n",
      "Epoch 8/20\n",
      "128/128 [==============================] - 1s 10ms/step - loss: 0.2708 - accuracy: 0.9000 - val_loss: 0.3742 - val_accuracy: 0.8900\n",
      "Epoch 9/20\n",
      "128/128 [==============================] - 1s 10ms/step - loss: 0.2159 - accuracy: 0.9233 - val_loss: 0.3972 - val_accuracy: 0.8975\n",
      "Epoch 10/20\n",
      "128/128 [==============================] - 1s 9ms/step - loss: 0.2064 - accuracy: 0.9256 - val_loss: 0.4083 - val_accuracy: 0.9069\n",
      "Epoch 11/20\n",
      "128/128 [==============================] - 1s 9ms/step - loss: 0.1875 - accuracy: 0.9302 - val_loss: 0.4120 - val_accuracy: 0.8981\n",
      "Epoch 12/20\n",
      "128/128 [==============================] - 1s 9ms/step - loss: 0.1659 - accuracy: 0.9373 - val_loss: 0.4385 - val_accuracy: 0.9050\n",
      "Epoch 13/20\n",
      "128/128 [==============================] - 1s 9ms/step - loss: 0.1733 - accuracy: 0.9344 - val_loss: 0.4361 - val_accuracy: 0.8981\n",
      "Epoch 14/20\n",
      "128/128 [==============================] - 1s 9ms/step - loss: 0.1507 - accuracy: 0.9450 - val_loss: 0.4544 - val_accuracy: 0.8994\n",
      "Epoch 15/20\n",
      "128/128 [==============================] - 1s 10ms/step - loss: 0.1485 - accuracy: 0.9450 - val_loss: 0.4710 - val_accuracy: 0.9006\n",
      "Epoch 16/20\n",
      "128/128 [==============================] - 1s 9ms/step - loss: 0.1401 - accuracy: 0.9495 - val_loss: 0.5031 - val_accuracy: 0.8919\n",
      "Epoch 17/20\n",
      "128/128 [==============================] - 1s 9ms/step - loss: 0.1313 - accuracy: 0.9505 - val_loss: 0.5232 - val_accuracy: 0.8919\n",
      "Epoch 18/20\n",
      "128/128 [==============================] - 1s 10ms/step - loss: 0.1254 - accuracy: 0.9536 - val_loss: 0.5623 - val_accuracy: 0.8988\n",
      "Epoch 19/20\n",
      "128/128 [==============================] - 3s 21ms/step - loss: 0.1243 - accuracy: 0.9544 - val_loss: 0.4731 - val_accuracy: 0.8988\n",
      "Epoch 20/20\n",
      "128/128 [==============================] - 4s 28ms/step - loss: 0.1136 - accuracy: 0.9602 - val_loss: 0.5266 - val_accuracy: 0.9025\n"
     ]
    },
    {
     "data": {
      "text/plain": [
       "<keras.callbacks.History at 0x22587a3c8e0>"
      ]
     },
     "execution_count": 17,
     "metadata": {},
     "output_type": "execute_result"
    }
   ],
   "source": [
    "batch_size = 50\n",
    "epochs = 20\n",
    "\n",
    "model.fit(X_train_cnn, Y_train_cnn, batch_size=batch_size, epochs=epochs, validation_split=0.2)"
   ]
  },
  {
   "cell_type": "markdown",
   "id": "d2448471-996d-425e-8130-aca498eb8e5f",
   "metadata": {
    "id": "d2448471-996d-425e-8130-aca498eb8e5f"
   },
   "source": [
    "### 모델 평가 (Evaluate Model)"
   ]
  },
  {
   "cell_type": "code",
   "execution_count": 18,
   "id": "89b37384-4b04-4742-8e6c-c5e57ed9f0c8",
   "metadata": {
    "id": "89b37384-4b04-4742-8e6c-c5e57ed9f0c8"
   },
   "outputs": [],
   "source": [
    "loss, acc = model.evaluate(X_test_cnn, Y_test_cnn, verbose=0)"
   ]
  },
  {
   "cell_type": "code",
   "execution_count": 19,
   "id": "948d9119-40ce-466b-b10e-c3073fc90002",
   "metadata": {
    "colab": {
     "base_uri": "https://localhost:8080/"
    },
    "id": "948d9119-40ce-466b-b10e-c3073fc90002",
    "outputId": "be622e5c-f702-416e-b74a-9b493e02688f"
   },
   "outputs": [
    {
     "name": "stdout",
     "output_type": "stream",
     "text": [
      "loss:0.6104413866996765 accuracy: 0.8855000138282776\n"
     ]
    }
   ],
   "source": [
    "print(\"loss:\" + str(loss)+ \" accuracy: \" + str(acc))"
   ]
  },
  {
   "cell_type": "markdown",
   "id": "d46de9ff-fdb3-40f0-a40e-ddee8afbfd46",
   "metadata": {
    "id": "d46de9ff-fdb3-40f0-a40e-ddee8afbfd46"
   },
   "source": [
    "## **4. 추론 (Inference)**\n",
    "\n",
    "훈련시킨 모델을 직접 사용해보고자 한다. 잘 훈련된 모델이라면 우리가 직접 그린 낙서를 입력 데이터로 주었을 때, 그 낙서의 카테고리를 결과값으로 모델이 내보낼 것이다. 그 과정을 진행해보고자 한다.\n",
    "\n",
    "- 이미지 생성\n",
    "- 이미지를 모델의 입력 데이터 형태로 변환\n",
    "- 결과 확인"
   ]
  },
  {
   "cell_type": "markdown",
   "id": "9_QmyD1J9fR6",
   "metadata": {
    "id": "9_QmyD1J9fR6"
   },
   "source": [
    "##### 이미지 생성\n",
    "예제에서는 미리 준비해둔 이미지 파일을 대신 받아 추론을 진행해보고자 한다.\n",
    "\n",
    "실제 사용자가 자신의 이미지를 만들어 실행해볼 수도 있다.\n",
    "\n",
    "- 이미지 생성법\n",
    "  1. 그림판 - 파일 - 이미지 속성 에서 너비(W)/높이(H)의 값을 각각 28로 설정한다. \n",
    "  2. 28 * 28 크기의 캔버스에 도구 - 연필 (1px) 을 이용하여 카테고리에 맞는 그림을 그린다. 카테고리로는 다음과 같은 것들이 있다.\n",
    "    - ant (개미)\n",
    "    - apple (사과)\n",
    "    - bus (버스)\n",
    "    - butterfly (나비)\n",
    "    - cup (컵)\n",
    "    - envelope (봉투)\n",
    "    - fish (물고기)\n",
    "    - giraffe (기린)\n",
    "    - lightbulb (전구)\n",
    "    - pig (돼지)"
   ]
  },
  {
   "cell_type": "code",
   "execution_count": 20,
   "id": "91bfb4aa-7b4a-40bd-8f8a-6d018b6edf9c",
   "metadata": {
    "id": "86neoEfLIGFX",
    "tags": []
   },
   "outputs": [],
   "source": [
    "# dataset.zip 파일을 dataset 폴더에 압축을 풀어준다.\n",
    "zip_source_path = './test_dataset.zip'\n",
    "zip_target_path = './meta_data'\n",
    "\n",
    "extract_zip_file = zipfile.ZipFile(zip_source_path)\n",
    "extract_zip_file.extractall(zip_target_path)\n",
    " \n",
    "extract_zip_file.close()"
   ]
  },
  {
   "cell_type": "markdown",
   "id": "AzpDECSy-5gb",
   "metadata": {
    "id": "AzpDECSy-5gb"
   },
   "source": [
    "##### 이미지를 모델의 입력 데이터 형태로 변환\n",
    "- 이미지 데이터를 읽어온다.\n",
    "- numpy array 형태로 변형시켜준 뒤, 정규화를 실시한다."
   ]
  },
  {
   "cell_type": "code",
   "execution_count": 21,
   "id": "b3776aaf-3ccb-480c-bdbb-5e69a09e48e2",
   "metadata": {
    "colab": {
     "base_uri": "https://localhost:8080/",
     "height": 282
    },
    "id": "b3776aaf-3ccb-480c-bdbb-5e69a09e48e2",
    "outputId": "8680ad5b-8e60-4b80-9658-65aeb3a21474"
   },
   "outputs": [
    {
     "data": {
      "text/plain": [
       "<matplotlib.image.AxesImage at 0x225fbe256a0>"
      ]
     },
     "execution_count": 21,
     "metadata": {},
     "output_type": "execute_result"
    },
    {
     "data": {
      "image/png": "[encoded data removed]",
      "text/plain": [
       "<Figure size 432x288 with 1 Axes>"
      ]
     },
     "metadata": {
      "needs_background": "light"
     },
     "output_type": "display_data"
    }
   ],
   "source": [
    "my_path='./meta_data/test_dataset/'\n",
    "\n",
    "image_name = 'my_ant.png'\n",
    "img = cv2.imread(my_path + image_name, cv2.IMREAD_GRAYSCALE)\n",
    "ret , binary = cv2.threshold(img,200,255,cv2.THRESH_BINARY_INV)\n",
    "my_image = np.asarray(cv2.resize(binary, dsize=(28, 28), interpolation=cv2.INTER_AREA))/255\n",
    "\n",
    "#입력 이미지 확인\n",
    "plt.axis('off')\n",
    "plt.title('I draw')\n",
    "plt.imshow(my_image, cmap='gray_r')"
   ]
  },
  {
   "cell_type": "markdown",
   "id": "HQYBSq4M_368",
   "metadata": {
    "id": "HQYBSq4M_368"
   },
   "source": [
    "##### 결과 확인\n",
    "\n",
    "입력 데이터를 모델에 넣었을 때, 결과값이 하나의 숫자로 나오는 것이 아닌 총 10개의 카테고리에 대한 신뢰도 (confidence)를 전부 보여준다. 우리는 이 중에서 가장 큰 신뢰도를 보이는 레이블, 즉 모델이 가장 정답으로 확신하는 답을 print해서 보여주고자 한다."
   ]
  },
  {
   "cell_type": "code",
   "execution_count": 22,
   "id": "bdd39f94-38a5-458e-b284-4d4d55ba3966",
   "metadata": {
    "colab": {
     "base_uri": "https://localhost:8080/"
    },
    "id": "bdd39f94-38a5-458e-b284-4d4d55ba3966",
    "outputId": "229f498a-b763-49ca-eaf4-de8ba39c0557"
   },
   "outputs": [
    {
     "name": "stdout",
     "output_type": "stream",
     "text": [
      "1/1 [==============================] - 0s 172ms/step\n",
      "ant\n"
     ]
    }
   ],
   "source": [
    "# 모델 입력 데이터로 사용하기 위해 reshape \n",
    "input_image_data = (my_image.reshape(-1, 28, 28, 1))\n",
    "\n",
    "# 추론\n",
    "predict_result = model.predict(input_image_data)\n",
    "\n",
    "#결과 확인\n",
    "# np.argmax는 배열 중 가장 큰 값의 인덱스를 반환해준다.\n",
    "print(dataset[np.argmax(predict_result[0])])"
   ]
  },
  {
   "cell_type": "markdown",
   "id": "GvjivQUNDFAf",
   "metadata": {
    "id": "GvjivQUNDFAf"
   },
   "source": [
    "다른 이미지들에 대해서도 확인해보자."
   ]
  },
  {
   "cell_type": "code",
   "execution_count": 23,
   "id": "6Gkck_t_C3J3",
   "metadata": {
    "colab": {
     "base_uri": "https://localhost:8080/",
     "height": 158
    },
    "id": "6Gkck_t_C3J3",
    "outputId": "b7877e87-4633-4dc0-d425-402fbc52e568"
   },
   "outputs": [
    {
     "data": {
      "image/png": "[encoded data removed]",
      "text/plain": [
       "<Figure size 360x144 with 11 Axes>"
      ]
     },
     "metadata": {
      "needs_background": "light"
     },
     "output_type": "display_data"
    }
   ],
   "source": [
    "image_name = 'my_ant.png'\n",
    "img = cv2.imread(my_path + image_name, cv2.IMREAD_GRAYSCALE)\n",
    "ret , binary = cv2.threshold(img,200,255,cv2.THRESH_BINARY_INV)\n",
    "my_image = np.asarray(cv2.resize(binary, dsize=(28, 28), interpolation=cv2.INTER_AREA)).reshape(-1,784)\n",
    "\n",
    "for i in range (1, len(dataset)):\n",
    "    image_name = 'my_' + str(dataset[i]) + '.png'\n",
    "    img = cv2.imread(my_path + image_name, cv2.IMREAD_GRAYSCALE)\n",
    "    ret , binary = cv2.threshold(img,200,255,cv2.THRESH_BINARY_INV)\n",
    "    my_image_2 = np.asarray(cv2.resize(binary, dsize=(28,28), interpolation=cv2.INTER_AREA)).reshape(-1,784)\n",
    "    my_image = np.concatenate((my_image, my_image_2), axis = 0)\n",
    "\n",
    "plot_samples(my_image, rows = 2, cols = 5, title = 'input')"
   ]
  },
  {
   "cell_type": "code",
   "execution_count": 24,
   "id": "d6RJanHVC6ov",
   "metadata": {
    "colab": {
     "base_uri": "https://localhost:8080/"
    },
    "id": "d6RJanHVC6ov",
    "outputId": "cc7f33cb-1954-4b02-fcda-63839bd7a85f"
   },
   "outputs": [
    {
     "name": "stdout",
     "output_type": "stream",
     "text": [
      "1/1 [==============================] - 0s 60ms/step\n",
      "\t\t\tLABELS : ['ant', 'apple', 'bus', 'butterfly', 'cup', 'envelope', 'fish', 'giraffe', 'lightbulb', 'pig']\n",
      "prediction : ant\tpossibility : ['1.000', '0.000', '0.000', '0.000', '0.000', '0.000', '0.000', '0.000', '0.000', '0.000']\n",
      "prediction : apple\tpossibility : ['0.000', '1.000', '0.000', '0.000', '0.000', '0.000', '0.000', '0.000', '0.000', '0.000']\n",
      "prediction : bus\tpossibility : ['0.000', '0.000', '1.000', '0.000', '0.000', '0.000', '0.000', '0.000', '0.000', '0.000']\n",
      "prediction : butterfly\tpossibility : ['0.003', '0.000', '0.000', '0.997', '0.000', '0.000', '0.000', '0.000', '0.000', '0.000']\n",
      "prediction : cup\tpossibility : ['0.000', '0.000', '0.000', '0.000', '1.000', '0.000', '0.000', '0.000', '0.000', '0.000']\n",
      "prediction : envelope\tpossibility : ['0.000', '0.000', '0.000', '0.000', '0.000', '1.000', '0.000', '0.000', '0.000', '0.000']\n",
      "prediction : fish\tpossibility : ['0.062', '0.004', '0.000', '0.189', '0.000', '0.001', '0.737', '0.000', '0.005', '0.003']\n",
      "prediction : giraffe\tpossibility : ['0.000', '0.000', '0.000', '0.000', '0.000', '0.000', '0.000', '1.000', '0.000', '0.000']\n",
      "prediction : lightbulb\tpossibility : ['0.000', '0.000', '0.000', '0.000', '0.000', '0.000', '0.000', '0.000', '1.000', '0.000']\n",
      "prediction : pig\tpossibility : ['0.000', '0.000', '0.000', '0.000', '0.001', '0.000', '0.000', '0.000', '0.000', '0.999']\n"
     ]
    }
   ],
   "source": [
    "# 모델 입력 데이터로 사용하기 위해 reshape \n",
    "my_image_norm = (my_image/255).astype('float32')\n",
    "input_image_data = (my_image_norm.reshape(my_image_norm.shape[0], 28, 28, 1))\n",
    "\n",
    "# 추론\n",
    "predict_result = model.predict(input_image_data)\n",
    "\n",
    "#결과 확인\n",
    "# np.argmax는 배열 중 가장 큰 값의 인덱스를 반환해준다.\n",
    "print('\\t\\t\\tLABELS :', dataset)\n",
    "for i in range (len(predict_result)):\n",
    "    print('prediction :', dataset[np.argmax(predict_result[i])], end='\\t')\n",
    "    print('possibility :', [f'{result:.3f}' for result in predict_result[i].tolist()])"
   ]
  },
  {
   "cell_type": "code",
   "execution_count": null,
   "id": "4059cdd6",
   "metadata": {},
   "outputs": [],
   "source": []
  }
 ],
 "metadata": {
  "accelerator": "GPU",
  "colab": {
   "name": "image_classification.ipynb",
   "provenance": []
  },
  "kernelspec": {
   "display_name": "Python 3 (ipykernel)",
   "language": "python",
   "name": "python3"
  },
  "language_info": {
   "codemirror_mode": {
    "name": "ipython",
    "version": 3
   },
   "file_extension": ".py",
   "mimetype": "text/x-python",
   "name": "python",
   "nbconvert_exporter": "python",
   "pygments_lexer": "ipython3",
   "version": "3.8.12"
  }
 },
 "nbformat": 4,
 "nbformat_minor": 5
}

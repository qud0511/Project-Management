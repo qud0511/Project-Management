{
 "cells": [
  {
   "cell_type": "code",
   "execution_count": 1,
   "id": "84102eec-0b68-406f-a4c3-f5613edc35b1",
   "metadata": {},
   "outputs": [],
   "source": [
    "# 모듈 로딩\n",
    "import numpy as np\n",
    "import pandas as pd\n",
    "# import seaborn as sns\n",
    "# import urllib.request\n",
    "import random\n",
    "import os\n",
    "import cv2\n",
    "import matplotlib.pyplot as plt\n",
    "# plt.rcParams['font.family'] = 'Malgun Gothic'\n",
    "# import warnings\n",
    "# warnings.filterwarnings(action='ignore'\n",
    "\n",
    "import tensorflow as tf\n",
    "from keras.models import Sequential, Model, save_model #, load_model\n",
    "from keras.layers import Conv2D, MaxPooling2D, Dense, Dropout, Input, Flatten, Activation\n",
    "from keras.callbacks import ModelCheckpoint, Callback, EarlyStopping\n",
    "from keras.utils import to_categorical, plot_model, set_random_seed\n",
    "\n",
    "from sklearn.model_selection import train_test_split\n",
    "from sklearn.preprocessing import LabelEncoder, OneHotEncoder"
   ]
  },
  {
   "cell_type": "code",
   "execution_count": 2,
   "id": "1bc66adc-ee49-492e-adcf-b2e9774ad5e9",
   "metadata": {},
   "outputs": [],
   "source": [
    "# 랜덤값 고정\n",
    "np.random.seed(42)\n",
    "tf.random.set_seed(42)\n",
    "set_random_seed(42)"
   ]
  },
  {
   "cell_type": "code",
   "execution_count": 3,
   "id": "ea98d312-0658-4b3f-bc2a-563dd6cf6a6a",
   "metadata": {},
   "outputs": [],
   "source": [
    "# train, test 데이터 불러오기\n",
    "train=pd.read_csv('/tour_data//train.csv')\n",
    "test=pd.read_csv('/tour_data/test.csv')"
   ]
  },
  {
   "cell_type": "markdown",
   "id": "e01518cb-dc50-4b85-9bb3-57c38162cb1c",
   "metadata": {},
   "source": [
    "### [1] 데이터 살펴보기"
   ]
  },
  {
   "cell_type": "code",
   "execution_count": 4,
   "id": "f6fae818-7227-4ebc-96a6-013a2ce157f0",
   "metadata": {},
   "outputs": [
    {
     "data": {
      "text/html": [
       "<div>\n",
       "<style scoped>\n",
       "    .dataframe tbody tr th:only-of-type {\n",
       "        vertical-align: middle;\n",
       "    }\n",
       "\n",
       "    .dataframe tbody tr th {\n",
       "        vertical-align: top;\n",
       "    }\n",
       "\n",
       "    .dataframe thead th {\n",
       "        text-align: right;\n",
       "    }\n",
       "</style>\n",
       "<table border=\"1\" class=\"dataframe\">\n",
       "  <thead>\n",
       "    <tr style=\"text-align: right;\">\n",
       "      <th></th>\n",
       "      <th>id</th>\n",
       "      <th>img_path</th>\n",
       "      <th>overview</th>\n",
       "      <th>cat1</th>\n",
       "      <th>cat2</th>\n",
       "      <th>cat3</th>\n",
       "    </tr>\n",
       "  </thead>\n",
       "  <tbody>\n",
       "    <tr>\n",
       "      <th>0</th>\n",
       "      <td>TRAIN_00000</td>\n",
       "      <td>./image/train/TRAIN_00000.jpg</td>\n",
       "      <td>소안항은 조용한 섬으로 인근해안이 청정해역으로 일찍이 김 양식을 해서 높은 소득을 ...</td>\n",
       "      <td>자연</td>\n",
       "      <td>자연관광지</td>\n",
       "      <td>항구/포구</td>\n",
       "    </tr>\n",
       "    <tr>\n",
       "      <th>1</th>\n",
       "      <td>TRAIN_00001</td>\n",
       "      <td>./image/train/TRAIN_00001.jpg</td>\n",
       "      <td>경기도 이천시 모가면에 있는 골프장으로 대중제 18홀이다. 회원제로 개장을 했다가 ...</td>\n",
       "      <td>레포츠</td>\n",
       "      <td>육상 레포츠</td>\n",
       "      <td>골프</td>\n",
       "    </tr>\n",
       "    <tr>\n",
       "      <th>2</th>\n",
       "      <td>TRAIN_00002</td>\n",
       "      <td>./image/train/TRAIN_00002.jpg</td>\n",
       "      <td>금오산성숯불갈비는 한우고기만을 전문적으로 취급하고 사용하는 부식 자재 또한 유기농법...</td>\n",
       "      <td>음식</td>\n",
       "      <td>음식점</td>\n",
       "      <td>한식</td>\n",
       "    </tr>\n",
       "    <tr>\n",
       "      <th>3</th>\n",
       "      <td>TRAIN_00003</td>\n",
       "      <td>./image/train/TRAIN_00003.jpg</td>\n",
       "      <td>철판 위에서 요리하는 안동찜닭을 맛볼 수 있는 곳이다. 경상북도 안동시에 있는 한식...</td>\n",
       "      <td>음식</td>\n",
       "      <td>음식점</td>\n",
       "      <td>한식</td>\n",
       "    </tr>\n",
       "    <tr>\n",
       "      <th>4</th>\n",
       "      <td>TRAIN_00004</td>\n",
       "      <td>./image/train/TRAIN_00004.jpg</td>\n",
       "      <td>※ 영업시간 10:30 ~ 20:30\\n\\n3대에 걸쳐 아귀만을 전문으로 취급하는 ...</td>\n",
       "      <td>음식</td>\n",
       "      <td>음식점</td>\n",
       "      <td>한식</td>\n",
       "    </tr>\n",
       "  </tbody>\n",
       "</table>\n",
       "</div>"
      ],
      "text/plain": [
       "            id                       img_path  \\\n",
       "0  TRAIN_00000  ./image/train/TRAIN_00000.jpg   \n",
       "1  TRAIN_00001  ./image/train/TRAIN_00001.jpg   \n",
       "2  TRAIN_00002  ./image/train/TRAIN_00002.jpg   \n",
       "3  TRAIN_00003  ./image/train/TRAIN_00003.jpg   \n",
       "4  TRAIN_00004  ./image/train/TRAIN_00004.jpg   \n",
       "\n",
       "                                            overview cat1    cat2   cat3  \n",
       "0  소안항은 조용한 섬으로 인근해안이 청정해역으로 일찍이 김 양식을 해서 높은 소득을 ...   자연   자연관광지  항구/포구  \n",
       "1  경기도 이천시 모가면에 있는 골프장으로 대중제 18홀이다. 회원제로 개장을 했다가 ...  레포츠  육상 레포츠     골프  \n",
       "2  금오산성숯불갈비는 한우고기만을 전문적으로 취급하고 사용하는 부식 자재 또한 유기농법...   음식     음식점     한식  \n",
       "3  철판 위에서 요리하는 안동찜닭을 맛볼 수 있는 곳이다. 경상북도 안동시에 있는 한식...   음식     음식점     한식  \n",
       "4  ※ 영업시간 10:30 ~ 20:30\\n\\n3대에 걸쳐 아귀만을 전문으로 취급하는 ...   음식     음식점     한식  "
      ]
     },
     "execution_count": 4,
     "metadata": {},
     "output_type": "execute_result"
    }
   ],
   "source": [
    "train.head()"
   ]
  },
  {
   "cell_type": "code",
   "execution_count": 5,
   "id": "6b0adf21-29f4-4b7e-9631-94d5c19bf90d",
   "metadata": {},
   "outputs": [
    {
     "data": {
      "text/plain": [
       "id          0\n",
       "img_path    0\n",
       "overview    0\n",
       "cat1        0\n",
       "cat2        0\n",
       "cat3        0\n",
       "dtype: int64"
      ]
     },
     "execution_count": 5,
     "metadata": {},
     "output_type": "execute_result"
    }
   ],
   "source": [
    "# 결측치 확인\n",
    "train.isnull().sum()"
   ]
  },
  {
   "cell_type": "code",
   "execution_count": 6,
   "id": "5d4216f5-79d7-40fa-9c32-677a53a4e53d",
   "metadata": {},
   "outputs": [
    {
     "data": {
      "text/plain": [
       "0"
      ]
     },
     "execution_count": 6,
     "metadata": {},
     "output_type": "execute_result"
    }
   ],
   "source": [
    "# 중복치 확인 및 제거\n",
    "train.duplicated().sum()"
   ]
  },
  {
   "cell_type": "code",
   "execution_count": 7,
   "id": "6e355c5d-084f-479f-a455-88c5615a7472",
   "metadata": {},
   "outputs": [
    {
     "name": "stdout",
     "output_type": "stream",
     "text": [
      "6 18 128\n",
      "인문(문화/예술/역사)    5614\n",
      "음식              4912\n",
      "레포츠             2611\n",
      "자연              1719\n",
      "숙박              1434\n",
      "쇼핑               696\n",
      "Name: cat1, dtype: int64 \n",
      "\n",
      "음식점       4912\n",
      "육상 레포츠    2288\n",
      "자연관광지     1578\n",
      "역사관광지     1571\n",
      "숙박시설      1434\n",
      "문화시설      1220\n",
      "휴양관광지      889\n",
      "체험관광지      805\n",
      "쇼핑         696\n",
      "축제         569\n",
      "건축/조형물     328\n",
      "수상 레포츠     277\n",
      "관광자원       141\n",
      "공연/행사      139\n",
      "산업관광지       93\n",
      "복합 레포츠      24\n",
      "항공 레포츠      11\n",
      "레포츠소개       11\n",
      "Name: cat2, dtype: int64 \n",
      "\n",
      "한식                3438\n",
      "야영장,오토캠핑장         1558\n",
      "바/까페               785\n",
      "유적지/사적지            622\n",
      "일반축제               549\n",
      "                  ... \n",
      "MTB                  2\n",
      "대중콘서트                2\n",
      "인라인(실내 인라인 포함)       2\n",
      "스카이다이빙               2\n",
      "클래식음악회               2\n",
      "Name: cat3, Length: 128, dtype: int64\n"
     ]
    }
   ],
   "source": [
    "# 대, 중, 소분류 확인\n",
    "print(len(train.cat1.value_counts()), len(train.cat2.value_counts()), len(train.cat3.value_counts()))\n",
    "print(train.cat1.value_counts(), '\\n')\n",
    "print(train.cat2.value_counts(), '\\n')\n",
    "print(train.cat3.value_counts())"
   ]
  },
  {
   "cell_type": "markdown",
   "id": "0b4c0285-b131-4469-b175-2b2ec1d0db5a",
   "metadata": {},
   "source": [
    "## [1-2] 이미지 데이터(train) 불러오기"
   ]
  },
  {
   "cell_type": "code",
   "execution_count": 8,
   "id": "884ab909-48ce-47d2-8e1c-2ad4c50db2db",
   "metadata": {},
   "outputs": [],
   "source": [
    "IMG_PATH='/tour_data//image/train/'\n",
    "img_path_list=os.listdir(IMG_PATH)"
   ]
  },
  {
   "cell_type": "code",
   "execution_count": 9,
   "id": "13c6fdda-a3cf-4dc3-ae84-cac35259d7be",
   "metadata": {},
   "outputs": [],
   "source": [
    "img_list=[]\n",
    "file_list=[]\n",
    "\n",
    "for file in img_path_list:\n",
    "    im = plt.imread(IMG_PATH + file)\n",
    "    im = cv2.resize(im, (300, 200))\n",
    "    im = im.reshape(-1, 300, 200, 3)\n",
    "    img_list.append(im)\n",
    "    file_list.append(file.split('.jpg')[0])"
   ]
  },
  {
   "cell_type": "code",
   "execution_count": 10,
   "id": "24926e21-0869-4c91-9c38-2f503a706d22",
   "metadata": {},
   "outputs": [
    {
     "data": {
      "text/plain": [
       "['TRAIN_00000', 'TRAIN_00001', 'TRAIN_00002', 'TRAIN_00003', 'TRAIN_00004']"
      ]
     },
     "execution_count": 10,
     "metadata": {},
     "output_type": "execute_result"
    }
   ],
   "source": [
    "file_list[:5]"
   ]
  },
  {
   "cell_type": "code",
   "execution_count": 11,
   "id": "e0ff07d4-55db-47ac-a765-0eb5ade9f536",
   "metadata": {},
   "outputs": [],
   "source": [
    "train_img_data=np.concatenate(img_list)"
   ]
  },
  {
   "cell_type": "code",
   "execution_count": 12,
   "id": "84f05c11-35b1-45ea-92c5-94be5976ece2",
   "metadata": {},
   "outputs": [
    {
     "data": {
      "text/plain": [
       "(16986, 300, 200, 3)"
      ]
     },
     "execution_count": 12,
     "metadata": {},
     "output_type": "execute_result"
    }
   ],
   "source": [
    "train_img_data.shape"
   ]
  },
  {
   "cell_type": "markdown",
   "id": "e530e53a-f83a-4aed-a66f-e6d5d5a4ff1b",
   "metadata": {},
   "source": [
    "## [2] 전처리"
   ]
  },
  {
   "cell_type": "code",
   "execution_count": 13,
   "id": "e79b404a-dfed-44b2-b456-12390dc02850",
   "metadata": {},
   "outputs": [],
   "source": [
    "# 라벨 인코더\n",
    "le = LabelEncoder()\n",
    "target1 = le.fit_transform(train.cat1)\n",
    "target2 = le.fit_transform(train.cat2)\n",
    "target3 = le.fit_transform(train.cat3)"
   ]
  },
  {
   "cell_type": "code",
   "execution_count": 14,
   "id": "bf4cfce7-fe2d-48e6-bcbd-31ce02a4f00b",
   "metadata": {},
   "outputs": [
    {
     "data": {
      "text/plain": [
       "((16986,), (16986,), (16986,))"
      ]
     },
     "execution_count": 14,
     "metadata": {},
     "output_type": "execute_result"
    }
   ],
   "source": [
    "target1.shape, target2.shape, target3.shape"
   ]
  },
  {
   "cell_type": "code",
   "execution_count": 15,
   "id": "997b44e9-f92e-4d45-8590-f06061301067",
   "metadata": {},
   "outputs": [],
   "source": [
    "# train, test 분리\n",
    "X_train, X_test, y_train, y_test=train_test_split(train_img_data, target2,\n",
    "                                                 stratify=target2,\n",
    "                                                 random_state=42,\n",
    "                                                 test_size=0.2)\n",
    "\n",
    "# train, val 분리\n",
    "X_train, X_val, y_train, y_val=train_test_split(X_train, y_train,\n",
    "                                                 stratify=y_train,\n",
    "                                                 random_state=42,\n",
    "                                                 test_size=0.2)"
   ]
  },
  {
   "cell_type": "code",
   "execution_count": 16,
   "id": "ebee2195-5f33-422f-842e-66aff1725814",
   "metadata": {},
   "outputs": [
    {
     "data": {
      "text/plain": [
       "((10870, 300, 200, 3), (3398, 300, 200, 3), (2718, 300, 200, 3))"
      ]
     },
     "execution_count": 16,
     "metadata": {},
     "output_type": "execute_result"
    }
   ],
   "source": [
    "X_train.shape, X_test.shape, X_val.shape"
   ]
  },
  {
   "cell_type": "markdown",
   "id": "f6fcf0b9-2a91-41d2-ad9b-b69fef3b1575",
   "metadata": {},
   "source": [
    "## [3] 모델 구상"
   ]
  },
  {
   "cell_type": "code",
   "execution_count": 17,
   "id": "19912d8d-ca89-4732-bfc5-f76cf59dede1",
   "metadata": {},
   "outputs": [],
   "source": [
    "# 모델 구성\n",
    "model = Sequential()\n",
    "\n",
    "model.add(Conv2D(32, kernel_size=(3), # 자동으로 (3,3)\n",
    "                 activation='relu',\n",
    "                 input_shape=(300, 200, 3))) # (28, 28), 1은 흑백\n",
    "model.add(Conv2D(64, (3, 3), activation='relu'))\n",
    "model.add(MaxPooling2D(pool_size=(2, 2))) # 축소\n",
    "model.add(Dropout(0.25)) # 과적합 방지\n",
    "model.add(Flatten()) # 펼침\n",
    "model.add(Dense(128, activation='relu')) # 펼치고 Dense하면 정확도 상승\n",
    "model.add(Dropout(0.5)) # 과적합 방지\n",
    "model.add(Dense(18, activation='softmax')) # 출력층"
   ]
  },
  {
   "cell_type": "code",
   "execution_count": 18,
   "id": "96d19880-84bb-4f71-ae34-000a8685515c",
   "metadata": {},
   "outputs": [
    {
     "name": "stdout",
     "output_type": "stream",
     "text": [
      "Model: \"sequential\"\n",
      "_________________________________________________________________\n",
      " Layer (type)                Output Shape              Param #   \n",
      "=================================================================\n",
      " conv2d (Conv2D)             (None, 298, 198, 32)      896       \n",
      "                                                                 \n",
      " conv2d_1 (Conv2D)           (None, 296, 196, 64)      18496     \n",
      "                                                                 \n",
      " max_pooling2d (MaxPooling2D  (None, 148, 98, 64)      0         \n",
      " )                                                               \n",
      "                                                                 \n",
      " dropout (Dropout)           (None, 148, 98, 64)       0         \n",
      "                                                                 \n",
      " flatten (Flatten)           (None, 928256)            0         \n",
      "                                                                 \n",
      " dense (Dense)               (None, 128)               118816896 \n",
      "                                                                 \n",
      " dropout_1 (Dropout)         (None, 128)               0         \n",
      "                                                                 \n",
      " dense_1 (Dense)             (None, 18)                2322      \n",
      "                                                                 \n",
      "=================================================================\n",
      "Total params: 118,838,610\n",
      "Trainable params: 118,838,610\n",
      "Non-trainable params: 0\n",
      "_________________________________________________________________\n"
     ]
    }
   ],
   "source": [
    "model.summary()"
   ]
  },
  {
   "cell_type": "code",
   "execution_count": 19,
   "id": "fa65664e-ce30-45c9-9d33-4413a5d34db2",
   "metadata": {},
   "outputs": [
    {
     "name": "stdout",
     "output_type": "stream",
     "text": [
      "You must install pydot (`pip install pydot`) and install graphviz (see instructions at https://graphviz.gitlab.io/download/) for plot_model to work.\n"
     ]
    }
   ],
   "source": [
    "plot_model(model, show_shapes=True)"
   ]
  },
  {
   "cell_type": "markdown",
   "id": "41c540a6-ca34-4fa8-b5de-efea70a02659",
   "metadata": {},
   "source": [
    "## [3-2] 모델 생성"
   ]
  },
  {
   "cell_type": "code",
   "execution_count": 20,
   "id": "f73f3b72-d06d-4a90-a0a4-cb688f9105ed",
   "metadata": {},
   "outputs": [],
   "source": [
    "model.compile(loss='sparse_categorical_crossentropy',\n",
    "             optimizer='adam',\n",
    "             metrics=['accuracy'])"
   ]
  },
  {
   "cell_type": "code",
   "execution_count": 21,
   "id": "a2b13ac3-7f31-43d6-bb91-a6360d512334",
   "metadata": {},
   "outputs": [],
   "source": [
    "MODEL_PATH='tour_model_cat2.h5'\n",
    "stopCB = EarlyStopping(monitor='val_loss', patience=5)\n",
    "cpCB = ModelCheckpoint(filepath=MODEL_PATH, verbose=1, save_best_only=True)\n",
    "Epochs=15\n",
    "Batch_size=64"
   ]
  },
  {
   "cell_type": "markdown",
   "id": "3538c3ac-093f-4f17-abae-86d10262f48e",
   "metadata": {},
   "source": [
    "## [3-3] 모델 학습"
   ]
  },
  {
   "cell_type": "code",
   "execution_count": null,
   "id": "1b1c4542-0f95-4cb3-84ab-f742a2a44152",
   "metadata": {},
   "outputs": [
    {
     "name": "stdout",
     "output_type": "stream",
     "text": [
      "Epoch 1/15\n",
      "170/170 [==============================] - ETA: 0s - loss: 116.9916 - accuracy: 0.2674 \n",
      "Epoch 1: val_loss improved from inf to 2.78125, saving model to tour_model_cat2.h5\n",
      "170/170 [==============================] - 2046s 12s/step - loss: 116.9916 - accuracy: 0.2674 - val_loss: 2.7813 - val_accuracy: 0.2892\n",
      "Epoch 2/15\n",
      "150/170 [=========================>....] - ETA: 3:40 - loss: 2.7409 - accuracy: 0.2862"
     ]
    }
   ],
   "source": [
    "history=model.fit(X_train, y_train,\n",
    "                 epochs=Epochs,\n",
    "                 batch_size=Batch_size,\n",
    "                 validation_data=(X_val, y_val),\n",
    "                 callbacks=[stopCB, cpCB])"
   ]
  },
  {
   "cell_type": "markdown",
   "id": "4ee8fa1d-db1e-43ca-a0ac-c70d0c71dae7",
   "metadata": {},
   "source": [
    "## [4] 모델평가"
   ]
  },
  {
   "cell_type": "code",
   "execution_count": null,
   "id": "ba3464ee-40a3-41e6-a785-643416d79d5b",
   "metadata": {},
   "outputs": [],
   "source": []
  },
  {
   "cell_type": "code",
   "execution_count": null,
   "id": "3b481dc2-43b2-4a14-bbb8-323c117f9fd5",
   "metadata": {},
   "outputs": [],
   "source": []
  },
  {
   "cell_type": "code",
   "execution_count": null,
   "id": "c1d49132-49ba-4dfc-87f5-c8a99caa8b4a",
   "metadata": {},
   "outputs": [],
   "source": [
    "def plot_accuracy_and_loss(train_model):\n",
    "    hist = train_model.history\n",
    "    acc = hist['accuracy']\n",
    "    val_acc = hist['val_accuracy']\n",
    "    loss = hist['loss']\n",
    "    val_loss = hist['val_loss']\n",
    "    epochs = range(len(acc))\n",
    "    f, ax = plt.subplots(1,2, figsize=(20, 8))\n",
    "    ax[0].plot(epochs, acc, 'g', label='Training accuracy')\n",
    "    ax[0].plot(epochs, val_acc, 'r', label='Validation accuracy')\n",
    "    ax[0].set_title('Training and validation accuracy')\n",
    "    ax[0].legend(fontsize=10)\n",
    "    ax[1].plot(epochs, loss, 'g', label='Training loss')\n",
    "    ax[1].plot(epochs, val_loss, 'r', label='Validation loss')\n",
    "    ax[1].set_title('Training and validation loss')\n",
    "    ax[1].legend()\n",
    "    plt.show()\n",
    "plot_accuracy_and_loss(history)"
   ]
  },
  {
   "cell_type": "code",
   "execution_count": null,
   "id": "0bf2a046-049d-4cfc-8336-961295f9a36f",
   "metadata": {},
   "outputs": [],
   "source": []
  },
  {
   "cell_type": "markdown",
   "id": "223628e1-48bf-4ab9-8003-e1fe99f10363",
   "metadata": {},
   "source": [
    "## [5] 예측"
   ]
  },
  {
   "cell_type": "code",
   "execution_count": null,
   "id": "caed7c26-182d-471f-8a02-9454105bbad6",
   "metadata": {},
   "outputs": [],
   "source": []
  }
 ],
 "metadata": {
  "kernelspec": {
   "display_name": "Python 3 (ipykernel)",
   "language": "python",
   "name": "python3"
  },
  "language_info": {
   "codemirror_mode": {
    "name": "ipython",
    "version": 3
   },
   "file_extension": ".py",
   "mimetype": "text/x-python",
   "name": "python",
   "nbconvert_exporter": "python",
   "pygments_lexer": "ipython3",
   "version": "3.9.13"
  }
 },
 "nbformat": 4,
 "nbformat_minor": 5
}

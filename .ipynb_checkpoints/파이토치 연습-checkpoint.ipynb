{
 "cells": [
  {
   "cell_type": "markdown",
   "id": "4efcae01-42f6-4a2f-bc8e-462f5f0aa45d",
   "metadata": {},
   "source": [
    "# numpy로 신경망 구성 해보기"
   ]
  },
  {
   "cell_type": "code",
   "execution_count": 9,
   "id": "dcc31610-ffb5-4ee6-9f0e-afed06397082",
   "metadata": {},
   "outputs": [],
   "source": [
    "import numpy as np\n",
    "import math\n",
    "\n",
    "import matplotlib.pyplot as plt"
   ]
  },
  {
   "cell_type": "code",
   "execution_count": 10,
   "id": "e7d66df0-f34b-4da7-9a8f-38efab58fbac",
   "metadata": {},
   "outputs": [],
   "source": [
    "# 무작위로 입력과 출력 데이터를 생성\n",
    "x=np.linspace(-math.pi, math.pi, 2000)\n",
    "y=np.sin(x)"
   ]
  },
  {
   "cell_type": "code",
   "execution_count": 11,
   "id": "b0a84c27-b87a-4001-940f-13ea107ae346",
   "metadata": {},
   "outputs": [
    {
     "name": "stdout",
     "output_type": "stream",
     "text": [
      "[-3.14159265 -3.13844949 -3.13530633 ...  3.13530633  3.13844949\n",
      "  3.14159265] [-1.22464680e-16 -3.14315906e-03 -6.28628707e-03 ...  6.28628707e-03\n",
      "  3.14315906e-03  1.22464680e-16]\n"
     ]
    },
    {
     "data": {
      "text/plain": [
       "[<matplotlib.lines.Line2D at 0x227f5574430>]"
      ]
     },
     "execution_count": 11,
     "metadata": {},
     "output_type": "execute_result"
    },
    {
     "data": {
      "image/png": "[encoded data removed]",
      "text/plain": [
       "<Figure size 640x480 with 1 Axes>"
      ]
     },
     "metadata": {},
     "output_type": "display_data"
    }
   ],
   "source": [
    "print(x, y)\n",
    "plt.plot(x, y)"
   ]
  },
  {
   "cell_type": "code",
   "execution_count": 12,
   "id": "bcad1f50-72cb-41f6-a3ea-82fca798a271",
   "metadata": {},
   "outputs": [],
   "source": [
    "# 무작위로 가중치를 초기화\n",
    "a = np.random.randn()\n",
    "b = np.random.randn()\n",
    "c = np.random.randn()\n",
    "d = np.random.randn()"
   ]
  },
  {
   "cell_type": "code",
   "execution_count": 13,
   "id": "125df03c-acc3-40c5-b638-ac91bdc9f826",
   "metadata": {},
   "outputs": [
    {
     "name": "stdout",
     "output_type": "stream",
     "text": [
      "99 2240.4567919355595\n",
      "199 1586.519595162033\n",
      "299 1124.2754638850593\n",
      "399 797.5084564015228\n",
      "499 566.4965421970821\n",
      "599 403.16951145439214\n",
      "699 287.6893165974274\n",
      "799 206.03464148867016\n",
      "899 148.2945904320168\n",
      "999 107.46317966927248\n",
      "1099 78.58755660516374\n",
      "1199 58.16609473255846\n",
      "1299 43.723022403685555\n",
      "1399 33.507783610451426\n",
      "1499 26.282538338698988\n",
      "1599 21.171950918857906\n",
      "1699 17.557000969134272\n",
      "1799 14.999910235098138\n",
      "1899 13.191064340866248\n",
      "1999 11.911483209290022\n",
      "Result: y = -0.058759013016390194 + 0.8602078986324267 x + 0.010136907499524308 x^2 + -0.09382354750243027 x^3\n"
     ]
    }
   ],
   "source": [
    "learning_rate = 1e-6\n",
    "for t in range(2000):\n",
    "    # 순전파 단계: 예측값 y를 계산합니다\n",
    "    # y = a + b x + c x^2 + d x^3\n",
    "    y_pred = a + b * x + c * x ** 2 + d * x ** 3\n",
    "\n",
    "    # 손실(loss)을 계산하고 출력합니다\n",
    "    loss = np.square(y_pred - y).sum()\n",
    "    if t % 100 == 99:\n",
    "        print(t, loss)\n",
    "\n",
    "    # 손실에 따른 a, b, c, d의 변화도(gradient)를 계산하고 역전파합니다.\n",
    "    grad_y_pred = 2.0 * (y_pred - y)\n",
    "    grad_a = grad_y_pred.sum()\n",
    "    grad_b = (grad_y_pred * x).sum()\n",
    "    grad_c = (grad_y_pred * x ** 2).sum()\n",
    "    grad_d = (grad_y_pred * x ** 3).sum()\n",
    "\n",
    "    # 가중치를 갱신합니다.\n",
    "    a -= learning_rate * grad_a\n",
    "    b -= learning_rate * grad_b\n",
    "    c -= learning_rate * grad_c\n",
    "    d -= learning_rate * grad_d\n",
    "\n",
    "print(f'Result: y = {a} + {b} x + {c} x^2 + {d} x^3')"
   ]
  },
  {
   "cell_type": "markdown",
   "id": "29ad0f59-cd3d-4dd9-99a6-e1b16b08d7b7",
   "metadata": {},
   "source": [
    "# PyTorch : nn"
   ]
  },
  {
   "cell_type": "code",
   "execution_count": 14,
   "id": "0f1ca58d-f203-4f60-9280-bb10fc028df8",
   "metadata": {},
   "outputs": [],
   "source": [
    "import torch\n",
    "import math"
   ]
  },
  {
   "cell_type": "code",
   "execution_count": 15,
   "id": "63deff7b-afb8-4f6e-800b-f1b8dc30b846",
   "metadata": {},
   "outputs": [],
   "source": [
    "# 입력값과 출력값을 갖는 텐서들을 생성합니다.\n",
    "x = torch.linspace(-math.pi, math.pi, 2000)\n",
    "y = torch.sin(x)"
   ]
  },
  {
   "cell_type": "code",
   "execution_count": 16,
   "id": "15fa23a3-982f-404e-b35b-46fb454673b0",
   "metadata": {},
   "outputs": [],
   "source": [
    "# 입력 텐서 (x, x^2, x^3)를 준비합니다.\n",
    "p = torch.tensor([1, 2, 3])\n",
    "xx = x.unsqueeze(-1).pow(p)"
   ]
  },
  {
   "cell_type": "code",
   "execution_count": 17,
   "id": "72f690c3-1bd0-46ae-a4c1-e236d3e4f9f7",
   "metadata": {},
   "outputs": [],
   "source": [
    "# nn 패키지를 사용하여 모델과 손실 함수를 정의합니다.\n",
    "model = torch.nn.Sequential(\n",
    "    torch.nn.Linear(3, 1),\n",
    "    torch.nn.Flatten(0, 1)\n",
    ")\n",
    "loss_fn = torch.nn.MSELoss(reduction='sum')"
   ]
  },
  {
   "cell_type": "code",
   "execution_count": 18,
   "id": "2cad2911-2909-4a37-9bf5-804540b4608c",
   "metadata": {},
   "outputs": [
    {
     "name": "stdout",
     "output_type": "stream",
     "text": [
      "99 6465.958984375\n",
      "199 1967.2518310546875\n",
      "299 854.5262451171875\n",
      "399 576.0491943359375\n",
      "499 437.7938537597656\n",
      "599 322.41522216796875\n",
      "699 222.57049560546875\n",
      "799 141.3786163330078\n",
      "899 81.61096954345703\n",
      "999 42.90660858154297\n",
      "1099 21.621854782104492\n",
      "1199 12.221534729003906\n",
      "1299 9.299148559570312\n",
      "1399 8.995292663574219\n",
      "1499 8.824725151062012\n",
      "1599 8.902847290039062\n",
      "1699 8.91933822631836\n",
      "1799 8.966300964355469\n",
      "1899 8.914883613586426\n",
      "1999 8.91227912902832\n"
     ]
    }
   ],
   "source": [
    "# optim 패키지를 사용하여 모델의 가중치를 갱신할 optimizer를 정의합니다.\n",
    "# 여기서는 RMSprop을 사용하겠습니다; optim 패키지는 다른 다양한 최적화 알고리즘을 포함하고 있습니다.\n",
    "# RMSprop 생성자의 첫번째 인자는 어떤 텐서가 갱신되어야 하는지를 알려줍니다.\n",
    "learning_rate = 1e-3\n",
    "optimizer = torch.optim.RMSprop(model.parameters(), lr=learning_rate)\n",
    "for t in range(2000):\n",
    "    # 순전파 단계: 모델에 x를 전달하여 예측값 y를 계산합니다.\n",
    "    y_pred = model(xx)\n",
    "\n",
    "    # 손실을 계산하고 출력합니다.\n",
    "    loss = loss_fn(y_pred, y)\n",
    "    if t % 100 == 99:\n",
    "        print(t, loss.item())\n",
    "\n",
    "    # 역전파 단계 전에, optimizer 객체를 사용하여 (모델의 학습 가능한 가중치인) 갱신할\n",
    "    # 변수들에 대한 모든 변화도(gradient)를 0으로 만듭니다. 이렇게 하는 이유는 기본적으로 \n",
    "    # .backward()를 호출할 때마다 변화도가 버퍼(buffer)에 (덮어쓰지 않고) 누적되기\n",
    "    # 때문입니다. 더 자세한 내용은 torch.autograd.backward에 대한 문서를 참조하세요.\n",
    "    optimizer.zero_grad()\n",
    "\n",
    "    # 역전파 단계: 모델의 매개변수들에 대한 손실의 변화도를 계산합니다.\n",
    "    loss.backward()\n",
    "\n",
    "    # optimizer의 step 함수를 호출하면 매개변수가 갱신됩니다.\n",
    "    optimizer.step()"
   ]
  },
  {
   "cell_type": "code",
   "execution_count": 19,
   "id": "50895b2d-1e10-427e-a26c-893ec2af79b7",
   "metadata": {},
   "outputs": [
    {
     "name": "stdout",
     "output_type": "stream",
     "text": [
      "Result: y = 0.0006185084348544478 + 0.8571919202804565 x + 0.0006255663465708494 x^2 + -0.09287665784358978 x^3\n"
     ]
    }
   ],
   "source": [
    "linear_layer = model[0]\n",
    "print(f'Result: y = {linear_layer.bias.item()} + {linear_layer.weight[:, 0].item()} x + {linear_layer.weight[:, 1].item()} x^2 + {linear_layer.weight[:, 2].item()} x^3')"
   ]
  },
  {
   "cell_type": "code",
   "execution_count": null,
   "id": "4f8e40d8-4276-4e0d-8f61-9dd3fee21e55",
   "metadata": {},
   "outputs": [],
   "source": []
  }
 ],
 "metadata": {
  "kernelspec": {
   "display_name": "Python 3 (ipykernel)",
   "language": "python",
   "name": "python3"
  },
  "language_info": {
   "codemirror_mode": {
    "name": "ipython",
    "version": 3
   },
   "file_extension": ".py",
   "mimetype": "text/x-python",
   "name": "python",
   "nbconvert_exporter": "python",
   "pygments_lexer": "ipython3",
   "version": "3.9.13"
  }
 },
 "nbformat": 4,
 "nbformat_minor": 5
}

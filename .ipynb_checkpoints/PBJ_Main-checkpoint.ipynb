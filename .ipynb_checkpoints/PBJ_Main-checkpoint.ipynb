{
 "cells": [
  {
   "cell_type": "code",
   "execution_count": null,
   "id": "84102eec-0b68-406f-a4c3-f5613edc35b1",
   "metadata": {},
   "outputs": [],
   "source": [
    "# 모듈 로딩\n",
    "import numpy as np\n",
    "import pandas as pd\n",
    "# import seaborn as sns\n",
    "# import urllib.request\n",
    "import random\n",
    "import os\n",
    "import cv2\n",
    "import matplotlib.pyplot as plt\n",
    "# plt.rcParams['font.family'] = 'Malgun Gothic'\n",
    "# import warnings\n",
    "# warnings.filterwarnings(action='ignore'\n",
    "\n",
    "import tensorflow as tf\n",
    "from keras.models import Sequential, Model, save_model #, load_model\n",
    "from keras.layers import Conv2D, MaxPooling2D, Dense, Dropout, Input, Flatten, Activation\n",
    "from keras.callbacks import ModelCheckpoint, Callback, EarlyStopping\n",
    "from keras.utils import to_categorical, plot_model, set_random_seed\n",
    "\n",
    "from sklearn.model_selection import train_test_split\n",
    "from sklearn.preprocessing import LabelEncoder, OneHotEncoder"
   ]
  },
  {
   "cell_type": "code",
   "execution_count": null,
   "id": "1bc66adc-ee49-492e-adcf-b2e9774ad5e9",
   "metadata": {},
   "outputs": [],
   "source": [
    "# 랜덤값 고정\n",
    "np.random.seed(42)\n",
    "tf.random.set_seed(42)\n",
    "set_random_seed(42)"
   ]
  },
  {
   "cell_type": "code",
   "execution_count": null,
   "id": "ea98d312-0658-4b3f-bc2a-563dd6cf6a6a",
   "metadata": {},
   "outputs": [],
   "source": [
    "# train, test 데이터 불러오기\n",
    "train=pd.read_csv('/tour_data//train.csv')\n",
    "test=pd.read_csv('/tour_data/test.csv')"
   ]
  },
  {
   "cell_type": "markdown",
   "id": "e01518cb-dc50-4b85-9bb3-57c38162cb1c",
   "metadata": {},
   "source": [
    "### [1] 데이터 살펴보기"
   ]
  },
  {
   "cell_type": "code",
   "execution_count": null,
   "id": "f6fae818-7227-4ebc-96a6-013a2ce157f0",
   "metadata": {},
   "outputs": [],
   "source": [
    "train.head()"
   ]
  },
  {
   "cell_type": "code",
   "execution_count": null,
   "id": "6b0adf21-29f4-4b7e-9631-94d5c19bf90d",
   "metadata": {},
   "outputs": [],
   "source": [
    "# 결측치 확인\n",
    "train.isnull().sum()"
   ]
  },
  {
   "cell_type": "code",
   "execution_count": null,
   "id": "5d4216f5-79d7-40fa-9c32-677a53a4e53d",
   "metadata": {},
   "outputs": [],
   "source": [
    "# 중복치 확인 및 제거\n",
    "train.duplicated().sum()"
   ]
  },
  {
   "cell_type": "code",
   "execution_count": null,
   "id": "6e355c5d-084f-479f-a455-88c5615a7472",
   "metadata": {},
   "outputs": [],
   "source": [
    "# 대, 중, 소분류 확인\n",
    "print(len(train.cat1.value_counts()), len(train.cat2.value_counts()), len(train.cat3.value_counts()))\n",
    "print(train.cat1.value_counts(), '\\n')\n",
    "print(train.cat2.value_counts(), '\\n')\n",
    "print(train.cat3.value_counts())"
   ]
  },
  {
   "cell_type": "markdown",
   "id": "0b4c0285-b131-4469-b175-2b2ec1d0db5a",
   "metadata": {},
   "source": [
    "## [1-2] 이미지 데이터(train) 불러오기"
   ]
  },
  {
   "cell_type": "code",
   "execution_count": null,
   "id": "884ab909-48ce-47d2-8e1c-2ad4c50db2db",
   "metadata": {},
   "outputs": [],
   "source": [
    "IMG_PATH='/tour_data//image/train/'\n",
    "img_path_list=os.listdir(IMG_PATH)"
   ]
  },
  {
   "cell_type": "code",
   "execution_count": null,
   "id": "13c6fdda-a3cf-4dc3-ae84-cac35259d7be",
   "metadata": {},
   "outputs": [],
   "source": [
    "img_list=[]\n",
    "file_list=[]\n",
    "\n",
    "for file in img_path_list:\n",
    "    im = plt.imread(IMG_PATH + file)\n",
    "    im = cv2.resize(im, (300, 200))\n",
    "    im = im.reshape(-1, 300, 200, 3)\n",
    "    img_list.append(im)\n",
    "    file_list.append(file.split('.jpg')[0])"
   ]
  },
  {
   "cell_type": "code",
   "execution_count": null,
   "id": "24926e21-0869-4c91-9c38-2f503a706d22",
   "metadata": {},
   "outputs": [],
   "source": [
    "file_list[:5]"
   ]
  },
  {
   "cell_type": "code",
   "execution_count": null,
   "id": "e0ff07d4-55db-47ac-a765-0eb5ade9f536",
   "metadata": {},
   "outputs": [],
   "source": [
    "train_img_data=np.concatenate(img_list)"
   ]
  },
  {
   "cell_type": "code",
   "execution_count": null,
   "id": "84f05c11-35b1-45ea-92c5-94be5976ece2",
   "metadata": {},
   "outputs": [],
   "source": [
    "train_img_data.shape"
   ]
  },
  {
   "cell_type": "markdown",
   "id": "e530e53a-f83a-4aed-a66f-e6d5d5a4ff1b",
   "metadata": {},
   "source": [
    "## [2] 전처리"
   ]
  },
  {
   "cell_type": "code",
   "execution_count": null,
   "id": "e79b404a-dfed-44b2-b456-12390dc02850",
   "metadata": {},
   "outputs": [],
   "source": [
    "# 라벨 인코더\n",
    "le = LabelEncoder()\n",
    "target1 = le.fit_transform(train.cat1)\n",
    "target2 = le.fit_transform(train.cat2)\n",
    "target3 = le.fit_transform(train.cat3)"
   ]
  },
  {
   "cell_type": "code",
   "execution_count": null,
   "id": "bf4cfce7-fe2d-48e6-bcbd-31ce02a4f00b",
   "metadata": {},
   "outputs": [],
   "source": [
    "target1.shape, target2.shape, target3.shape"
   ]
  },
  {
   "cell_type": "code",
   "execution_count": null,
   "id": "997b44e9-f92e-4d45-8590-f06061301067",
   "metadata": {},
   "outputs": [],
   "source": [
    "# train, test 분리\n",
    "X_train, X_test, y_train, y_test=train_test_split(train_img_data, target2,\n",
    "                                                 stratify=target2,\n",
    "                                                 random_state=42,\n",
    "                                                 test_size=0.2)\n",
    "\n",
    "# train, val 분리\n",
    "X_train, X_val, y_train, y_val=train_test_split(X_train, y_train,\n",
    "                                                 stratify=y_train,\n",
    "                                                 random_state=42,\n",
    "                                                 test_size=0.2)"
   ]
  },
  {
   "cell_type": "code",
   "execution_count": null,
   "id": "ebee2195-5f33-422f-842e-66aff1725814",
   "metadata": {},
   "outputs": [],
   "source": [
    "X_train.shape, X_test.shape, X_val.shape"
   ]
  },
  {
   "cell_type": "markdown",
   "id": "f6fcf0b9-2a91-41d2-ad9b-b69fef3b1575",
   "metadata": {},
   "source": [
    "## [3] 모델 구상"
   ]
  },
  {
   "cell_type": "code",
   "execution_count": null,
   "id": "19912d8d-ca89-4732-bfc5-f76cf59dede1",
   "metadata": {},
   "outputs": [],
   "source": [
    "# 모델 구성\n",
    "model = Sequential()\n",
    "\n",
    "model.add(Conv2D(32, kernel_size=(3), # 자동으로 (3,3)\n",
    "                 activation='relu',\n",
    "                 input_shape=(300, 200, 3))) # (28, 28), 1은 흑백\n",
    "model.add(Conv2D(64, (3, 3), activation='relu'))\n",
    "model.add(MaxPooling2D(pool_size=(2, 2))) # 축소\n",
    "model.add(Dropout(0.25)) # 과적합 방지\n",
    "model.add(Flatten()) # 펼침\n",
    "model.add(Dense(128, activation='relu')) # 펼치고 Dense하면 정확도 상승\n",
    "model.add(Dropout(0.5)) # 과적합 방지\n",
    "model.add(Dense(18, activation='softmax')) # 출력층"
   ]
  },
  {
   "cell_type": "code",
   "execution_count": null,
   "id": "96d19880-84bb-4f71-ae34-000a8685515c",
   "metadata": {},
   "outputs": [],
   "source": [
    "model.summary()"
   ]
  },
  {
   "cell_type": "code",
   "execution_count": null,
   "id": "fa65664e-ce30-45c9-9d33-4413a5d34db2",
   "metadata": {},
   "outputs": [],
   "source": [
    "plot_model(model, show_shapes=True)"
   ]
  },
  {
   "cell_type": "markdown",
   "id": "41c540a6-ca34-4fa8-b5de-efea70a02659",
   "metadata": {},
   "source": [
    "## [3-2] 모델 생성"
   ]
  },
  {
   "cell_type": "code",
   "execution_count": null,
   "id": "f73f3b72-d06d-4a90-a0a4-cb688f9105ed",
   "metadata": {},
   "outputs": [],
   "source": [
    "model.compile(loss='sparse_categorical_crossentropy',\n",
    "             optimizer='adam',\n",
    "             metrics=['accuracy'])"
   ]
  },
  {
   "cell_type": "code",
   "execution_count": null,
   "id": "a2b13ac3-7f31-43d6-bb91-a6360d512334",
   "metadata": {},
   "outputs": [],
   "source": [
    "MODEL_PATH='tour_model_cat2.h5'\n",
    "stopCB = EarlyStopping(monitor='val_loss', patience=5)\n",
    "cpCB = ModelCheckpoint(filepath=MODEL_PATH, verbose=1, save_best_only=True)\n",
    "Epochs=15\n",
    "Batch_size=64"
   ]
  },
  {
   "cell_type": "markdown",
   "id": "3538c3ac-093f-4f17-abae-86d10262f48e",
   "metadata": {},
   "source": [
    "## [3-3] 모델 학습"
   ]
  },
  {
   "cell_type": "code",
   "execution_count": null,
   "id": "1b1c4542-0f95-4cb3-84ab-f742a2a44152",
   "metadata": {},
   "outputs": [],
   "source": [
    "history=model.fit(X_train, y_train,\n",
    "                 epochs=Epochs,\n",
    "                 batch_size=Batch_size,\n",
    "                 validation_data=(X_val, y_val),\n",
    "                 callbacks=[stopCB, cpCB])"
   ]
  },
  {
   "cell_type": "markdown",
   "id": "4ee8fa1d-db1e-43ca-a0ac-c70d0c71dae7",
   "metadata": {},
   "source": [
    "## [4] 모델평가"
   ]
  },
  {
   "cell_type": "code",
   "execution_count": null,
   "id": "ba3464ee-40a3-41e6-a785-643416d79d5b",
   "metadata": {},
   "outputs": [],
   "source": []
  },
  {
   "cell_type": "code",
   "execution_count": null,
   "id": "3b481dc2-43b2-4a14-bbb8-323c117f9fd5",
   "metadata": {},
   "outputs": [],
   "source": []
  },
  {
   "cell_type": "code",
   "execution_count": null,
   "id": "c1d49132-49ba-4dfc-87f5-c8a99caa8b4a",
   "metadata": {},
   "outputs": [],
   "source": [
    "def plot_accuracy_and_loss(train_model):\n",
    "    hist = train_model.history\n",
    "    acc = hist['accuracy']\n",
    "    val_acc = hist['val_accuracy']\n",
    "    loss = hist['loss']\n",
    "    val_loss = hist['val_loss']\n",
    "    epochs = range(len(acc))\n",
    "    f, ax = plt.subplots(1,2, figsize=(20, 8))\n",
    "    ax[0].plot(epochs, acc, 'g', label='Training accuracy')\n",
    "    ax[0].plot(epochs, val_acc, 'r', label='Validation accuracy')\n",
    "    ax[0].set_title('Training and validation accuracy')\n",
    "    ax[0].legend(fontsize=10)\n",
    "    ax[1].plot(epochs, loss, 'g', label='Training loss')\n",
    "    ax[1].plot(epochs, val_loss, 'r', label='Validation loss')\n",
    "    ax[1].set_title('Training and validation loss')\n",
    "    ax[1].legend()\n",
    "    plt.show()\n",
    "plot_accuracy_and_loss(history)"
   ]
  },
  {
   "cell_type": "code",
   "execution_count": null,
   "id": "0bf2a046-049d-4cfc-8336-961295f9a36f",
   "metadata": {},
   "outputs": [],
   "source": []
  },
  {
   "cell_type": "markdown",
   "id": "223628e1-48bf-4ab9-8003-e1fe99f10363",
   "metadata": {},
   "source": [
    "## [5] 예측"
   ]
  },
  {
   "cell_type": "code",
   "execution_count": null,
   "id": "caed7c26-182d-471f-8a02-9454105bbad6",
   "metadata": {},
   "outputs": [],
   "source": []
  }
 ],
 "metadata": {
  "kernelspec": {
   "display_name": "Python 3 (ipykernel)",
   "language": "python",
   "name": "python3"
  },
  "language_info": {
   "codemirror_mode": {
    "name": "ipython",
    "version": 3
   },
   "file_extension": ".py",
   "mimetype": "text/x-python",
   "name": "python",
   "nbconvert_exporter": "python",
   "pygments_lexer": "ipython3",
   "version": "3.9.13"
  }
 },
 "nbformat": 4,
 "nbformat_minor": 5
}

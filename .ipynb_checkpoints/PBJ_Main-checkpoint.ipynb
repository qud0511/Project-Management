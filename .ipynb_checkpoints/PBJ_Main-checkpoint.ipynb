{
 "cells": [
  {
   "cell_type": "code",
   "execution_count": 1,
   "id": "84102eec-0b68-406f-a4c3-f5613edc35b1",
   "metadata": {},
   "outputs": [],
   "source": [
    "# 모듈 로딩\n",
    "import numpy as np\n",
    "import pandas as pd\n",
    "import matplotlib.pyplot as plt\n",
    "import seaborn as sns\n",
    "import warnings\n",
    "import urllib.request\n",
    "import random\n",
    "import os\n",
    "import cv2\n",
    "\n",
    "import tensorflow as tf\n",
    "from keras.models import Sequential, Model, save_model, load_model\n",
    "from keras.applications import vgg16\n",
    "from keras.layers import Conv2D, MaxPooling2D, Dense, Dropout, Input, Flatten\n",
    "from keras.callbacks import ModelCheckpoint, Callback, EarlyStopping, ReduceLROnPlateau\n",
    "from keras.utils import to_categorical, plot_model, set_random_seed\n",
    "\n",
    "from sklearn.model_selection import train_test_split\n",
    "from sklearn.preprocessing import LabelEncoder, OneHotEncoder\n",
    "\n",
    "plt.rcParams['font.family'] = 'Malgun Gothic'\n",
    "# warnings.filterwarnings(action='ignore'"
   ]
  },
  {
   "cell_type": "code",
   "execution_count": 2,
   "id": "1bc66adc-ee49-492e-adcf-b2e9774ad5e9",
   "metadata": {},
   "outputs": [],
   "source": [
    "# 랜덤값 고정\n",
    "np.random.seed(42)\n",
    "tf.random.set_seed(42)\n",
    "set_random_seed(42)"
   ]
  },
  {
   "cell_type": "code",
   "execution_count": 3,
   "id": "ea98d312-0658-4b3f-bc2a-563dd6cf6a6a",
   "metadata": {},
   "outputs": [],
   "source": [
    "# train, test 데이터 불러오기\n",
    "train=pd.read_csv('/MainData/train.csv')\n",
    "test=pd.read_csv('/MainData/test.csv')"
   ]
  },
  {
   "cell_type": "markdown",
   "id": "e01518cb-dc50-4b85-9bb3-57c38162cb1c",
   "metadata": {},
   "source": [
    "### [1] 데이터 살펴보기"
   ]
  },
  {
   "cell_type": "code",
   "execution_count": 4,
   "id": "f6fae818-7227-4ebc-96a6-013a2ce157f0",
   "metadata": {},
   "outputs": [
    {
     "data": {
      "text/html": [
       "<div>\n",
       "<style scoped>\n",
       "    .dataframe tbody tr th:only-of-type {\n",
       "        vertical-align: middle;\n",
       "    }\n",
       "\n",
       "    .dataframe tbody tr th {\n",
       "        vertical-align: top;\n",
       "    }\n",
       "\n",
       "    .dataframe thead th {\n",
       "        text-align: right;\n",
       "    }\n",
       "</style>\n",
       "<table border=\"1\" class=\"dataframe\">\n",
       "  <thead>\n",
       "    <tr style=\"text-align: right;\">\n",
       "      <th></th>\n",
       "      <th>id</th>\n",
       "      <th>img_path</th>\n",
       "      <th>overview</th>\n",
       "      <th>cat1</th>\n",
       "      <th>cat2</th>\n",
       "      <th>cat3</th>\n",
       "    </tr>\n",
       "  </thead>\n",
       "  <tbody>\n",
       "    <tr>\n",
       "      <th>0</th>\n",
       "      <td>TRAIN_00000</td>\n",
       "      <td>./image/train/TRAIN_00000.jpg</td>\n",
       "      <td>소안항은 조용한 섬으로 인근해안이 청정해역으로 일찍이 김 양식을 해서 높은 소득을 ...</td>\n",
       "      <td>자연</td>\n",
       "      <td>자연관광지</td>\n",
       "      <td>항구/포구</td>\n",
       "    </tr>\n",
       "    <tr>\n",
       "      <th>1</th>\n",
       "      <td>TRAIN_00001</td>\n",
       "      <td>./image/train/TRAIN_00001.jpg</td>\n",
       "      <td>경기도 이천시 모가면에 있는 골프장으로 대중제 18홀이다. 회원제로 개장을 했다가 ...</td>\n",
       "      <td>레포츠</td>\n",
       "      <td>육상 레포츠</td>\n",
       "      <td>골프</td>\n",
       "    </tr>\n",
       "    <tr>\n",
       "      <th>2</th>\n",
       "      <td>TRAIN_00002</td>\n",
       "      <td>./image/train/TRAIN_00002.jpg</td>\n",
       "      <td>금오산성숯불갈비는 한우고기만을 전문적으로 취급하고 사용하는 부식 자재 또한 유기농법...</td>\n",
       "      <td>음식</td>\n",
       "      <td>음식점</td>\n",
       "      <td>한식</td>\n",
       "    </tr>\n",
       "    <tr>\n",
       "      <th>3</th>\n",
       "      <td>TRAIN_00003</td>\n",
       "      <td>./image/train/TRAIN_00003.jpg</td>\n",
       "      <td>철판 위에서 요리하는 안동찜닭을 맛볼 수 있는 곳이다. 경상북도 안동시에 있는 한식...</td>\n",
       "      <td>음식</td>\n",
       "      <td>음식점</td>\n",
       "      <td>한식</td>\n",
       "    </tr>\n",
       "    <tr>\n",
       "      <th>4</th>\n",
       "      <td>TRAIN_00004</td>\n",
       "      <td>./image/train/TRAIN_00004.jpg</td>\n",
       "      <td>※ 영업시간 10:30 ~ 20:30\\n\\n3대에 걸쳐 아귀만을 전문으로 취급하는 ...</td>\n",
       "      <td>음식</td>\n",
       "      <td>음식점</td>\n",
       "      <td>한식</td>\n",
       "    </tr>\n",
       "  </tbody>\n",
       "</table>\n",
       "</div>"
      ],
      "text/plain": [
       "            id                       img_path  \\\n",
       "0  TRAIN_00000  ./image/train/TRAIN_00000.jpg   \n",
       "1  TRAIN_00001  ./image/train/TRAIN_00001.jpg   \n",
       "2  TRAIN_00002  ./image/train/TRAIN_00002.jpg   \n",
       "3  TRAIN_00003  ./image/train/TRAIN_00003.jpg   \n",
       "4  TRAIN_00004  ./image/train/TRAIN_00004.jpg   \n",
       "\n",
       "                                            overview cat1    cat2   cat3  \n",
       "0  소안항은 조용한 섬으로 인근해안이 청정해역으로 일찍이 김 양식을 해서 높은 소득을 ...   자연   자연관광지  항구/포구  \n",
       "1  경기도 이천시 모가면에 있는 골프장으로 대중제 18홀이다. 회원제로 개장을 했다가 ...  레포츠  육상 레포츠     골프  \n",
       "2  금오산성숯불갈비는 한우고기만을 전문적으로 취급하고 사용하는 부식 자재 또한 유기농법...   음식     음식점     한식  \n",
       "3  철판 위에서 요리하는 안동찜닭을 맛볼 수 있는 곳이다. 경상북도 안동시에 있는 한식...   음식     음식점     한식  \n",
       "4  ※ 영업시간 10:30 ~ 20:30\\n\\n3대에 걸쳐 아귀만을 전문으로 취급하는 ...   음식     음식점     한식  "
      ]
     },
     "execution_count": 4,
     "metadata": {},
     "output_type": "execute_result"
    }
   ],
   "source": [
    "train.head()"
   ]
  },
  {
   "cell_type": "code",
   "execution_count": 5,
   "id": "6b0adf21-29f4-4b7e-9631-94d5c19bf90d",
   "metadata": {},
   "outputs": [
    {
     "data": {
      "text/plain": [
       "(id          0\n",
       " img_path    0\n",
       " overview    0\n",
       " cat1        0\n",
       " cat2        0\n",
       " cat3        0\n",
       " dtype: int64,\n",
       " id          0\n",
       " img_path    0\n",
       " overview    0\n",
       " dtype: int64)"
      ]
     },
     "execution_count": 5,
     "metadata": {},
     "output_type": "execute_result"
    }
   ],
   "source": [
    "train.isnull().sum(), test.isnull().sum()"
   ]
  },
  {
   "cell_type": "code",
   "execution_count": 6,
   "id": "5d4216f5-79d7-40fa-9c32-677a53a4e53d",
   "metadata": {},
   "outputs": [
    {
     "data": {
      "text/plain": [
       "(0, 0)"
      ]
     },
     "execution_count": 6,
     "metadata": {},
     "output_type": "execute_result"
    }
   ],
   "source": [
    "train.duplicated().sum(), test.duplicated().sum()"
   ]
  },
  {
   "cell_type": "code",
   "execution_count": 7,
   "id": "6e355c5d-084f-479f-a455-88c5615a7472",
   "metadata": {},
   "outputs": [
    {
     "name": "stdout",
     "output_type": "stream",
     "text": [
      "인문(문화/예술/역사)    5614\n",
      "음식              4912\n",
      "레포츠             2611\n",
      "자연              1719\n",
      "숙박              1434\n",
      "쇼핑               696\n",
      "Name: cat1, dtype: int64 \n",
      "\n",
      "음식점       4912\n",
      "육상 레포츠    2288\n",
      "자연관광지     1578\n",
      "역사관광지     1571\n",
      "숙박시설      1434\n",
      "문화시설      1220\n",
      "휴양관광지      889\n",
      "체험관광지      805\n",
      "쇼핑         696\n",
      "축제         569\n",
      "건축/조형물     328\n",
      "수상 레포츠     277\n",
      "관광자원       141\n",
      "공연/행사      139\n",
      "산업관광지       93\n",
      "복합 레포츠      24\n",
      "항공 레포츠      11\n",
      "레포츠소개       11\n",
      "Name: cat2, dtype: int64 \n",
      "\n",
      "한식                3438\n",
      "야영장,오토캠핑장         1558\n",
      "바/까페               785\n",
      "유적지/사적지            622\n",
      "일반축제               549\n",
      "                  ... \n",
      "MTB                  2\n",
      "대중콘서트                2\n",
      "인라인(실내 인라인 포함)       2\n",
      "스카이다이빙               2\n",
      "클래식음악회               2\n",
      "Name: cat3, Length: 128, dtype: int64\n"
     ]
    }
   ],
   "source": [
    "print(train.cat1.value_counts(), '\\n')\n",
    "print(train.cat2.value_counts(), '\\n')\n",
    "print(train.cat3.value_counts())"
   ]
  },
  {
   "cell_type": "code",
   "execution_count": 8,
   "id": "ef411cae-1f39-4b63-a942-ac13856511d6",
   "metadata": {},
   "outputs": [
    {
     "data": {
      "text/plain": [
       "(6, 18, 128)"
      ]
     },
     "execution_count": 8,
     "metadata": {},
     "output_type": "execute_result"
    }
   ],
   "source": [
    "# 카테고리 대, 중, 소별 갯수\n",
    "len(train.cat1.value_counts()), len(train.cat2.value_counts()), len(train.cat3.value_counts())"
   ]
  },
  {
   "cell_type": "markdown",
   "id": "0b4c0285-b131-4469-b175-2b2ec1d0db5a",
   "metadata": {},
   "source": [
    "## [1-2] 이미지 불러오기"
   ]
  },
  {
   "cell_type": "code",
   "execution_count": 9,
   "id": "884ab909-48ce-47d2-8e1c-2ad4c50db2db",
   "metadata": {},
   "outputs": [],
   "source": [
    "IMG_PATH='/MainData/image/train/'\n",
    "img_path_list=os.listdir(IMG_PATH)"
   ]
  },
  {
   "cell_type": "code",
   "execution_count": 21,
   "id": "13c6fdda-a3cf-4dc3-ae84-cac35259d7be",
   "metadata": {},
   "outputs": [],
   "source": [
    "img_list=[]\n",
    "file_list=[]\n",
    "\n",
    "for file in img_path_list:\n",
    "    im = plt.imread(IMG_PATH + file)\n",
    "    im = cv2.resize(im, (300, 200))\n",
    "    im = im.reshape(-1, 300, 200, 3)\n",
    "    img_list.append(im)\n",
    "    file_list.append(file.split('.jpg')[0])"
   ]
  },
  {
   "cell_type": "code",
   "execution_count": 22,
   "id": "7ed7873b-db24-454b-b3c3-afd79471828d",
   "metadata": {},
   "outputs": [
    {
     "data": {
      "text/plain": [
       "((1, 300, 200, 3),\n",
       " [array([[[[ 80,  87, 105],\n",
       "           [ 79,  87, 105],\n",
       "           [ 81,  88, 106],\n",
       "           ...,\n",
       "           [ 50,  73, 107],\n",
       "           [ 49,  72, 106],\n",
       "           [ 49,  71, 108]],\n",
       "  \n",
       "          [[ 49,  71, 108],\n",
       "           [ 49,  71, 108],\n",
       "           [ 49,  71, 108],\n",
       "           ...,\n",
       "           [ 75,  91, 117],\n",
       "           [ 74,  90, 116],\n",
       "           [ 75,  91, 117]],\n",
       "  \n",
       "          [[ 75,  91, 117],\n",
       "           [ 76,  92, 118],\n",
       "           [ 75,  91, 117],\n",
       "           ...,\n",
       "           [ 37,  56,  91],\n",
       "           [ 41,  57,  91],\n",
       "           [ 41,  57,  91]],\n",
       "  \n",
       "          ...,\n",
       "  \n",
       "          [[105,  89,  76],\n",
       "           [ 85,  71,  58],\n",
       "           [ 80,  67,  54],\n",
       "           ...,\n",
       "           [111,  98,  81],\n",
       "           [100,  87,  71],\n",
       "           [109,  98,  80]],\n",
       "  \n",
       "          [[118, 107,  89],\n",
       "           [112,  99,  82],\n",
       "           [108,  94,  78],\n",
       "           ...,\n",
       "           [ 97,  85,  69],\n",
       "           [ 92,  83,  65],\n",
       "           [102,  92,  76]],\n",
       "  \n",
       "          [[ 96,  86,  69],\n",
       "           [104,  93,  77],\n",
       "           [110, 101,  84],\n",
       "           ...,\n",
       "           [ 89,  75,  64],\n",
       "           [ 92,  78,  65],\n",
       "           [ 90,  74,  61]]]], dtype=uint8),\n",
       "  array([[[[128, 157, 199],\n",
       "           [128, 157, 199],\n",
       "           [128, 157, 199],\n",
       "           ...,\n",
       "           [147, 177, 215],\n",
       "           [149, 179, 216],\n",
       "           [147, 177, 213]],\n",
       "  \n",
       "          [[148, 177, 214],\n",
       "           [148, 178, 214],\n",
       "           [149, 179, 215],\n",
       "           ...,\n",
       "           [151, 180, 214],\n",
       "           [151, 180, 214],\n",
       "           [151, 180, 214]],\n",
       "  \n",
       "          [[152, 181, 215],\n",
       "           [152, 181, 215],\n",
       "           [152, 181, 215],\n",
       "           ...,\n",
       "           [135, 164, 204],\n",
       "           [137, 165, 205],\n",
       "           [136, 164, 203]],\n",
       "  \n",
       "          ...,\n",
       "  \n",
       "          [[182, 161,  80],\n",
       "           [188, 167,  88],\n",
       "           [160, 138,  61],\n",
       "           ...,\n",
       "           [ 75,  89,  98],\n",
       "           [ 75,  89,  99],\n",
       "           [ 74,  89,  96]],\n",
       "  \n",
       "          [[ 72,  89,  98],\n",
       "           [ 72,  89,  99],\n",
       "           [ 73,  87,  96],\n",
       "           ...,\n",
       "           [106, 107, 101],\n",
       "           [108, 109, 103],\n",
       "           [107, 108, 102]],\n",
       "  \n",
       "          [[110, 109, 104],\n",
       "           [107, 106, 101],\n",
       "           [106, 108,  98],\n",
       "           ...,\n",
       "           [ 74,  82,  93],\n",
       "           [ 73,  81,  92],\n",
       "           [ 73,  79,  93]]]], dtype=uint8)])"
      ]
     },
     "execution_count": 22,
     "metadata": {},
     "output_type": "execute_result"
    }
   ],
   "source": [
    "img_list[0].shape, img_list[:2]"
   ]
  },
  {
   "cell_type": "code",
   "execution_count": 23,
   "id": "24926e21-0869-4c91-9c38-2f503a706d22",
   "metadata": {},
   "outputs": [
    {
     "data": {
      "text/plain": [
       "['TRAIN_00000', 'TRAIN_00001', 'TRAIN_00002', 'TRAIN_00003', 'TRAIN_00004']"
      ]
     },
     "execution_count": 23,
     "metadata": {},
     "output_type": "execute_result"
    }
   ],
   "source": [
    "file_list[:5]"
   ]
  },
  {
   "cell_type": "code",
   "execution_count": 24,
   "id": "e0ff07d4-55db-47ac-a765-0eb5ade9f536",
   "metadata": {},
   "outputs": [],
   "source": [
    "img_arr=np.concatenate(img_list)"
   ]
  },
  {
   "cell_type": "code",
   "execution_count": 31,
   "id": "839f2d1b-bdea-4384-8ec8-ba065afbc03f",
   "metadata": {},
   "outputs": [],
   "source": [
    "# img_arr[0]"
   ]
  },
  {
   "cell_type": "markdown",
   "id": "e530e53a-f83a-4aed-a66f-e6d5d5a4ff1b",
   "metadata": {},
   "source": [
    "## [2] 전처리"
   ]
  },
  {
   "cell_type": "code",
   "execution_count": 26,
   "id": "e79b404a-dfed-44b2-b456-12390dc02850",
   "metadata": {},
   "outputs": [],
   "source": [
    "# 라벨 인코더\n",
    "le = LabelEncoder()\n",
    "target1 = le.fit_transform(train.cat1)\n",
    "target2 = le.fit_transform(train.cat2)\n",
    "target3 = le.fit_transform(train.cat3)"
   ]
  },
  {
   "cell_type": "code",
   "execution_count": 27,
   "id": "bf4cfce7-fe2d-48e6-bcbd-31ce02a4f00b",
   "metadata": {},
   "outputs": [
    {
     "data": {
      "text/plain": [
       "((16986,), (16986,), (16986,))"
      ]
     },
     "execution_count": 27,
     "metadata": {},
     "output_type": "execute_result"
    }
   ],
   "source": [
    "target1.shape, target2.shape, target3.shape"
   ]
  },
  {
   "cell_type": "code",
   "execution_count": 28,
   "id": "997b44e9-f92e-4d45-8590-f06061301067",
   "metadata": {},
   "outputs": [],
   "source": [
    "# train, test데이터 분리\n",
    "X_train, X_test, y_train, y_test=train_test_split(img_arr, target1,\n",
    "                                                 stratify=target1,\n",
    "                                                 random_state=42,\n",
    "                                                 test_size=0.2)"
   ]
  },
  {
   "cell_type": "code",
   "execution_count": 29,
   "id": "ebee2195-5f33-422f-842e-66aff1725814",
   "metadata": {},
   "outputs": [
    {
     "data": {
      "text/plain": [
       "(array([[[255, 255, 255],\n",
       "         [255, 255, 255],\n",
       "         [255, 255, 255],\n",
       "         ...,\n",
       "         [255, 255, 255],\n",
       "         [255, 255, 255],\n",
       "         [255, 255, 255]],\n",
       " \n",
       "        [[255, 255, 255],\n",
       "         [255, 255, 255],\n",
       "         [255, 255, 255],\n",
       "         ...,\n",
       "         [255, 255, 255],\n",
       "         [255, 255, 255],\n",
       "         [255, 255, 255]],\n",
       " \n",
       "        [[255, 255, 255],\n",
       "         [255, 255, 255],\n",
       "         [255, 255, 255],\n",
       "         ...,\n",
       "         [246, 246, 254],\n",
       "         [248, 248, 255],\n",
       "         [244, 247, 254]],\n",
       " \n",
       "        ...,\n",
       " \n",
       "        [[159, 168, 137],\n",
       "         [135, 134, 108],\n",
       "         [154, 126,  98],\n",
       "         ...,\n",
       "         [186, 175, 145],\n",
       "         [201, 197, 166],\n",
       "         [208, 208, 181]],\n",
       " \n",
       "        [[206, 207, 174],\n",
       "         [201, 197, 167],\n",
       "         [213, 212, 184],\n",
       "         ...,\n",
       "         [202, 201, 171],\n",
       "         [184, 183, 154],\n",
       "         [188, 189, 160]],\n",
       " \n",
       "        [[184, 188, 161],\n",
       "         [161, 164, 136],\n",
       "         [168, 154, 128],\n",
       "         ...,\n",
       "         [212, 195, 158],\n",
       "         [229, 210, 167],\n",
       "         [212, 205, 161]]], dtype=uint8),\n",
       " (13588, 300, 200, 3),\n",
       " 0,\n",
       " (13588,))"
      ]
     },
     "execution_count": 29,
     "metadata": {},
     "output_type": "execute_result"
    }
   ],
   "source": [
    "X_train[0], X_train.shape, y_train[0], y_train.shape"
   ]
  },
  {
   "cell_type": "markdown",
   "id": "f6fcf0b9-2a91-41d2-ad9b-b69fef3b1575",
   "metadata": {},
   "source": [
    "## [3] 모델 구상"
   ]
  },
  {
   "cell_type": "code",
   "execution_count": 34,
   "id": "19912d8d-ca89-4732-bfc5-f76cf59dede1",
   "metadata": {},
   "outputs": [],
   "source": [
    "model = Sequential()\n",
    "\n",
    "model.add(Conv2D(32, kernel_size=(3), # 자동으로 (3,3)\n",
    "                 activation='relu',\n",
    "                 input_shape=(28, 28, 1))) # (28, 28), 1은 흑백\n",
    "model.add(Conv2D(64, (3, 3), activation='relu'))\n",
    "model.add(MaxPooling2D(pool_size=(2, 2))) # 축소\n",
    "model.add(Dropout(0.25)) # 과적합 방지\n",
    "model.add(Flatten()) # 펼침\n",
    "model.add(Dense(128, activation='relu')) # 펼치고 Dense하면 정확도 상승\n",
    "model.add(Dropout(0.5)) # 과적합 방지\n",
    "model.add(Dense(6, activation='softmax')) # 출력층"
   ]
  },
  {
   "cell_type": "code",
   "execution_count": 35,
   "id": "96d19880-84bb-4f71-ae34-000a8685515c",
   "metadata": {},
   "outputs": [
    {
     "name": "stdout",
     "output_type": "stream",
     "text": [
      "Model: \"sequential_1\"\n",
      "_________________________________________________________________\n",
      " Layer (type)                Output Shape              Param #   \n",
      "=================================================================\n",
      " conv2d_2 (Conv2D)           (None, 26, 26, 32)        320       \n",
      "                                                                 \n",
      " conv2d_3 (Conv2D)           (None, 24, 24, 64)        18496     \n",
      "                                                                 \n",
      " max_pooling2d_1 (MaxPooling  (None, 12, 12, 64)       0         \n",
      " 2D)                                                             \n",
      "                                                                 \n",
      " dropout_2 (Dropout)         (None, 12, 12, 64)        0         \n",
      "                                                                 \n",
      " flatten_1 (Flatten)         (None, 9216)              0         \n",
      "                                                                 \n",
      " dense_2 (Dense)             (None, 128)               1179776   \n",
      "                                                                 \n",
      " dropout_3 (Dropout)         (None, 128)               0         \n",
      "                                                                 \n",
      " dense_3 (Dense)             (None, 6)                 774       \n",
      "                                                                 \n",
      "=================================================================\n",
      "Total params: 1,199,366\n",
      "Trainable params: 1,199,366\n",
      "Non-trainable params: 0\n",
      "_________________________________________________________________\n"
     ]
    }
   ],
   "source": [
    "model.summary()"
   ]
  },
  {
   "cell_type": "code",
   "execution_count": 39,
   "id": "fa65664e-ce30-45c9-9d33-4413a5d34db2",
   "metadata": {},
   "outputs": [
    {
     "name": "stdout",
     "output_type": "stream",
     "text": [
      "You must install pydot (`pip install pydot`) and install graphviz (see instructions at https://graphviz.gitlab.io/download/) for plot_model to work.\n"
     ]
    }
   ],
   "source": [
    "plot_model(model)"
   ]
  },
  {
   "cell_type": "markdown",
   "id": "41c540a6-ca34-4fa8-b5de-efea70a02659",
   "metadata": {},
   "source": [
    "## [3-2] 모델 생성"
   ]
  },
  {
   "cell_type": "code",
   "execution_count": 43,
   "id": "f73f3b72-d06d-4a90-a0a4-cb688f9105ed",
   "metadata": {},
   "outputs": [],
   "source": [
    "model.compile(loss='sparse_crossentropy',\n",
    "             optimizer='adam',\n",
    "             metrics='accuracy')"
   ]
  },
  {
   "cell_type": "markdown",
   "id": "3538c3ac-093f-4f17-abae-86d10262f48e",
   "metadata": {},
   "source": [
    "## [3-3] 모델 학습"
   ]
  },
  {
   "cell_type": "code",
   "execution_count": null,
   "id": "1b1c4542-0f95-4cb3-84ab-f742a2a44152",
   "metadata": {},
   "outputs": [],
   "source": []
  },
  {
   "cell_type": "code",
   "execution_count": null,
   "id": "d24b812f-3a7c-42f9-b457-b20dafd01618",
   "metadata": {},
   "outputs": [],
   "source": []
  }
 ],
 "metadata": {
  "kernelspec": {
   "display_name": "Python 3 (ipykernel)",
   "language": "python",
   "name": "python3"
  },
  "language_info": {
   "codemirror_mode": {
    "name": "ipython",
    "version": 3
   },
   "file_extension": ".py",
   "mimetype": "text/x-python",
   "name": "python",
   "nbconvert_exporter": "python",
   "pygments_lexer": "ipython3",
   "version": "3.9.13"
  }
 },
 "nbformat": 4,
 "nbformat_minor": 5
}

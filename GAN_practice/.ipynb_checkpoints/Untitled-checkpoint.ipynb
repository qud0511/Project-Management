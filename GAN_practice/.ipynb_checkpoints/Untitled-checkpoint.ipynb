{
 "cells": [
  {
   "cell_type": "code",
   "execution_count": 29,
   "id": "1b3e6e00-e546-4abf-ae2d-98021e4507d8",
   "metadata": {},
   "outputs": [],
   "source": [
    "# 모듈 로딩\n",
    "import tensorflow as tf\n",
    "from tensorflow import keras\n",
    "from tensorflow.keras import layers\n",
    "from tensorflow.keras.utils import plot_model\n",
    "\n",
    "import matplotlib.pyplot as plt\n",
    "import numpy as np\n",
    "import os\n",
    "import time"
   ]
  },
  {
   "cell_type": "code",
   "execution_count": 30,
   "id": "34926e67-ec24-4f27-9527-fabffa075f0c",
   "metadata": {},
   "outputs": [],
   "source": [
    "# 가중치 고정\n",
    "tf.random.set_seed(42)\n",
    "np.random.seed(42)"
   ]
  },
  {
   "cell_type": "code",
   "execution_count": 31,
   "id": "415b14d0-5226-4c92-abe9-bb93ed0e38e5",
   "metadata": {},
   "outputs": [],
   "source": [
    "# 데이터 가져오기\n",
    "(X_train, y_train), (X_test, y_label) = tf.keras.datasets.mnist.load_data()"
   ]
  },
  {
   "cell_type": "code",
   "execution_count": 32,
   "id": "ec5bae59-2675-4e48-a7ee-00f753ad23e5",
   "metadata": {},
   "outputs": [],
   "source": [
    "# 데이터 전처리\n",
    "X_train=X_train.reshape(-1, 28, 28, 1).astype('float64')\n",
    "X_train=(X_train-127.5)/127.5\n",
    "\n",
    "X_test=X_test.reshape(-1, 28, 28, 1).astype('float64')\n",
    "X_test=(X_test-127.5)/127.5\n",
    "# 마지막 layer의 활성화 함수로 sigmoid(0~1) 보다 tanh(-1~1)를 더 선호합니다."
   ]
  },
  {
   "cell_type": "code",
   "execution_count": 33,
   "id": "a89bfd55-a3a0-4a34-bd4b-9e1e52dc6046",
   "metadata": {},
   "outputs": [
    {
     "data": {
      "text/plain": [
       "(60000, 28, 28, 1)"
      ]
     },
     "execution_count": 33,
     "metadata": {},
     "output_type": "execute_result"
    }
   ],
   "source": [
    "X_train.shape"
   ]
  },
  {
   "cell_type": "code",
   "execution_count": 34,
   "id": "898410e5-f08a-45d8-9c8f-5d01a5f8bff5",
   "metadata": {},
   "outputs": [],
   "source": [
    "BUFFER_SIZE = 60000\n",
    "BATCH_SIZE = 128\n",
    "train_dataset=tf.data.Dataset.from_tensor_slices(X_train).shuffle(BUFFER_SIZE).batch(BATCH_SIZE)"
   ]
  },
  {
   "cell_type": "code",
   "execution_count": 35,
   "id": "7566d5b2-fe82-4447-990f-66d8fac20415",
   "metadata": {},
   "outputs": [],
   "source": [
    "# Vanila GAN\n",
    "# Generator 모델 작성\n",
    "# G 모델은 Noise로 부터 원래의 데이터를 생성해내는 모델입니다.\n",
    "# Input : 100차원의 noise\n",
    "# Output : Mnist 이미지 크기인 28*28\n",
    "\n",
    "inputs=keras.Input(shape=(100,))\n",
    "x=inputs\n",
    "x=layers.Dense(256)(x)\n",
    "x=layers.LeakyReLU()(x)\n",
    "x=layers.Dense(28*28, activation='tanh')(x)\n",
    "outputs=layers.Reshape((28,28))(x)"
   ]
  },
  {
   "cell_type": "code",
   "execution_count": 36,
   "id": "3e860b21-da76-47c1-a718-050ef5b5baa7",
   "metadata": {},
   "outputs": [],
   "source": [
    "G=keras.Model(inputs, outputs)"
   ]
  },
  {
   "cell_type": "code",
   "execution_count": 37,
   "id": "7e77fbe6-28b3-40d6-977f-ee4308860eeb",
   "metadata": {},
   "outputs": [
    {
     "name": "stdout",
     "output_type": "stream",
     "text": [
      "Model: \"model_1\"\n",
      "_________________________________________________________________\n",
      " Layer (type)                Output Shape              Param #   \n",
      "=================================================================\n",
      " input_7 (InputLayer)        [(None, 100)]             0         \n",
      "                                                                 \n",
      " dense_12 (Dense)            (None, 256)               25856     \n",
      "                                                                 \n",
      " leaky_re_lu_6 (LeakyReLU)   (None, 256)               0         \n",
      "                                                                 \n",
      " dense_13 (Dense)            (None, 784)               201488    \n",
      "                                                                 \n",
      " reshape_5 (Reshape)         (None, 28, 28)            0         \n",
      "                                                                 \n",
      "=================================================================\n",
      "Total params: 227,344\n",
      "Trainable params: 227,344\n",
      "Non-trainable params: 0\n",
      "_________________________________________________________________\n"
     ]
    }
   ],
   "source": [
    "G.summary()"
   ]
  },
  {
   "cell_type": "code",
   "execution_count": 39,
   "id": "c1904552-742c-4e5b-89c9-72f0127c290c",
   "metadata": {},
   "outputs": [
    {
     "name": "stdout",
     "output_type": "stream",
     "text": [
      "You must install pydot (`pip install pydot`) and install graphviz (see instructions at https://graphviz.gitlab.io/download/) for plot_model to work.\n"
     ]
    }
   ],
   "source": [
    "plot_model(G)"
   ]
  },
  {
   "cell_type": "code",
   "execution_count": 40,
   "id": "d73b4108-4722-4b7a-ba25-5045b4af448b",
   "metadata": {},
   "outputs": [],
   "source": [
    "# Discriminaotr 모델 작성\n",
    "# D모델은 28*28 이미지가 실제 데이터인지 만들어진 데이터인지 판별합니다.\n",
    "# Input : Mnist 이미지 (28*28)\n",
    "# Output : 실제 데이터 일 확률 (0~1 사이의 값)\n",
    "inputs = keras.Input(shape=(28,28))\n",
    "x = layers.Flatten()(inputs)\n",
    "x = layers.Dense(256)(x)\n",
    "x = layers.LeakyReLU()(x)\n",
    "x = layers.Dropout(0.3)(x)\n",
    "outputs = layers.Dense(1)(x)"
   ]
  },
  {
   "cell_type": "code",
   "execution_count": 41,
   "id": "4fbcbcd3-c4d4-4ee5-9acf-1db092427846",
   "metadata": {},
   "outputs": [
    {
     "name": "stdout",
     "output_type": "stream",
     "text": [
      "Model: \"model_2\"\n",
      "_________________________________________________________________\n",
      " Layer (type)                Output Shape              Param #   \n",
      "=================================================================\n",
      " input_8 (InputLayer)        [(None, 28, 28)]          0         \n",
      "                                                                 \n",
      " flatten (Flatten)           (None, 784)               0         \n",
      "                                                                 \n",
      " dense_14 (Dense)            (None, 256)               200960    \n",
      "                                                                 \n",
      " leaky_re_lu_7 (LeakyReLU)   (None, 256)               0         \n",
      "                                                                 \n",
      " dropout (Dropout)           (None, 256)               0         \n",
      "                                                                 \n",
      " dense_15 (Dense)            (None, 1)                 257       \n",
      "                                                                 \n",
      "=================================================================\n",
      "Total params: 201,217\n",
      "Trainable params: 201,217\n",
      "Non-trainable params: 0\n",
      "_________________________________________________________________\n"
     ]
    }
   ],
   "source": [
    "D = keras.Model(inputs, outputs)\n",
    "D.summary()"
   ]
  },
  {
   "cell_type": "code",
   "execution_count": null,
   "id": "5c11005b-b7c8-4f40-9202-232318104727",
   "metadata": {},
   "outputs": [],
   "source": []
  }
 ],
 "metadata": {
  "kernelspec": {
   "display_name": "Python 3 (ipykernel)",
   "language": "python",
   "name": "python3"
  },
  "language_info": {
   "codemirror_mode": {
    "name": "ipython",
    "version": 3
   },
   "file_extension": ".py",
   "mimetype": "text/x-python",
   "name": "python",
   "nbconvert_exporter": "python",
   "pygments_lexer": "ipython3",
   "version": "3.9.13"
  }
 },
 "nbformat": 4,
 "nbformat_minor": 5
}

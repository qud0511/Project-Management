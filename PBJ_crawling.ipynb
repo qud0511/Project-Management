{
 "cells": [
  {
   "cell_type": "markdown",
   "id": "f0a4cd5a-0d7a-4562-9572-32332c2f6f98",
   "metadata": {},
   "source": [
    "https://velog.io/@jaehyeong/CNN-%EB%AA%A8%EB%8D%B8%EC%9D%84-%ED%86%B5%ED%95%9C-%EC%9E%90%EB%8F%99%EC%B0%A8-%EC%82%AC%EA%B3%A0-%EC%9D%B4%EB%AF%B8%EC%A7%80-%EB%B6%84%EB%A5%98"
   ]
  },
  {
   "cell_type": "code",
   "execution_count": 1,
   "id": "1b420076-8d39-452c-b4fe-05121e2e0fe4",
   "metadata": {},
   "outputs": [],
   "source": [
    "import numpy as np\n",
    "import pandas as pd\n",
    "import os, glob\n",
    "from PIL import Image\n",
    "from sklearn.model_selection import train_test_split\n",
    "\n",
    "import tensorflow as tf\n",
    "from keras.utils import set_random_seed"
   ]
  },
  {
   "cell_type": "code",
   "execution_count": 2,
   "id": "db5fb99f-1a5c-4cb1-ac47-afcce10b1838",
   "metadata": {},
   "outputs": [],
   "source": [
    "# 랜덤값 고정\n",
    "np.random.seed(42)\n",
    "tf.random.set_seed(42)\n",
    "set_random_seed(42)"
   ]
  },
  {
   "cell_type": "code",
   "execution_count": 3,
   "id": "6df1dbe4-792a-49a8-bd30-f7d884d3dae0",
   "metadata": {},
   "outputs": [],
   "source": [
    "# 데이터 불러오기\n",
    "train = pd.read_csv('/MainData/train.csv')\n",
    "test=pd.read_csv('/MainData/test.csv')"
   ]
  },
  {
   "cell_type": "code",
   "execution_count": 4,
   "id": "ae7ff172-a4ba-45b1-9744-ba20683a5516",
   "metadata": {},
   "outputs": [
    {
     "data": {
      "text/plain": [
       "음식점       4912\n",
       "육상 레포츠    2288\n",
       "자연관광지     1578\n",
       "역사관광지     1571\n",
       "숙박시설      1434\n",
       "문화시설      1220\n",
       "휴양관광지      889\n",
       "체험관광지      805\n",
       "쇼핑         696\n",
       "축제         569\n",
       "건축/조형물     328\n",
       "수상 레포츠     277\n",
       "관광자원       141\n",
       "공연/행사      139\n",
       "산업관광지       93\n",
       "복합 레포츠      24\n",
       "항공 레포츠      11\n",
       "레포츠소개       11\n",
       "Name: cat2, dtype: int64"
      ]
     },
     "execution_count": 4,
     "metadata": {},
     "output_type": "execute_result"
    }
   ],
   "source": [
    "train.cat2.value_counts()"
   ]
  },
  {
   "cell_type": "code",
   "execution_count": 5,
   "id": "b94d2a5d-edc7-4af0-af3f-ec07c9a32bea",
   "metadata": {},
   "outputs": [
    {
     "data": {
      "text/plain": [
       "array(['자연관광지', '육상 레포츠', '음식점', '축제', '역사관광지', '문화시설', '휴양관광지', '숙박시설',\n",
       "       '공연/행사', '쇼핑', '체험관광지', '복합 레포츠', '건축/조형물', '관광자원', '수상 레포츠',\n",
       "       '산업관광지', '항공 레포츠', '레포츠소개'], dtype=object)"
      ]
     },
     "execution_count": 5,
     "metadata": {},
     "output_type": "execute_result"
    }
   ],
   "source": [
    "train.cat2.unique()"
   ]
  },
  {
   "cell_type": "code",
   "execution_count": 6,
   "id": "ea35760d-0574-4755-8eba-4064f5490a43",
   "metadata": {},
   "outputs": [],
   "source": [
    "# ! pip install icrawler\n",
    "from icrawler.builtin import GoogleImageCrawler"
   ]
  },
  {
   "cell_type": "code",
   "execution_count": 7,
   "id": "9f195612-7bf7-445f-b7f1-a25399a71c26",
   "metadata": {
    "collapsed": true,
    "jupyter": {
     "outputs_hidden": true
    },
    "tags": []
   },
   "outputs": [
    {
     "name": "stderr",
     "output_type": "stream",
     "text": [
      "2022-10-05 19:32:54,552 - INFO - icrawler.crawler - start crawling...\n",
      "2022-10-05 19:32:54,552 - INFO - icrawler.crawler - starting 1 feeder threads...\n",
      "2022-10-05 19:32:54,552 - INFO - feeder - thread feeder-001 exit\n",
      "2022-10-05 19:32:54,552 - INFO - icrawler.crawler - starting 2 parser threads...\n",
      "2022-10-05 19:32:54,567 - INFO - icrawler.crawler - starting 4 downloader threads...\n",
      "2022-10-05 19:32:55,872 - INFO - parser - parsing result page https://www.google.com/search?q=%EC%97%AC%ED%96%89+%EB%AA%85%EC%86%8C&ijn=0&start=0&tbs=&tbm=isch\n",
      "2022-10-05 19:32:55,966 - INFO - parser - parsing result page https://www.google.com/search?q=%EC%97%AC%ED%96%89+%EB%AA%85%EC%86%8C&ijn=1&start=100&tbs=&tbm=isch\n",
      "2022-10-05 19:32:56,154 - INFO - downloader - image #1\thttps://static.hubzum.zumst.com/hubzum/2018/02/08/13/67608d0ce7cf46959cf9235a93a22375.jpg\n",
      "2022-10-05 19:32:56,215 - INFO - downloader - image #2\thttps://static.hubzum.zumst.com/hubzum/2018/02/08/13/c55478f174574c47bcfe70cd6a423379.jpg\n",
      "2022-10-05 19:32:56,637 - INFO - downloader - image #3\thttps://a.cdn-hotels.com/gdcs/production145/d650/658ae687-dd9b-4d0b-a80a-41d3a53cc180.jpg\n",
      "2022-10-05 19:32:56,736 - INFO - downloader - image #4\thttps://a.cdn-hotels.com/gdcs/production32/d441/878c85e5-265c-4af7-8a99-cc27d80670fa.jpg\n",
      "2022-10-05 19:32:56,736 - INFO - downloader - image #5\thttps://blog.kakaocdn.net/dn/t4gAu/btqUZt1JTyV/Khn7AmEBJvbiwJ888F8av0/img.jpg\n",
      "2022-10-05 19:32:56,748 - INFO - downloader - image #6\thttps://blog.kakaocdn.net/dn/ctAZzt/btqU53OeXmF/KIrEvpFNPM5iIMaFDv4iD1/img.jpg\n",
      "2022-10-05 19:32:56,901 - INFO - downloader - image #7\thttp://travel.chosun.com/site/data/img_dir/2014/05/13/2014051302477_0.jpg\n",
      "2022-10-05 19:32:57,002 - INFO - downloader - image #8\thttps://a.cdn-hotels.com/gdcs/production127/d1781/ac9d03ef-22b4-4330-8e8d-695093138cf4.jpg\n",
      "2022-10-05 19:32:57,002 - INFO - downloader - image #9\thttps://www.agoda.com/wp-content/uploads/2019/03/Seoul-attractions-Bukchon-Hanok-Village.jpg\n",
      "2022-10-05 19:32:57,233 - ERROR - downloader - Response status code 403, file https://t1.daumcdn.net/thumb/R720x0/?fname\\u003dhttp://t1.daumcdn.net/brunch/service/user/1jPF/image/6fhv2eITsV6BEX0C4QGhE2DkZxU.jpg\n",
      "2022-10-05 19:32:57,331 - INFO - downloader - image #10\thttp://www.choicenews.co.kr/news/photo/202206/102039_70974_2027.jpg\n",
      "2022-10-05 19:32:57,608 - INFO - downloader - image #11\thttps://blogfiles.pstatic.net/MjAxOTA2MjdfMzkg/MDAxNTYxNjIwNDM4Nzkw.X3gZqABBfis-qhkQm9GB0XHq5OEhNddaHIhS37pGsdwg.y_ePwSbLm_v0_QLm1tksHyVAMy2B7EJnGZhnwiUtTHUg.PNG.myrealtrip/%EA%B5%AD%EB%82%B4%EC%97%AC%ED%96%89_%ED%8C%A8%ED%82%A4%EC%A7%80_%EC%B6%94%EC%B2%9C_%EC%98%A4%ED%9B%84_4.25.03.png\n",
      "2022-10-05 19:32:57,639 - INFO - downloader - image #12\thttp://www.fieldnews.co.kr/news/photo/201812/24243_24723_2002.jpg\n",
      "2022-10-05 19:32:57,763 - INFO - downloader - image #13\thttps://www.jeongseon.go.kr/upload/contentsmanage/AT_20210309_17.jpg\n",
      "2022-10-05 19:32:57,771 - INFO - downloader - image #14\thttps://blog.kakaocdn.net/dn/bCjocq/btraqSdgJbe/rf3wqvGO7KBKKcsj3gvKR1/img.jpg\n",
      "2022-10-05 19:32:57,772 - INFO - downloader - image #15\thttp://tourimage.interpark.com/BBS/Tour/FckUpload/201702/6362172685150069460.jpg\n",
      "2022-10-05 19:32:57,894 - INFO - downloader - image #16\thttp://image14.hanatour.com/uploads/2018/08/5_4%EA%B4%91%EC%9E%A5_%EB%82%AE_(2)1.jpg\n",
      "2022-10-05 19:32:58,047 - INFO - downloader - image #17\thttp://www.korea.kr/newsWeb/resources/attaches/2020.07/14/top.jpg\n",
      "2022-10-05 19:32:58,200 - INFO - downloader - image #18\thttp://www.gjfocus.co.kr/news/photo/201901/10750_20911_2342.jpg\n",
      "2022-10-05 19:32:58,224 - INFO - downloader - image #19\thttps://file.mk.co.kr/meet/neds/2022/05/image_readtop_2022_455346_16533017655051269.jpg\n",
      "2022-10-05 19:32:58,424 - INFO - downloader - image #20\thttps://rimage.gnst.jp/livejapan.com/public/article/detail/a/00/00/a0000715/img/basic/a0000715_main.jpg\n",
      "2022-10-05 19:32:58,597 - INFO - downloader - image #21\thttps://tour.daegu.go.kr/cmsh/tour.daegu.go.kr/images/img/front/sub/dgtour30_5.jpg\n",
      "2022-10-05 19:32:58,669 - INFO - downloader - image #22\thttps://cdn.pixabay.com/photo/2019/11/07/11/27/taj-mahal-4608641_960_720.jpg\n",
      "2022-10-05 19:32:58,796 - INFO - downloader - image #23\thttps://cdn.pixabay.com/photo/2022/02/27/19/46/tourist-attraction-7037967_960_720.jpg\n",
      "2022-10-05 19:32:59,160 - INFO - downloader - image #24\thttps://idsn.co.kr/news/data/20210128/p179524047858615_527.png\n",
      "2022-10-05 19:32:59,552 - ERROR - downloader - Response status code 400, file https://dynamic-media-cdn.tripadvisor.com/media/photo-o/0f/0f/b4/28/village-view.jpg\n",
      "2022-10-05 19:32:59,637 - INFO - downloader - image #25\thttps://img.hankyung.com/photo/202103/01.25769534.1.jpg\n",
      "2022-10-05 19:32:59,791 - INFO - downloader - image #26\thttps://img.khan.co.kr/news/2021/06/29/l_2021063001003544200307761.jpg\n",
      "2022-10-05 19:32:59,888 - INFO - downloader - image #27\thttps://i0.wp.com/blog.allstay.com/wp-content/uploads/2018/07/%EC%83%81%ED%95%B4-%EC%97%AC%ED%96%89-%EB%AA%85%EC%86%8C-%EC%99%80%EC%9D%B4%ED%83%84.jpg\n",
      "2022-10-05 19:33:00,126 - ERROR - downloader - Response status code 400, file https://dynamic-media-cdn.tripadvisor.com/media/photo-o/17/68/16/27/20190501-125853-largejpg.jpg\n",
      "2022-10-05 19:33:00,242 - INFO - downloader - image #28\thttps://www.mof.go.kr/upload/article/17/2019090416cf9c318a382.jpg\n",
      "2022-10-05 19:33:00,390 - INFO - downloader - image #29\thttps://www.korea.kr/newsWeb/resources/attaches/2019.01/07/han.jpg\n",
      "2022-10-05 19:33:00,435 - INFO - downloader - image #30\thttp://www.kyeongin.com/mnt/file/202104/2021040601000213100009701.jpg\n",
      "2022-10-05 19:33:00,559 - INFO - downloader - image #31\thttps://file.mk.co.kr/meet/yonhap/2022/03/29/image_readtop_2022_283603_0_154711.jpg\n",
      "2022-10-05 19:33:00,799 - INFO - downloader - image #32\thttps://img2.yna.co.kr/mpic/YH/2022/05/16/MYH20220516015500704_P4.jpg\n",
      "2022-10-05 19:33:00,835 - INFO - downloader - image #33\thttps://cdn.policetv.co.kr/news/photo/202101/15913_11821_2629.jpg\n",
      "2022-10-05 19:33:01,006 - INFO - downloader - image #34\thttps://www.haeundae.go.kr/upload_data/board_data/BBS_0000103/thumbnail/162926424628645.jpg\n",
      "2022-10-05 19:33:01,201 - INFO - downloader - image #35\thttps://thinkyou.co.kr/upload/consult/%EA%B2%BD%EA%B8%B0%EB%8F%84%EA%B5%AC%EC%84%9D%EA%B5%AC%EC%84%9D%EA%B4%80%EA%B4%91%EB%AA%85%EC%86%8C%EB%B0%9C%EA%B5%B4%EA%B3%B5%EB%AA%A8%EC%A0%84.png\n",
      "2022-10-05 19:33:01,274 - INFO - downloader - image #36\thttps://www.gurye.go.kr/images/homepage/site/tour/content/img_tenscenic01.jpg\n",
      "2022-10-05 19:33:01,453 - INFO - downloader - image #37\thttp://www.jejunews.com/news/photo/201812/2127871_160723_2636.jpg\n",
      "2022-10-05 19:33:01,581 - INFO - downloader - image #38\thttps://wishbeen-seoul.s3.ap-northeast-2.amazonaws.com/plan/1433125791128_%EB%85%B8%ED%8A%B8%EB%A5%B4%EB%8B%B4%EB%8C%80%EC%84%B1%EB%8B%B9.png\n",
      "2022-10-05 19:33:01,653 - INFO - downloader - image #39\thttp://www.travelnbike.com/news/photo/201904/80469_149437_2012.jpg\n",
      "2022-10-05 19:33:01,730 - INFO - downloader - image #40\thttps://rimage.gnst.jp/livejapan.com/public/article/detail/a/20/00/a2000678/img/basic/a2000678_main.jpg\n",
      "2022-10-05 19:33:01,836 - INFO - downloader - image #41\thttps://a.cdn-hotels.com/gdcs/production102/d1023/e3c18663-14e2-49e3-b9f0-bd7a029a661f.jpg\n",
      "2022-10-05 19:33:02,144 - INFO - downloader - image #42\thttps://www.busan.com/nas/wcms/wcms_data/photos/2022/04/06/2022040619061670418_l.jpg\n",
      "2022-10-05 19:33:02,260 - INFO - downloader - image #43\thttps://en.pimg.jp/066/294/319/1/66294319.jpg\n",
      "2022-10-05 19:33:02,265 - INFO - downloader - image #44\thttps://thumb.mt.co.kr/06/2022/08/2022080823394538252_1.jpg\n",
      "2022-10-05 19:33:02,453 - INFO - downloader - image #45\thttps://www.iwjnews.com/news/photo/201912/34745_13681_1522.jpg\n",
      "2022-10-05 19:33:02,563 - INFO - downloader - image #46\thttps://static.hubzum.zumst.com/hubzum/2018/02/08/13/5721770a754b4b1bb396635a25db6674.jpg\n",
      "2022-10-05 19:33:02,603 - ERROR - downloader - Response status code 400, file https://dynamic-media-cdn.tripadvisor.com/media/photo-o/0d/57/39/a1/majority-of-the-local.jpg\n",
      "2022-10-05 19:33:02,685 - INFO - downloader - image #47\thttps://post-phinf.pstatic.net/MjAyMDEyMjhfMTA5/MDAxNjA5MTM1NTAyNDMz.8bYYVGlD_MzMDq83kf8JPqmmsPJ9rd97m6AEAmlIF-Eg.mBKKJn0XKUDAELuGSfGlBcbIJyyQzKsh7CpiV71uOAMg.PNG/%EC%97%AC%ED%96%89%EA%B0%80%EA%B2%8C_%ED%98%84%EC%A7%80%ED%8A%B9%ED%8C%8C%EC%9B%90_%EA%B9%80%EC%98%88%EC%A7%84_01_FB.png\n",
      "2022-10-05 19:33:02,757 - INFO - downloader - image #48\thttps://www.thepublic.kr/news/data/20220314/p1065591502755797_332_thum.jpg\n",
      "2022-10-05 19:33:02,794 - INFO - downloader - image #49\thttps://tour.daegu.go.kr/cmsh/tour.daegu.go.kr/images/img/front/sub/dgtour30_6.jpg\n",
      "2022-10-05 19:33:02,801 - INFO - downloader - image #50\thttps://img.hankyung.com/photo/201412/AA.9430990.1.jpg\n",
      "2022-10-05 19:33:02,968 - INFO - downloader - image #51\thttps://pds.joongang.co.kr/news/component/htmlphoto_mmdata/202102/11/e9396c00-c4fe-4b95-a658-1424e5f68b4e.jpg\n",
      "2022-10-05 19:33:03,004 - INFO - downloader - image #52\thttps://www.economytalk.kr/news/photo/202203/220301_95471_2024.jpg\n",
      "2022-10-05 19:33:03,093 - INFO - downloader - image #53\thttps://newsroom-prd-data.s3.ap-northeast-2.amazonaws.com/wp-content/uploads/2020/12/SKT_%ED%8B%B0%EB%A7%B5%ED%8A%B8%EB%A0%8C%EB%93%9C_6%ED%83%84_Main.jpg\n",
      "2022-10-05 19:33:03,171 - INFO - downloader - image #54\thttps://dimg.donga.com/wps/NEWS/IMAGE/2020/05/11/100983740.1.jpg\n",
      "2022-10-05 19:33:03,255 - INFO - downloader - image #55\thttps://a.cdn-hotels.com/gdcs/production166/d1485/178c9f54-0fb1-40fc-bbef-c53f40f5a41a.jpg\n",
      "2022-10-05 19:33:03,272 - INFO - downloader - image #56\thttps://a.cdn-hotels.com/gdcs/production183/d421/262e6436-4f75-4679-9c67-0d42b3821489.jpg\n",
      "2022-10-05 19:33:03,334 - ERROR - downloader - Response status code 403, file https://img1.daumcdn.net/thumb/R1280x0/?fname\\u003dhttp://t1.daumcdn.net/brunch/service/user/1jPF/image/IMUl1kWc_z_QnY7axMsMzJeQ23o.jpg\n",
      "2022-10-05 19:33:03,361 - INFO - downloader - image #57\thttps://rimage.gnst.jp/livejapan.com/public/article/detail/a/10/00/a1000053/img/basic/a1000053_main.jpg\n",
      "2022-10-05 19:33:03,447 - INFO - downloader - image #58\thttp://www.ngtv.tv/news/photo/201503/24844_28263_128.jpg\n",
      "2022-10-05 19:33:03,463 - INFO - downloader - image #59\thttps://pds.joongang.co.kr/news/component/htmlphoto_mmdata/202102/24/c3c77966-46bd-42ee-a98d-34797aceb007.jpg\n",
      "2022-10-05 19:33:03,521 - ERROR - downloader - Exception caught when downloading file https://www.travelnbike.com/news/photo/201909/87377_170003_2053.jpg, error: HTTPSConnectionPool(host='www.travelnbike.com', port=443): Max retries exceeded with url: /news/photo/201909/87377_170003_2053.jpg (Caused by SSLError(SSLCertVerificationError(1, '[SSL: CERTIFICATE_VERIFY_FAILED] certificate verify failed: unable to get local issuer certificate (_ssl.c:1129)'))), remaining retry times: 2\n",
      "2022-10-05 19:33:03,613 - ERROR - downloader - Exception caught when downloading file https://www.travelnbike.com/news/photo/201909/87377_170003_2053.jpg, error: HTTPSConnectionPool(host='www.travelnbike.com', port=443): Max retries exceeded with url: /news/photo/201909/87377_170003_2053.jpg (Caused by SSLError(SSLCertVerificationError(1, '[SSL: CERTIFICATE_VERIFY_FAILED] certificate verify failed: unable to get local issuer certificate (_ssl.c:1129)'))), remaining retry times: 1\n",
      "2022-10-05 19:33:03,770 - ERROR - downloader - Exception caught when downloading file https://www.travelnbike.com/news/photo/201909/87377_170003_2053.jpg, error: HTTPSConnectionPool(host='www.travelnbike.com', port=443): Max retries exceeded with url: /news/photo/201909/87377_170003_2053.jpg (Caused by SSLError(SSLCertVerificationError(1, '[SSL: CERTIFICATE_VERIFY_FAILED] certificate verify failed: unable to get local issuer certificate (_ssl.c:1129)'))), remaining retry times: 0\n",
      "2022-10-05 19:33:03,884 - INFO - downloader - image #60\thttps://www.anseong.go.kr/tour/img/content/sub01/010409_01.jpg\n",
      "2022-10-05 19:33:04,020 - INFO - downloader - image #61\thttps://www.agoda.com/wp-content/uploads/2021/01/Dogo-Onsen-things-to-do-in-Ehime-Japan.jpg\n",
      "2022-10-05 19:33:04,091 - INFO - downloader - image #62\thttps://tour.daegu.go.kr/cmsh/tour.daegu.go.kr/images/img/front/sub/dgtour30_8.jpg\n",
      "2022-10-05 19:33:04,219 - INFO - downloader - image #63\thttps://image.ajunews.com/content/image/2020/12/06/20201206135051535359.jpg\n",
      "2022-10-05 19:33:04,259 - INFO - downloader - image #64\thttp://www.koit.co.kr/news/photo/202105/85023_35999_1808.png\n",
      "2022-10-05 19:33:04,293 - INFO - downloader - image #65\thttps://www.ttlnews.com/upload/editor_content_images/1644378161877_editor_image.wm.jpg\n",
      "2022-10-05 19:33:04,320 - ERROR - downloader - Response status code 404, file https://mblogthumb-phinf.pstatic.net/MjAyMDAyMTBfMzAw/MDAxNTgxMjcyMjA2ODAw.T-qAVJ-chB8zhLmpMh4evcU167QveHdtG6HjtyYvDzMg.eoHNmcg4haMoXdoNCAg4hVcUMLxajSEKiCN4tg4pPncg.PNG.eurocartrip/1.png\n",
      "2022-10-05 19:33:04,539 - INFO - downloader - image #66\thttp://cdn.ggilbo.com/news/photo/202205/911239_742415_2020.jpg\n",
      "2022-10-05 19:33:04,576 - ERROR - downloader - Response status code 400, file https://dynamic-media-cdn.tripadvisor.com/media/photo-o/12/72/89/8a/20180323-125613-largejpg.jpg\n",
      "2022-10-05 19:33:04,646 - INFO - downloader - image #67\thttps://i0.wp.com/blog.allstay.com/wp-content/uploads/2018/07/%EC%83%81%ED%95%B4-%EC%97%AC%ED%96%89-%EB%AA%85%EC%86%8C-%EC%98%88%EC%9B%90.jpg\n",
      "2022-10-05 19:33:04,839 - INFO - downloader - image #68\thttp://www.1gan.co.kr/news/photo/202109/208840_151032_043.jpg\n",
      "2022-10-05 19:33:04,915 - INFO - downloader - image #69\thttps://www.kukinews.com/data/kuk/image/2022/02/09/kuk202202090089.680x.0.jpg\n",
      "2022-10-05 19:33:04,916 - INFO - downloader - image #70\thttps://www.seoulwire.com/news/photo/202205/470348_673984_2151.jpg\n",
      "2022-10-05 19:33:05,025 - INFO - downloader - image #71\thttp://image.munhwa.com/gen_news/202102/2021020401031812048001_b.jpg\n",
      "2022-10-05 19:33:05,035 - INFO - downloader - image #72\thttps://image.ajunews.com/content/image/2021/05/31/20210531111740161413.jpg\n",
      "2022-10-05 19:33:05,098 - INFO - downloader - image #73\thttps://www.yongin.go.kr/resources/user/yitour/img/sub/attract_list_img01.png\n",
      "2022-10-05 19:33:05,308 - INFO - parser - parsing result page https://www.google.com/search?q=%EC%97%AC%ED%96%89+%EB%AA%85%EC%86%8C&ijn=2&start=200&tbs=&tbm=isch\n",
      "2022-10-05 19:33:05,396 - INFO - downloader - image #74\thttps://www.kkday.com/ko/blog/wp-content/uploads/singapore_marinabaysands.jpg\n",
      "2022-10-05 19:33:05,512 - INFO - parser - parsing result page https://www.google.com/search?q=%EC%97%AC%ED%96%89+%EB%AA%85%EC%86%8C&ijn=3&start=300&tbs=&tbm=isch\n",
      "2022-10-05 19:33:05,601 - INFO - downloader - image #75\thttp://www.theleader.kr/news/photo/202203/74405_57704_2133.jpg\n",
      "2022-10-05 19:33:05,761 - INFO - downloader - image #76\thttps://www.yeongdo.go.kr/_res/tour/img/sub/tourcourse1img01.jpg\n",
      "2022-10-05 19:33:05,897 - INFO - downloader - image #77\thttps://i.ytimg.com/vi/OC5ThIM_lPQ/maxresdefault.jpg\n",
      "2022-10-05 19:33:06,167 - INFO - parser - parsing result page https://www.google.com/search?q=%EC%97%AC%ED%96%89+%EB%AA%85%EC%86%8C&ijn=4&start=400&tbs=&tbm=isch\n",
      "2022-10-05 19:33:06,576 - INFO - downloader - image #78\thttps://cdn.discoverynews.kr/news/photo/202205/796276_801982_3659.png\n",
      "2022-10-05 19:33:07,661 - INFO - parser - no more page urls for thread parser-001 to parse\n",
      "2022-10-05 19:33:07,662 - INFO - parser - thread parser-001 exit\n",
      "2022-10-05 19:33:08,267 - INFO - parser - no more page urls for thread parser-002 to parse\n",
      "2022-10-05 19:33:08,267 - INFO - parser - thread parser-002 exit\n",
      "2022-10-05 19:33:10,616 - INFO - downloader - no more download task for thread downloader-004\n",
      "2022-10-05 19:33:10,617 - INFO - downloader - thread downloader-004 exit\n",
      "2022-10-05 19:33:10,776 - INFO - downloader - no more download task for thread downloader-002\n",
      "2022-10-05 19:33:10,777 - INFO - downloader - thread downloader-002 exit\n",
      "2022-10-05 19:33:10,915 - INFO - downloader - no more download task for thread downloader-003\n",
      "2022-10-05 19:33:10,916 - INFO - downloader - thread downloader-003 exit\n",
      "2022-10-05 19:33:11,596 - INFO - downloader - no more download task for thread downloader-001\n",
      "2022-10-05 19:33:11,596 - INFO - downloader - thread downloader-001 exit\n",
      "2022-10-05 19:33:11,675 - INFO - icrawler.crawler - Crawling task done!\n"
     ]
    }
   ],
   "source": [
    "# 이미지 크롤링\n",
    "google_crawler = GoogleImageCrawler(parser_threads=2, downloader_threads=4,\n",
    "                                    storage={'root_dir': '/tour_data//image/crawling_img/'})\n",
    "\n",
    "google_crawler.crawl(keyword='여행 명소', max_num=500,\n",
    "                     min_size=(200,200), max_size=None)\n",
    "# keyward: 수집하고자 하는 이미지\n",
    "# max_num: 수집할 이미지 수\n",
    "# date_min/date_max: 수집할 기간\n",
    "# min_size/max_size: 이미지 크기"
   ]
  },
  {
   "cell_type": "code",
   "execution_count": 34,
   "id": "a80ff342-f0b4-4b8d-9f84-b3aadae26934",
   "metadata": {},
   "outputs": [],
   "source": [
    "# 분류 대상 카테고리 선택하기\n",
    "trip_dir = \"/MainData/image/crawling_img\"\n",
    "categories=['자연관광지', '육상 레포츠', '음식점', '축제', '역사관광지', '문화시설', '휴양관광지', '숙박시설',\n",
    "       '공연/행사', '쇼핑', '체험관광지', '복합 레포츠', '건축/조형물', '관광자원', '수상 레포츠',\n",
    "       '산업관광지', '항공 레포츠', '레포츠소개']\n",
    "nb_classes=len(categories)"
   ]
  },
  {
   "cell_type": "code",
   "execution_count": 43,
   "id": "6d302ecf-9a93-40ad-9031-cda58dc47029",
   "metadata": {},
   "outputs": [],
   "source": [
    "# 이미지 크기 지정\n",
    "image_w = 300\n",
    "image_h = 200\n",
    "pixels = image_w * image_h * 3"
   ]
  },
  {
   "cell_type": "code",
   "execution_count": 47,
   "id": "4b6be0f8-6a0b-4d62-9e54-2adf0065a22d",
   "metadata": {},
   "outputs": [],
   "source": [
    "# 이미지 데이터 읽어 들이기 \n",
    "X = []\n",
    "Y = []\n",
    "for idx, cat in enumerate(categories):\n",
    "    # 레이블 지정 \n",
    "    label = [0 for i in range(nb_classes)]\n",
    "    label[idx] = 1\n",
    "    # 이미지 \n",
    "    image_dir = trip_dir + '/' + cat\n",
    "    files = glob.glob(image_dir+\"/.jpg\")\n",
    "    for i, f in enumerate(files):\n",
    "        img = Image.open(f) \n",
    "        img = img.convert(\"RGB\")\n",
    "        img = img.resize((image_w, image_h))\n",
    "        data = np.asarray(img)      # numpy 배열로 변환\n",
    "        X.append(data)\n",
    "        Y.append(label)\n",
    "        if i % 10 == 0:\n",
    "            print(i, \"\\n\", data)"
   ]
  },
  {
   "cell_type": "code",
   "execution_count": 48,
   "id": "5c97da71-24a9-4178-974c-275fcb1ce2a5",
   "metadata": {},
   "outputs": [],
   "source": [
    "X=np.array(X)\n",
    "Y=np.array(Y)"
   ]
  },
  {
   "cell_type": "code",
   "execution_count": 49,
   "id": "0cc7b202-0018-45de-a4f5-47404f3ead30",
   "metadata": {},
   "outputs": [
    {
     "data": {
      "text/plain": [
       "(array([], dtype=float64), array([], dtype=float64))"
      ]
     },
     "execution_count": 49,
     "metadata": {},
     "output_type": "execute_result"
    }
   ],
   "source": [
    "X, Y"
   ]
  },
  {
   "cell_type": "code",
   "execution_count": 12,
   "id": "8458a11d-bd7f-4e4f-8a51-7e1890746208",
   "metadata": {
    "tags": []
   },
   "outputs": [
    {
     "ename": "ValueError",
     "evalue": "With n_samples=0, test_size=0.2 and train_size=None, the resulting train set will be empty. Adjust any of the aforementioned parameters.",
     "output_type": "error",
     "traceback": [
      "\u001b[1;31m---------------------------------------------------------------------------\u001b[0m",
      "\u001b[1;31mValueError\u001b[0m                                Traceback (most recent call last)",
      "Input \u001b[1;32mIn [12]\u001b[0m, in \u001b[0;36m<cell line: 2>\u001b[1;34m()\u001b[0m\n\u001b[0;32m      1\u001b[0m \u001b[38;5;66;03m# 학습, 테스트 데이터 구분\u001b[39;00m\n\u001b[1;32m----> 2\u001b[0m X_train, X_test, y_train, y_test\u001b[38;5;241m=\u001b[39m\u001b[43mtrain_test_split\u001b[49m\u001b[43m(\u001b[49m\u001b[43mX\u001b[49m\u001b[43m,\u001b[49m\u001b[43m \u001b[49m\u001b[43mY\u001b[49m\u001b[43m,\u001b[49m\n\u001b[0;32m      3\u001b[0m \u001b[43m                                                 \u001b[49m\u001b[43mstratify\u001b[49m\u001b[38;5;241;43m=\u001b[39;49m\u001b[43mY\u001b[49m\u001b[43m,\u001b[49m\n\u001b[0;32m      4\u001b[0m \u001b[43m                                                 \u001b[49m\u001b[43mrandom_state\u001b[49m\u001b[38;5;241;43m=\u001b[39;49m\u001b[38;5;241;43m42\u001b[39;49m\u001b[43m,\u001b[49m\n\u001b[0;32m      5\u001b[0m \u001b[43m                                                 \u001b[49m\u001b[43mtest_size\u001b[49m\u001b[38;5;241;43m=\u001b[39;49m\u001b[38;5;241;43m0.2\u001b[39;49m\u001b[43m)\u001b[49m\n",
      "File \u001b[1;32mC:\\ProgramData\\Anaconda3\\envs\\PY3.9\\lib\\site-packages\\sklearn\\model_selection\\_split.py:2448\u001b[0m, in \u001b[0;36mtrain_test_split\u001b[1;34m(test_size, train_size, random_state, shuffle, stratify, *arrays)\u001b[0m\n\u001b[0;32m   2445\u001b[0m arrays \u001b[38;5;241m=\u001b[39m indexable(\u001b[38;5;241m*\u001b[39marrays)\n\u001b[0;32m   2447\u001b[0m n_samples \u001b[38;5;241m=\u001b[39m _num_samples(arrays[\u001b[38;5;241m0\u001b[39m])\n\u001b[1;32m-> 2448\u001b[0m n_train, n_test \u001b[38;5;241m=\u001b[39m \u001b[43m_validate_shuffle_split\u001b[49m\u001b[43m(\u001b[49m\n\u001b[0;32m   2449\u001b[0m \u001b[43m    \u001b[49m\u001b[43mn_samples\u001b[49m\u001b[43m,\u001b[49m\u001b[43m \u001b[49m\u001b[43mtest_size\u001b[49m\u001b[43m,\u001b[49m\u001b[43m \u001b[49m\u001b[43mtrain_size\u001b[49m\u001b[43m,\u001b[49m\u001b[43m \u001b[49m\u001b[43mdefault_test_size\u001b[49m\u001b[38;5;241;43m=\u001b[39;49m\u001b[38;5;241;43m0.25\u001b[39;49m\n\u001b[0;32m   2450\u001b[0m \u001b[43m\u001b[49m\u001b[43m)\u001b[49m\n\u001b[0;32m   2452\u001b[0m \u001b[38;5;28;01mif\u001b[39;00m shuffle \u001b[38;5;129;01mis\u001b[39;00m \u001b[38;5;28;01mFalse\u001b[39;00m:\n\u001b[0;32m   2453\u001b[0m     \u001b[38;5;28;01mif\u001b[39;00m stratify \u001b[38;5;129;01mis\u001b[39;00m \u001b[38;5;129;01mnot\u001b[39;00m \u001b[38;5;28;01mNone\u001b[39;00m:\n",
      "File \u001b[1;32mC:\\ProgramData\\Anaconda3\\envs\\PY3.9\\lib\\site-packages\\sklearn\\model_selection\\_split.py:2126\u001b[0m, in \u001b[0;36m_validate_shuffle_split\u001b[1;34m(n_samples, test_size, train_size, default_test_size)\u001b[0m\n\u001b[0;32m   2123\u001b[0m n_train, n_test \u001b[38;5;241m=\u001b[39m \u001b[38;5;28mint\u001b[39m(n_train), \u001b[38;5;28mint\u001b[39m(n_test)\n\u001b[0;32m   2125\u001b[0m \u001b[38;5;28;01mif\u001b[39;00m n_train \u001b[38;5;241m==\u001b[39m \u001b[38;5;241m0\u001b[39m:\n\u001b[1;32m-> 2126\u001b[0m     \u001b[38;5;28;01mraise\u001b[39;00m \u001b[38;5;167;01mValueError\u001b[39;00m(\n\u001b[0;32m   2127\u001b[0m         \u001b[38;5;124m\"\u001b[39m\u001b[38;5;124mWith n_samples=\u001b[39m\u001b[38;5;132;01m{}\u001b[39;00m\u001b[38;5;124m, test_size=\u001b[39m\u001b[38;5;132;01m{}\u001b[39;00m\u001b[38;5;124m and train_size=\u001b[39m\u001b[38;5;132;01m{}\u001b[39;00m\u001b[38;5;124m, the \u001b[39m\u001b[38;5;124m\"\u001b[39m\n\u001b[0;32m   2128\u001b[0m         \u001b[38;5;124m\"\u001b[39m\u001b[38;5;124mresulting train set will be empty. Adjust any of the \u001b[39m\u001b[38;5;124m\"\u001b[39m\n\u001b[0;32m   2129\u001b[0m         \u001b[38;5;124m\"\u001b[39m\u001b[38;5;124maforementioned parameters.\u001b[39m\u001b[38;5;124m\"\u001b[39m\u001b[38;5;241m.\u001b[39mformat(n_samples, test_size, train_size)\n\u001b[0;32m   2130\u001b[0m     )\n\u001b[0;32m   2132\u001b[0m \u001b[38;5;28;01mreturn\u001b[39;00m n_train, n_test\n",
      "\u001b[1;31mValueError\u001b[0m: With n_samples=0, test_size=0.2 and train_size=None, the resulting train set will be empty. Adjust any of the aforementioned parameters."
     ]
    }
   ],
   "source": [
    "# 학습, 테스트 데이터 구분\n",
    "X_train, X_test, y_train, y_test=train_test_split(X, Y,\n",
    "                                                 stratify=Y,\n",
    "                                                 random_state=42,\n",
    "                                                 test_size=0.2)"
   ]
  },
  {
   "cell_type": "code",
   "execution_count": null,
   "id": "dfddd9fb-20c8-4cde-9ae8-bc3a67b0c8a5",
   "metadata": {},
   "outputs": [],
   "source": [
    "xy=(X_train, X_test, y_train, y_test)"
   ]
  },
  {
   "cell_type": "code",
   "execution_count": null,
   "id": "282e7772-0ee1-4d74-8634-9b2aaf2373bc",
   "metadata": {},
   "outputs": [],
   "source": [
    "print('>>> 데이터 저장 중...')\n",
    "np.save('/MainData/image/crawling_img/7obj.npy', xy)\n",
    "print('ok', len(Y))"
   ]
  },
  {
   "cell_type": "code",
   "execution_count": null,
   "id": "3243453a-0b1a-4e1b-b8dd-bbdcb18a3eb4",
   "metadata": {},
   "outputs": [],
   "source": []
  },
  {
   "cell_type": "code",
   "execution_count": null,
   "id": "03e9b081-c915-4f54-b0f6-dece607569e2",
   "metadata": {},
   "outputs": [],
   "source": []
  }
 ],
 "metadata": {
  "kernelspec": {
   "display_name": "Python 3 (ipykernel)",
   "language": "python",
   "name": "python3"
  },
  "language_info": {
   "codemirror_mode": {
    "name": "ipython",
    "version": 3
   },
   "file_extension": ".py",
   "mimetype": "text/x-python",
   "name": "python",
   "nbconvert_exporter": "python",
   "pygments_lexer": "ipython3",
   "version": "3.9.13"
  }
 },
 "nbformat": 4,
 "nbformat_minor": 5
}

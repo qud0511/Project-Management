{
 "cells": [
  {
   "cell_type": "code",
   "execution_count": null,
   "id": "15c37f0d-b974-439f-bc45-c7a5a152504b",
   "metadata": {
    "tags": []
   },
   "outputs": [],
   "source": []
  },
  {
   "cell_type": "markdown",
   "id": "545d9dc1-d857-41e3-9233-1e6a40fbb698",
   "metadata": {},
   "source": [
    "## 클라우드\n",
    "- 구글 클라우드, NHN...\n",
    "- AWS"
   ]
  },
  {
   "cell_type": "code",
   "execution_count": null,
   "id": "cc86623b-f5bc-45ed-9e40-eed5f91f9380",
   "metadata": {},
   "outputs": [],
   "source": [
    "# 인스턴스\n",
    "# IPv4?"
   ]
  }
 ],
 "metadata": {
  "kernelspec": {
   "display_name": "Python 3 (ipykernel)",
   "language": "python",
   "name": "python3"
  },
  "language_info": {
   "codemirror_mode": {
    "name": "ipython",
    "version": 3
   },
   "file_extension": ".py",
   "mimetype": "text/x-python",
   "name": "python",
   "nbconvert_exporter": "python",
   "pygments_lexer": "ipython3",
   "version": "3.9.13"
  }
 },
 "nbformat": 4,
 "nbformat_minor": 5
}

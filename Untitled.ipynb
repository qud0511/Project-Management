{
 "cells": [
  {
   "cell_type": "code",
   "execution_count": null,
   "id": "15c37f0d-b974-439f-bc45-c7a5a152504b",
   "metadata": {
    "tags": []
   },
   "outputs": [],
   "source": []
  },
  {
   "cell_type": "markdown",
   "id": "545d9dc1-d857-41e3-9233-1e6a40fbb698",
   "metadata": {},
   "source": [
    "## 클라우드\n",
    "- 구글 클라우드, NHN...\n",
    "- AWS\n",
    "https://www.soowave.com/entry/AWS-Windows-Server-%EB%A7%8C%EB%93%A4%EA%B8%B0-IIS-Server-%EC%83%9D%EC%84%B1%ED%8E%B8"
   ]
  },
  {
   "cell_type": "code",
   "execution_count": 2,
   "id": "cc86623b-f5bc-45ed-9e40-eed5f91f9380",
   "metadata": {},
   "outputs": [],
   "source": [
    "# 인스턴스\n",
    "# IPv4?"
   ]
  },
  {
   "cell_type": "markdown",
   "id": "12a3a439-688b-4a2f-b96c-0608b3495224",
   "metadata": {},
   "source": [
    "#### 1. 대칭키 암호\n",
    "- 하나의 비밀키를 양쪽(client & server)가 모두 같이 사용\n",
    "\n",
    "- 암호화와 복호화에 사용하는 키가 같은 암호화 알고리즘\n",
    "\n",
    "- 공개키와 비밀키를 별도로 가지는 것과 구별되는데, 이와 비교하면 계산속도가 빠르다는 장점 \n",
    "\n",
    "- 비밀키 하나만 알아내면 암호화된 내용을 해독 가능 → 해커로부터 안전 X\n",
    "\n",
    "- 대킹키 암호는 암호화하는 단위에 따라 스트림암호와 블록암호로 나눌 수 있음\n",
    "\n",
    "    º 스트림암호는 연속적인 비트/바이트를 계속해서 입력받아, 그에 대응하는 암호화 비트/마이트를 생성하는 방식\n",
    "\n",
    "    º 블록암호는 정해진 한 단위(블록)을 입력받아 그에 대응하는 암호화 블록을 생성하는 방식 \n",
    "\n",
    "    º 블록암호의 경우 적절한 운용모드를 조합하면 블록 단위보다 큰 입력을 처리할 수 있음. 또한 스트림암호와 유사하게 지속적인 입력에 대해 동작할 수 있음. (대신 입출력 단위는 스트림암호보다 큰 블록 단위가 됨)\n",
    "\n",
    "- 대킹키 기법을 사용하는 암호 알고리즘 방식으로 DES, 3-DES, AES, SEED, ARIA, MASK 등\n",
    "\n",
    "#### 2. 공개키 암호\n",
    "- 비밀키 하나 만 가지는 대칭키 암호 방법과 달리, 공개키와 비밀키 두 개가 존재\n",
    "\n",
    "- 공개키 암호를 구성하는 알고리즘을 대칭키 암호 방식과 비교하여 비대칭 암호라고 불림\n",
    "\n",
    "- 암호화와 복호화에 사용하는 키가 서로 다름\n",
    "\n",
    "- 암호화할 때의 키는 공개키(public key), 복호화할 때의 키는 개인키(private key)\n",
    "\n",
    "- 공개키는 누구나 알 수 있지만, 그에 대응하는 비밀키는 키의 소유자만이 알 수 있어서 \n",
    "\n",
    "   특정한 비밀키를 가지는 사용자만이 내용을 열어볼 수 있도록 하는 방식.\n",
    "\n",
    "- 송신자는 수신자의 공개키를 받아 데이터를 암호화하여 네트워크를 통해 원격지에 전달.\n",
    "\n",
    "- 수신자는 공개키로 암호화된 데이터를 자신의 개인키로 데이터를 복호화하여 평문을 복원.\n",
    "\n",
    "- 공개키로 암호화한 메세지는 수신자의 개인키로만 해독할 수 있으므로 안전하게 상대방에게 메세지를 전달해 줄 수 있음. \n",
    "\n",
    "- 대칭키(비밀키)알고리즘에 비하여 속도가 느리다. (약 1000배)\n",
    "\n",
    "- 속도가 느리기 때문에 긴문서의 암호화하는 경우보다 대칭키 알고리즘의 키값에 대한 암호에 사용.\n",
    "\n",
    "- 대표적인 공개키 알고리즘으로 RSA, Elgamal 등이 있음.\n",
    "\n",
    "#### 3. 해외\n",
    "\n",
    "###4. 전자서명"
   ]
  },
  {
   "cell_type": "code",
   "execution_count": null,
   "id": "fc737792-1ac0-4475-b018-073c3629ccfe",
   "metadata": {},
   "outputs": [],
   "source": []
  }
 ],
 "metadata": {
  "kernelspec": {
   "display_name": "Python 3 (ipykernel)",
   "language": "python",
   "name": "python3"
  },
  "language_info": {
   "codemirror_mode": {
    "name": "ipython",
    "version": 3
   },
   "file_extension": ".py",
   "mimetype": "text/x-python",
   "name": "python",
   "nbconvert_exporter": "python",
   "pygments_lexer": "ipython3",
   "version": "3.9.13"
  }
 },
 "nbformat": 4,
 "nbformat_minor": 5
}

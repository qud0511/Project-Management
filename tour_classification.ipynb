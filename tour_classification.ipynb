{
 "cells": [
  {
   "cell_type": "code",
   "execution_count": 2,
   "metadata": {},
   "outputs": [],
   "source": [
    "# 모듈 로딩\n",
    "from tensorflow.keras.layers import Activation, Dropout, Flatten, Dense, Conv2D, MaxPooling2D\n",
    "from tensorflow.keras.callbacks import EarlyStopping, ModelCheckpoint\n",
    "from tensorflow.keras.preprocessing.image import ImageDataGenerator\n",
    "from tensorflow.keras.utils import set_random_seed, plot_model\n",
    "from sklearn.preprocessing import LabelEncoder, OneHotEncoder\n",
    "from sklearn.model_selection import train_test_split\n",
    "from tensorflow.keras.models import save_model\n",
    "from tensorflow.keras import Sequential\n",
    "import matplotlib.pyplot as plt\n",
    "import matplotlib.image as img\n",
    "import pandas as pd\n",
    "import numpy as np\n",
    "import random\n",
    "import cv2\n",
    "import os"
   ]
  },
  {
   "cell_type": "code",
   "execution_count": 3,
   "metadata": {},
   "outputs": [],
   "source": [
    "tour = pd.read_csv('../data/open/train.csv')"
   ]
  },
  {
   "cell_type": "code",
   "execution_count": 4,
   "metadata": {},
   "outputs": [],
   "source": [
    "tour_t = pd.read_csv('../data/open/test.csv')"
   ]
  },
  {
   "cell_type": "code",
   "execution_count": 5,
   "metadata": {},
   "outputs": [
    {
     "data": {
      "text/html": [
       "<div>\n",
       "<style scoped>\n",
       "    .dataframe tbody tr th:only-of-type {\n",
       "        vertical-align: middle;\n",
       "    }\n",
       "\n",
       "    .dataframe tbody tr th {\n",
       "        vertical-align: top;\n",
       "    }\n",
       "\n",
       "    .dataframe thead th {\n",
       "        text-align: right;\n",
       "    }\n",
       "</style>\n",
       "<table border=\"1\" class=\"dataframe\">\n",
       "  <thead>\n",
       "    <tr style=\"text-align: right;\">\n",
       "      <th></th>\n",
       "      <th>id</th>\n",
       "      <th>img_path</th>\n",
       "      <th>overview</th>\n",
       "    </tr>\n",
       "  </thead>\n",
       "  <tbody>\n",
       "    <tr>\n",
       "      <th>0</th>\n",
       "      <td>TEST_00000</td>\n",
       "      <td>./image/test/TEST_00000.jpg</td>\n",
       "      <td>신선한 재료로 정성을 다해 만들었다. 늘 변함없는 맛과 서비스로 모실것을 약속한다.</td>\n",
       "    </tr>\n",
       "    <tr>\n",
       "      <th>1</th>\n",
       "      <td>TEST_00001</td>\n",
       "      <td>./image/test/TEST_00001.jpg</td>\n",
       "      <td>청청한 해역 등량만과 율포해수욕장이 한눈에 내려다 보이는 위치에 있으며, 막 잡은 ...</td>\n",
       "    </tr>\n",
       "    <tr>\n",
       "      <th>2</th>\n",
       "      <td>TEST_00002</td>\n",
       "      <td>./image/test/TEST_00002.jpg</td>\n",
       "      <td>장터설렁탕은 남녀노소 누구나 즐길 수 있는 전통 건강식으로 좋은 재료와 전통 조리방...</td>\n",
       "    </tr>\n",
       "    <tr>\n",
       "      <th>3</th>\n",
       "      <td>TEST_00003</td>\n",
       "      <td>./image/test/TEST_00003.jpg</td>\n",
       "      <td>다양한 형태의 청소년수련활동을 제공함으로써 청소년들이 민주사회의 주역이 될 수 있도...</td>\n",
       "    </tr>\n",
       "    <tr>\n",
       "      <th>4</th>\n",
       "      <td>TEST_00004</td>\n",
       "      <td>./image/test/TEST_00004.jpg</td>\n",
       "      <td>팔공산은 경산시의 북쪽에 위치한 해발 1192.3 m의 높은 산으로 신라시대에는 중...</td>\n",
       "    </tr>\n",
       "  </tbody>\n",
       "</table>\n",
       "</div>"
      ],
      "text/plain": [
       "           id                     img_path  \\\n",
       "0  TEST_00000  ./image/test/TEST_00000.jpg   \n",
       "1  TEST_00001  ./image/test/TEST_00001.jpg   \n",
       "2  TEST_00002  ./image/test/TEST_00002.jpg   \n",
       "3  TEST_00003  ./image/test/TEST_00003.jpg   \n",
       "4  TEST_00004  ./image/test/TEST_00004.jpg   \n",
       "\n",
       "                                            overview  \n",
       "0     신선한 재료로 정성을 다해 만들었다. 늘 변함없는 맛과 서비스로 모실것을 약속한다.  \n",
       "1  청청한 해역 등량만과 율포해수욕장이 한눈에 내려다 보이는 위치에 있으며, 막 잡은 ...  \n",
       "2  장터설렁탕은 남녀노소 누구나 즐길 수 있는 전통 건강식으로 좋은 재료와 전통 조리방...  \n",
       "3  다양한 형태의 청소년수련활동을 제공함으로써 청소년들이 민주사회의 주역이 될 수 있도...  \n",
       "4  팔공산은 경산시의 북쪽에 위치한 해발 1192.3 m의 높은 산으로 신라시대에는 중...  "
      ]
     },
     "execution_count": 5,
     "metadata": {},
     "output_type": "execute_result"
    }
   ],
   "source": [
    "tour_t.head()"
   ]
  },
  {
   "cell_type": "code",
   "execution_count": 6,
   "metadata": {},
   "outputs": [
    {
     "data": {
      "text/html": [
       "<div>\n",
       "<style scoped>\n",
       "    .dataframe tbody tr th:only-of-type {\n",
       "        vertical-align: middle;\n",
       "    }\n",
       "\n",
       "    .dataframe tbody tr th {\n",
       "        vertical-align: top;\n",
       "    }\n",
       "\n",
       "    .dataframe thead th {\n",
       "        text-align: right;\n",
       "    }\n",
       "</style>\n",
       "<table border=\"1\" class=\"dataframe\">\n",
       "  <thead>\n",
       "    <tr style=\"text-align: right;\">\n",
       "      <th></th>\n",
       "      <th>id</th>\n",
       "      <th>img_path</th>\n",
       "      <th>overview</th>\n",
       "      <th>cat1</th>\n",
       "      <th>cat2</th>\n",
       "      <th>cat3</th>\n",
       "    </tr>\n",
       "  </thead>\n",
       "  <tbody>\n",
       "    <tr>\n",
       "      <th>0</th>\n",
       "      <td>TRAIN_00000</td>\n",
       "      <td>./image/train/TRAIN_00000.jpg</td>\n",
       "      <td>소안항은 조용한 섬으로 인근해안이 청정해역으로 일찍이 김 양식을 해서 높은 소득을 ...</td>\n",
       "      <td>자연</td>\n",
       "      <td>자연관광지</td>\n",
       "      <td>항구/포구</td>\n",
       "    </tr>\n",
       "    <tr>\n",
       "      <th>1</th>\n",
       "      <td>TRAIN_00001</td>\n",
       "      <td>./image/train/TRAIN_00001.jpg</td>\n",
       "      <td>경기도 이천시 모가면에 있는 골프장으로 대중제 18홀이다. 회원제로 개장을 했다가 ...</td>\n",
       "      <td>레포츠</td>\n",
       "      <td>육상 레포츠</td>\n",
       "      <td>골프</td>\n",
       "    </tr>\n",
       "    <tr>\n",
       "      <th>2</th>\n",
       "      <td>TRAIN_00002</td>\n",
       "      <td>./image/train/TRAIN_00002.jpg</td>\n",
       "      <td>금오산성숯불갈비는 한우고기만을 전문적으로 취급하고 사용하는 부식 자재 또한 유기농법...</td>\n",
       "      <td>음식</td>\n",
       "      <td>음식점</td>\n",
       "      <td>한식</td>\n",
       "    </tr>\n",
       "    <tr>\n",
       "      <th>3</th>\n",
       "      <td>TRAIN_00003</td>\n",
       "      <td>./image/train/TRAIN_00003.jpg</td>\n",
       "      <td>철판 위에서 요리하는 안동찜닭을 맛볼 수 있는 곳이다. 경상북도 안동시에 있는 한식...</td>\n",
       "      <td>음식</td>\n",
       "      <td>음식점</td>\n",
       "      <td>한식</td>\n",
       "    </tr>\n",
       "    <tr>\n",
       "      <th>4</th>\n",
       "      <td>TRAIN_00004</td>\n",
       "      <td>./image/train/TRAIN_00004.jpg</td>\n",
       "      <td>※ 영업시간 10:30 ~ 20:30\\n\\n3대에 걸쳐 아귀만을 전문으로 취급하는 ...</td>\n",
       "      <td>음식</td>\n",
       "      <td>음식점</td>\n",
       "      <td>한식</td>\n",
       "    </tr>\n",
       "  </tbody>\n",
       "</table>\n",
       "</div>"
      ],
      "text/plain": [
       "            id                       img_path  \\\n",
       "0  TRAIN_00000  ./image/train/TRAIN_00000.jpg   \n",
       "1  TRAIN_00001  ./image/train/TRAIN_00001.jpg   \n",
       "2  TRAIN_00002  ./image/train/TRAIN_00002.jpg   \n",
       "3  TRAIN_00003  ./image/train/TRAIN_00003.jpg   \n",
       "4  TRAIN_00004  ./image/train/TRAIN_00004.jpg   \n",
       "\n",
       "                                            overview cat1    cat2   cat3  \n",
       "0  소안항은 조용한 섬으로 인근해안이 청정해역으로 일찍이 김 양식을 해서 높은 소득을 ...   자연   자연관광지  항구/포구  \n",
       "1  경기도 이천시 모가면에 있는 골프장으로 대중제 18홀이다. 회원제로 개장을 했다가 ...  레포츠  육상 레포츠     골프  \n",
       "2  금오산성숯불갈비는 한우고기만을 전문적으로 취급하고 사용하는 부식 자재 또한 유기농법...   음식     음식점     한식  \n",
       "3  철판 위에서 요리하는 안동찜닭을 맛볼 수 있는 곳이다. 경상북도 안동시에 있는 한식...   음식     음식점     한식  \n",
       "4  ※ 영업시간 10:30 ~ 20:30\\n\\n3대에 걸쳐 아귀만을 전문으로 취급하는 ...   음식     음식점     한식  "
      ]
     },
     "execution_count": 6,
     "metadata": {},
     "output_type": "execute_result"
    }
   ],
   "source": [
    "tour.head()"
   ]
  },
  {
   "cell_type": "code",
   "execution_count": 7,
   "metadata": {},
   "outputs": [
    {
     "data": {
      "text/plain": [
       "(6, 18, 128)"
      ]
     },
     "execution_count": 7,
     "metadata": {},
     "output_type": "execute_result"
    }
   ],
   "source": [
    "# 카테고리 대,중,소별 갯수\n",
    "len(tour.cat1.value_counts()), len(tour.cat2.value_counts()), len(tour.cat3.value_counts())"
   ]
  },
  {
   "cell_type": "code",
   "execution_count": 8,
   "metadata": {},
   "outputs": [],
   "source": [
    "tour_image = os.listdir('../data/open/image/train')\n",
    "image_list = []\n",
    "file_list = []\n",
    "\n",
    "for file in tour_image:\n",
    "    im = plt.imread('../data/open/image/train/' + file)\n",
    "    im = cv2.resize(im, (600,400))\n",
    "    im = im.reshape(-1,600,400,3)\n",
    "    image_list.append(im)\n",
    "    file_list.append(file.split('.jpg')[0])"
   ]
  },
  {
   "cell_type": "code",
   "execution_count": 9,
   "metadata": {},
   "outputs": [
    {
     "data": {
      "text/plain": [
       "(1, 600, 400, 3)"
      ]
     },
     "execution_count": 9,
     "metadata": {},
     "output_type": "execute_result"
    }
   ],
   "source": [
    "image_list[1].shape"
   ]
  },
  {
   "cell_type": "code",
   "execution_count": 10,
   "metadata": {},
   "outputs": [],
   "source": [
    "data = np.concatenate(image_list)"
   ]
  },
  {
   "cell_type": "code",
   "execution_count": 11,
   "metadata": {},
   "outputs": [
    {
     "data": {
      "text/plain": [
       "(16986, 600, 400, 3)"
      ]
     },
     "execution_count": 11,
     "metadata": {},
     "output_type": "execute_result"
    }
   ],
   "source": [
    "data.shape"
   ]
  },
  {
   "cell_type": "code",
   "execution_count": 12,
   "metadata": {},
   "outputs": [
    {
     "data": {
      "text/plain": [
       "인문(문화/예술/역사)    5614\n",
       "음식              4912\n",
       "레포츠             2611\n",
       "자연              1719\n",
       "숙박              1434\n",
       "쇼핑               696\n",
       "Name: cat1, dtype: int64"
      ]
     },
     "execution_count": 12,
     "metadata": {},
     "output_type": "execute_result"
    }
   ],
   "source": [
    "tour.cat1.value_counts()"
   ]
  },
  {
   "cell_type": "code",
   "execution_count": 177,
   "metadata": {},
   "outputs": [],
   "source": [
    "cul_len = len(tour.loc[(tour['cat1']=='인문(문화/예술/역사)')])\n",
    "food_len = len(tour.loc[(tour['cat1']=='음식')])\n",
    "leports_len = len(tour.loc[(tour['cat1']=='레포츠')])\n",
    "nature_len = len(tour.loc[(tour['cat1']=='자연')])\n",
    "room_len = len(tour.loc[(tour['cat1']=='숙박')])\n",
    "shop_len = len(tour.loc[(tour['cat1']=='쇼핑')])"
   ]
  },
  {
   "cell_type": "code",
   "execution_count": null,
   "metadata": {},
   "outputs": [],
   "source": [
    "# train data 이미지 증식\n",
    "def image_aug(path):\n",
    "    num_augmented_images = len(tour.loc[(tour['cat1']=='인문(문화/예술/역사)')]) - len(tour.loc[(tour['cat1']=='음식')])\n",
    "\n",
    "    file_names = os.listdir(path)\n",
    "    total_origin_image = len(file_names)\n",
    "    augment_cnt = 1\n",
    "\n",
    "    for i in range(1, num_augmented_images+1):\n",
    "        change_picture_index = random.randrange(1, total_origin_image-1)\n",
    "        print(change_picture_index)\n",
    "        print(file_names[change_picture_index])\n",
    "        file_name = file_names[change_picture_index]\n",
    "        \n",
    "        origin_image_path = path + 'ok_front/' + file_name\n",
    "        print(origin_image_path)\n",
    "        image = Image.open(origin_image_path)\n",
    "        random_augment = random.randrange(1,5)\n",
    "        \n",
    "        if(random_augment == 1):\n",
    "            #이미지 좌우 반전\n",
    "            print(\"invert\")\n",
    "            inverted_image = image.transpose(Image.FLIP_LEFT_RIGHT)\n",
    "            inverted_image.save(path + 'ok_front/' + 'inverted_' + str(augment_cnt) + '.jpeg')\n",
    "        \n",
    "        elif(random_augment == 2):\n",
    "            #이미지 상하 반전\n",
    "            print(\"invert\")\n",
    "            inverted_image = image.transpose(Image.FLIP_TOP_BOTTOM)\n",
    "            inverted_image.save(path + 'ok_front/' + 'inverted_' + str(augment_cnt) + '.jpeg')\n",
    "            \n",
    "        elif(random_augment == 3):\n",
    "            #이미지 회전 90도\n",
    "            print(\"rotate\")\n",
    "            rotated_image = image.rotate(90)\n",
    "            rotated_image.save(path + 'ok_front/' + 'rotated_' + str(augment_cnt) + '.jpeg')\n",
    "        \n",
    "        elif(random_augment == 4):\n",
    "            #이미지 회전 180도\n",
    "            print(\"rotate\")\n",
    "            rotated_image = image.rotate(180)\n",
    "            rotated_image.save(path + 'ok_front/' + 'rotated_' + str(augment_cnt) + '.jpeg')\n",
    "        \n",
    "\n",
    "        augment_cnt += 1"
   ]
  },
  {
   "cell_type": "code",
   "execution_count": 14,
   "metadata": {},
   "outputs": [],
   "source": [
    "le = LabelEncoder()\n",
    "target = le.fit_transform(tour.cat1)"
   ]
  },
  {
   "cell_type": "code",
   "execution_count": 15,
   "metadata": {},
   "outputs": [
    {
     "data": {
      "text/plain": [
       "(16986,)"
      ]
     },
     "execution_count": 15,
     "metadata": {},
     "output_type": "execute_result"
    }
   ],
   "source": [
    "target.shape"
   ]
  },
  {
   "cell_type": "code",
   "execution_count": 16,
   "metadata": {},
   "outputs": [],
   "source": [
    "X_train, X_test, y_train, y_test = train_test_split(data,\n",
    "                                                    target,\n",
    "                                                    stratify=target,\n",
    "                                                    random_state=42)"
   ]
  },
  {
   "cell_type": "code",
   "execution_count": 17,
   "metadata": {},
   "outputs": [
    {
     "ename": "MemoryError",
     "evalue": "Unable to allocate 6.41 GiB for an array with shape (9554, 600, 400, 3) and data type uint8",
     "output_type": "error",
     "traceback": [
      "\u001b[1;31m---------------------------------------------------------------------------\u001b[0m",
      "\u001b[1;31mMemoryError\u001b[0m                               Traceback (most recent call last)",
      "\u001b[1;32mc:\\Users\\USER\\week13_pm\\tour_classification.ipynb 셀 17\u001b[0m in \u001b[0;36m<cell line: 1>\u001b[1;34m()\u001b[0m\n\u001b[1;32m----> <a href='vscode-notebook-cell:/c%3A/Users/USER/week13_pm/tour_classification.ipynb#X23sZmlsZQ%3D%3D?line=0'>1</a>\u001b[0m X_train, X_val, y_train, y_val \u001b[39m=\u001b[39m train_test_split(X_train,\n\u001b[0;32m      <a href='vscode-notebook-cell:/c%3A/Users/USER/week13_pm/tour_classification.ipynb#X23sZmlsZQ%3D%3D?line=1'>2</a>\u001b[0m                                                   y_train,\n\u001b[0;32m      <a href='vscode-notebook-cell:/c%3A/Users/USER/week13_pm/tour_classification.ipynb#X23sZmlsZQ%3D%3D?line=2'>3</a>\u001b[0m                                                   stratify\u001b[39m=\u001b[39;49my_train,\n\u001b[0;32m      <a href='vscode-notebook-cell:/c%3A/Users/USER/week13_pm/tour_classification.ipynb#X23sZmlsZQ%3D%3D?line=3'>4</a>\u001b[0m                                                   random_state\u001b[39m=\u001b[39;49m\u001b[39m42\u001b[39;49m)\n",
      "File \u001b[1;32mc:\\ProgramData\\Anaconda3\\envs\\EV_PY39\\lib\\site-packages\\sklearn\\model_selection\\_split.py:2443\u001b[0m, in \u001b[0;36mtrain_test_split\u001b[1;34m(test_size, train_size, random_state, shuffle, stratify, *arrays)\u001b[0m\n\u001b[0;32m   2439\u001b[0m     cv \u001b[39m=\u001b[39m CVClass(test_size\u001b[39m=\u001b[39mn_test, train_size\u001b[39m=\u001b[39mn_train, random_state\u001b[39m=\u001b[39mrandom_state)\n\u001b[0;32m   2441\u001b[0m     train, test \u001b[39m=\u001b[39m \u001b[39mnext\u001b[39m(cv\u001b[39m.\u001b[39msplit(X\u001b[39m=\u001b[39marrays[\u001b[39m0\u001b[39m], y\u001b[39m=\u001b[39mstratify))\n\u001b[1;32m-> 2443\u001b[0m \u001b[39mreturn\u001b[39;00m \u001b[39mlist\u001b[39;49m(\n\u001b[0;32m   2444\u001b[0m     chain\u001b[39m.\u001b[39;49mfrom_iterable(\n\u001b[0;32m   2445\u001b[0m         (_safe_indexing(a, train), _safe_indexing(a, test)) \u001b[39mfor\u001b[39;49;00m a \u001b[39min\u001b[39;49;00m arrays\n\u001b[0;32m   2446\u001b[0m     )\n\u001b[0;32m   2447\u001b[0m )\n",
      "File \u001b[1;32mc:\\ProgramData\\Anaconda3\\envs\\EV_PY39\\lib\\site-packages\\sklearn\\model_selection\\_split.py:2445\u001b[0m, in \u001b[0;36m<genexpr>\u001b[1;34m(.0)\u001b[0m\n\u001b[0;32m   2439\u001b[0m     cv \u001b[39m=\u001b[39m CVClass(test_size\u001b[39m=\u001b[39mn_test, train_size\u001b[39m=\u001b[39mn_train, random_state\u001b[39m=\u001b[39mrandom_state)\n\u001b[0;32m   2441\u001b[0m     train, test \u001b[39m=\u001b[39m \u001b[39mnext\u001b[39m(cv\u001b[39m.\u001b[39msplit(X\u001b[39m=\u001b[39marrays[\u001b[39m0\u001b[39m], y\u001b[39m=\u001b[39mstratify))\n\u001b[0;32m   2443\u001b[0m \u001b[39mreturn\u001b[39;00m \u001b[39mlist\u001b[39m(\n\u001b[0;32m   2444\u001b[0m     chain\u001b[39m.\u001b[39mfrom_iterable(\n\u001b[1;32m-> 2445\u001b[0m         (_safe_indexing(a, train), _safe_indexing(a, test)) \u001b[39mfor\u001b[39;00m a \u001b[39min\u001b[39;00m arrays\n\u001b[0;32m   2446\u001b[0m     )\n\u001b[0;32m   2447\u001b[0m )\n",
      "File \u001b[1;32mc:\\ProgramData\\Anaconda3\\envs\\EV_PY39\\lib\\site-packages\\sklearn\\utils\\__init__.py:378\u001b[0m, in \u001b[0;36m_safe_indexing\u001b[1;34m(X, indices, axis)\u001b[0m\n\u001b[0;32m    376\u001b[0m     \u001b[39mreturn\u001b[39;00m _pandas_indexing(X, indices, indices_dtype, axis\u001b[39m=\u001b[39maxis)\n\u001b[0;32m    377\u001b[0m \u001b[39melif\u001b[39;00m \u001b[39mhasattr\u001b[39m(X, \u001b[39m\"\u001b[39m\u001b[39mshape\u001b[39m\u001b[39m\"\u001b[39m):\n\u001b[1;32m--> 378\u001b[0m     \u001b[39mreturn\u001b[39;00m _array_indexing(X, indices, indices_dtype, axis\u001b[39m=\u001b[39;49maxis)\n\u001b[0;32m    379\u001b[0m \u001b[39melse\u001b[39;00m:\n\u001b[0;32m    380\u001b[0m     \u001b[39mreturn\u001b[39;00m _list_indexing(X, indices, indices_dtype)\n",
      "File \u001b[1;32mc:\\ProgramData\\Anaconda3\\envs\\EV_PY39\\lib\\site-packages\\sklearn\\utils\\__init__.py:202\u001b[0m, in \u001b[0;36m_array_indexing\u001b[1;34m(array, key, key_dtype, axis)\u001b[0m\n\u001b[0;32m    200\u001b[0m \u001b[39mif\u001b[39;00m \u001b[39misinstance\u001b[39m(key, \u001b[39mtuple\u001b[39m):\n\u001b[0;32m    201\u001b[0m     key \u001b[39m=\u001b[39m \u001b[39mlist\u001b[39m(key)\n\u001b[1;32m--> 202\u001b[0m \u001b[39mreturn\u001b[39;00m array[key] \u001b[39mif\u001b[39;00m axis \u001b[39m==\u001b[39m \u001b[39m0\u001b[39m \u001b[39melse\u001b[39;00m array[:, key]\n",
      "\u001b[1;31mMemoryError\u001b[0m: Unable to allocate 6.41 GiB for an array with shape (9554, 600, 400, 3) and data type uint8"
     ]
    }
   ],
   "source": [
    "X_train, X_val, y_train, y_val = train_test_split(X_train,\n",
    "                                                  y_train,\n",
    "                                                  stratify=y_train,\n",
    "                                                  random_state=42)"
   ]
  },
  {
   "cell_type": "code",
   "execution_count": null,
   "metadata": {},
   "outputs": [
    {
     "data": {
      "text/plain": [
       "((9554, 300, 200, 3), (9554,))"
      ]
     },
     "execution_count": 136,
     "metadata": {},
     "output_type": "execute_result"
    }
   ],
   "source": [
    "X_train.shape, y_train.shape"
   ]
  },
  {
   "cell_type": "code",
   "execution_count": null,
   "metadata": {},
   "outputs": [
    {
     "data": {
      "text/plain": [
       "(300, 200, 3)"
      ]
     },
     "execution_count": 137,
     "metadata": {},
     "output_type": "execute_result"
    }
   ],
   "source": [
    "X_train[1].shape"
   ]
  },
  {
   "cell_type": "code",
   "execution_count": null,
   "metadata": {},
   "outputs": [],
   "source": []
  },
  {
   "cell_type": "markdown",
   "metadata": {},
   "source": [
    "### Modeling"
   ]
  },
  {
   "cell_type": "code",
   "execution_count": null,
   "metadata": {},
   "outputs": [],
   "source": [
    "# W, b 초기값 고정\n",
    "set_random_seed(6)"
   ]
  },
  {
   "cell_type": "code",
   "execution_count": null,
   "metadata": {},
   "outputs": [],
   "source": [
    "model = Sequential()\n",
    "model.add(Conv2D(32, kernel_size=5, input_shape=(600,400,3), activation='relu', padding='same'))\n",
    "model.add(MaxPooling2D())\n",
    "model.add(Conv2D(64, kernel_size=5, activation='relu', padding='same'))\n",
    "model.add(MaxPooling2D())\n",
    "model.add(Conv2D(128, kernel_size=3, activation='relu', padding='same'))\n",
    "model.add(MaxPooling2D())\n",
    "model.add(Conv2D(128, kernel_size=3, activation='relu', padding='same'))\n",
    "model.add(MaxPooling2D())\n",
    "model.add(Flatten())\n",
    "model.add(Dense(units=1024, activation='relu'))\n",
    "model.add(Dropout(rate=0.4))\n",
    "model.add(Dense(units=512, activation='relu'))\n",
    "model.add(Dropout(rate=0.4))\n",
    "model.add(Dense(units=6, activation='softmax'))"
   ]
  },
  {
   "cell_type": "code",
   "execution_count": null,
   "metadata": {},
   "outputs": [],
   "source": [
    "model.compile(loss='sparse_categorical_crossentropy', optimizer='adam', metrics=['accuracy'])"
   ]
  },
  {
   "cell_type": "code",
   "execution_count": null,
   "metadata": {},
   "outputs": [
    {
     "name": "stdout",
     "output_type": "stream",
     "text": [
      "Model: \"sequential_6\"\n",
      "_________________________________________________________________\n",
      " Layer (type)                Output Shape              Param #   \n",
      "=================================================================\n",
      " conv2d_16 (Conv2D)          (None, 300, 200, 16)      1216      \n",
      "                                                                 \n",
      " max_pooling2d_15 (MaxPoolin  (None, 150, 100, 16)     0         \n",
      " g2D)                                                            \n",
      "                                                                 \n",
      " conv2d_17 (Conv2D)          (None, 150, 100, 32)      12832     \n",
      "                                                                 \n",
      " max_pooling2d_16 (MaxPoolin  (None, 75, 50, 32)       0         \n",
      " g2D)                                                            \n",
      "                                                                 \n",
      " conv2d_18 (Conv2D)          (None, 75, 50, 64)        18496     \n",
      "                                                                 \n",
      " max_pooling2d_17 (MaxPoolin  (None, 37, 25, 64)       0         \n",
      " g2D)                                                            \n",
      "                                                                 \n",
      " flatten_5 (Flatten)         (None, 59200)             0         \n",
      "                                                                 \n",
      " dense_10 (Dense)            (None, 224)               13261024  \n",
      "                                                                 \n",
      " dropout_5 (Dropout)         (None, 224)               0         \n",
      "                                                                 \n",
      " dense_11 (Dense)            (None, 6)                 1350      \n",
      "                                                                 \n",
      "=================================================================\n",
      "Total params: 13,294,918\n",
      "Trainable params: 13,294,918\n",
      "Non-trainable params: 0\n",
      "_________________________________________________________________\n"
     ]
    }
   ],
   "source": [
    "model.summary()"
   ]
  },
  {
   "cell_type": "code",
   "execution_count": null,
   "metadata": {},
   "outputs": [
    {
     "name": "stdout",
     "output_type": "stream",
     "text": [
      "You must install pydot (`pip install pydot`) and install graphviz (see instructions at https://graphviz.gitlab.io/download/) for plot_model/model_to_dot to work.\n"
     ]
    }
   ],
   "source": [
    "plot_model(model, show_shapes=True)"
   ]
  },
  {
   "cell_type": "markdown",
   "metadata": {},
   "source": [
    "### Training"
   ]
  },
  {
   "cell_type": "code",
   "execution_count": null,
   "metadata": {},
   "outputs": [],
   "source": [
    "# 검증 데이터에 대한 loss값 5번 연속 개선되지 않으면 학습 중지\n",
    "MODEL_PATH = 'tour_model.h5'\n",
    "stopCB = EarlyStopping(monitor='val_loss', patience=5)\n",
    "cpCB = ModelCheckpoint(filepath=MODEL_PATH, verbose=1, save_best_only=True)\n",
    "epochs = 10\n",
    "batch_size = 64"
   ]
  },
  {
   "cell_type": "code",
   "execution_count": null,
   "metadata": {},
   "outputs": [
    {
     "name": "stdout",
     "output_type": "stream",
     "text": [
      "Epoch 1/10\n",
      "150/150 [==============================] - ETA: 0s - loss: 40.7049 - accuracy: 0.3547\n",
      "Epoch 1: val_loss improved from inf to 1.47280, saving model to tour_model.h5\n",
      "150/150 [==============================] - 224s 1s/step - loss: 40.7049 - accuracy: 0.3547 - val_loss: 1.4728 - val_accuracy: 0.4157\n",
      "Epoch 2/10\n",
      "150/150 [==============================] - ETA: 0s - loss: 1.4776 - accuracy: 0.4230\n",
      "Epoch 2: val_loss improved from 1.47280 to 1.42857, saving model to tour_model.h5\n",
      "150/150 [==============================] - 201s 1s/step - loss: 1.4776 - accuracy: 0.4230 - val_loss: 1.4286 - val_accuracy: 0.4471\n",
      "Epoch 3/10\n",
      "150/150 [==============================] - ETA: 0s - loss: 1.4040 - accuracy: 0.4465\n",
      "Epoch 3: val_loss improved from 1.42857 to 1.40623, saving model to tour_model.h5\n",
      "150/150 [==============================] - 195s 1s/step - loss: 1.4040 - accuracy: 0.4465 - val_loss: 1.4062 - val_accuracy: 0.4543\n",
      "Epoch 4/10\n",
      "150/150 [==============================] - ETA: 0s - loss: 1.3395 - accuracy: 0.4767\n",
      "Epoch 4: val_loss did not improve from 1.40623\n",
      "150/150 [==============================] - 180s 1s/step - loss: 1.3395 - accuracy: 0.4767 - val_loss: 1.4101 - val_accuracy: 0.4474\n",
      "Epoch 5/10\n",
      "150/150 [==============================] - ETA: 0s - loss: 1.2844 - accuracy: 0.5019\n",
      "Epoch 5: val_loss did not improve from 1.40623\n",
      "150/150 [==============================] - 174s 1s/step - loss: 1.2844 - accuracy: 0.5019 - val_loss: 1.4523 - val_accuracy: 0.4349\n",
      "Epoch 6/10\n",
      "150/150 [==============================] - ETA: 0s - loss: 1.2119 - accuracy: 0.5199\n",
      "Epoch 6: val_loss did not improve from 1.40623\n",
      "150/150 [==============================] - 197s 1s/step - loss: 1.2119 - accuracy: 0.5199 - val_loss: 1.4380 - val_accuracy: 0.4480\n",
      "Epoch 7/10\n",
      "150/150 [==============================] - ETA: 0s - loss: 1.1217 - accuracy: 0.5640\n",
      "Epoch 7: val_loss did not improve from 1.40623\n",
      "150/150 [==============================] - 193s 1s/step - loss: 1.1217 - accuracy: 0.5640 - val_loss: 1.4799 - val_accuracy: 0.4644\n",
      "Epoch 8/10\n",
      "150/150 [==============================] - ETA: 0s - loss: 1.0270 - accuracy: 0.6033\n",
      "Epoch 8: val_loss did not improve from 1.40623\n",
      "150/150 [==============================] - 193s 1s/step - loss: 1.0270 - accuracy: 0.6033 - val_loss: 1.4988 - val_accuracy: 0.4484\n"
     ]
    }
   ],
   "source": [
    "# fit() 메서드 -> 반환값 : History 객체\n",
    "result = model.fit(X_train, y_train, \n",
    "                   epochs=epochs,\n",
    "                   batch_size=batch_size,\n",
    "                   validation_data=(X_val, y_val),\n",
    "                   callbacks=[stopCB, cpCB])"
   ]
  },
  {
   "cell_type": "code",
   "execution_count": null,
   "metadata": {},
   "outputs": [],
   "source": []
  },
  {
   "cell_type": "code",
   "execution_count": null,
   "metadata": {},
   "outputs": [],
   "source": []
  },
  {
   "cell_type": "code",
   "execution_count": null,
   "metadata": {},
   "outputs": [],
   "source": []
  },
  {
   "cell_type": "markdown",
   "metadata": {},
   "source": [
    "#### 다른 방식"
   ]
  },
  {
   "cell_type": "code",
   "execution_count": 86,
   "metadata": {},
   "outputs": [],
   "source": [
    "train_path = '../data/open/image/train'\n",
    "test_path = '../data/open/image/test'"
   ]
  },
  {
   "cell_type": "code",
   "execution_count": 87,
   "metadata": {},
   "outputs": [],
   "source": [
    "idg = ImageDataGenerator(rescale=1/255,\n",
    "                         zoom_range=0.1,\n",
    "                         brightness_range=[0.9,0.1])\n",
    "\n",
    "image_shape = (300,200,3)\n",
    "batch_size = 32"
   ]
  },
  {
   "cell_type": "code",
   "execution_count": 90,
   "metadata": {},
   "outputs": [
    {
     "name": "stdout",
     "output_type": "stream",
     "text": [
      "Found 0 images belonging to 6 classes.\n",
      "Found 0 images belonging to 6 classes.\n"
     ]
    }
   ],
   "source": [
    "train_data = idg.flow_from_directory(train_path,\n",
    "                                     target_size=(300,300),\n",
    "                                     color_mode=\"rgb\",\n",
    "                                     classes={'인문(문화/예술/역사)': 0, '음식': 1, '레포츠':2, '자연':3, '숙박':4, '쇼핑':5},\n",
    "                                     batch_size=batch_size,\n",
    "                                     class_mode='categorical',\n",
    "                                     shuffle=True,\n",
    "                                     seed=0)\n",
    "\n",
    "test_data = idg.flow_from_directory(test_path,\n",
    "                                    target_size=(300,300),\n",
    "                                    color_mode=\"rgb\",\n",
    "                                    classes={'인문(문화/예술/역사)': 0, '음식': 1, '레포츠':2, '자연':3, '숙박':4, '쇼핑':5},\n",
    "                                    batch_size=batch_size,\n",
    "                                    class_mode='categorical',\n",
    "                                    shuffle=False,\n",
    "                                    seed=0)"
   ]
  },
  {
   "cell_type": "code",
   "execution_count": 93,
   "metadata": {},
   "outputs": [
    {
     "name": "stdout",
     "output_type": "stream",
     "text": [
      "Found 0 images belonging to 0 classes.\n"
     ]
    }
   ],
   "source": [
    "train_data = idg.flow_from_directory(train_path,\n",
    "                                     target_size=(300,300),\n",
    "                                     color_mode=\"rgb\",\n",
    "                                     batch_size=batch_size,\n",
    "                                     shuffle=True,\n",
    "                                     seed=0)"
   ]
  },
  {
   "cell_type": "code",
   "execution_count": 63,
   "metadata": {},
   "outputs": [
    {
     "data": {
      "text/plain": [
       "{'인문(문화/예술/역사)': 0, '음식': 1, '레포츠': 2, '자연': 3, '숙박': 4, '쇼핑': 5}"
      ]
     },
     "execution_count": 63,
     "metadata": {},
     "output_type": "execute_result"
    }
   ],
   "source": [
    "train_data.class_indices"
   ]
  },
  {
   "cell_type": "code",
   "execution_count": null,
   "metadata": {},
   "outputs": [],
   "source": []
  }
 ],
 "metadata": {
  "kernelspec": {
   "display_name": "Python 3.9.13 ('EV_PY39')",
   "language": "python",
   "name": "python3"
  },
  "language_info": {
   "codemirror_mode": {
    "name": "ipython",
    "version": 3
   },
   "file_extension": ".py",
   "mimetype": "text/x-python",
   "name": "python",
   "nbconvert_exporter": "python",
   "pygments_lexer": "ipython3",
   "version": "3.9.13"
  },
  "orig_nbformat": 4,
  "vscode": {
   "interpreter": {
    "hash": "d1dde8d3f1fc6169eb2afb9c884f1482ff31994a855398e316a83a9dc8ff488b"
   }
  }
 },
 "nbformat": 4,
 "nbformat_minor": 2
}
